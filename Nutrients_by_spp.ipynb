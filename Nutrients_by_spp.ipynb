{
 "cells": [
  {
   "cell_type": "markdown",
   "metadata": {},
   "source": [
    "# Model-based estimated fisheries nutrition by EEZ"
   ]
  },
  {
   "cell_type": "code",
   "execution_count": 1,
   "metadata": {},
   "outputs": [],
   "source": [
    "# Import python packages\n",
    "%matplotlib inline\n",
    "import pandas as pd\n",
    "import numpy as np\n",
    "import matplotlib.pyplot as plt\n",
    "import matplotlib as mp\n",
    "import pymc3 as pm\n",
    "import theano as T\n",
    "import theano.tensor as tt\n",
    "import seaborn as sns\n",
    "import scipy as sp\n",
    "import pdb\n",
    "import os as os\n",
    "\n",
    "# Helper functions\n",
    "def indexall(L):\n",
    "    poo = []\n",
    "    for p in L:\n",
    "        if not p in poo:\n",
    "            poo.append(p)\n",
    "    Ix = np.array([poo.index(p) for p in L])\n",
    "    return poo,Ix\n",
    "\n",
    "def subindexall(short,long):\n",
    "    poo = []\n",
    "    out = []\n",
    "    for s,l in zip(short,long):\n",
    "        if not l in poo:\n",
    "            poo.append(l)\n",
    "            out.append(s)\n",
    "    return indexall(out)\n",
    "\n",
    "match = lambda a, b: np.array([ b.index(x) if x in b else None for x in a ])\n",
    "grep = lambda s, l: np.array([i for i in l if s in i])\n",
    "\n",
    "# Function to standardize covariates\n",
    "def stdize(x):\n",
    "    return (x-np.mean(x))/(2*np.std(x))\n",
    "\n",
    "def spanzero(pair):\n",
    "    out = True\n",
    "    if all(pair<0) or all(pair>0):\n",
    "        out = False\n",
    "    return out"
   ]
  },
  {
   "cell_type": "markdown",
   "metadata": {},
   "source": [
    "## Import data sources"
   ]
  },
  {
   "cell_type": "code",
   "execution_count": 2,
   "metadata": {},
   "outputs": [],
   "source": [
    "# Nutritional data\n",
    "ndata = pd.read_excel('Joint_Nutrient_data.xlsx')\n",
    "#Species data\n",
    "sdata = pd.read_csv('SpeciesList_Fishonly_July2020.csv',\";\")"
   ]
  },
  {
   "cell_type": "code",
   "execution_count": 3,
   "metadata": {},
   "outputs": [
    {
     "data": {
      "text/plain": [
       "array(['UniqueID', 'Data', 'taxon_key', 'ScientificName',\n",
       "       'ScientificName_corrected', 'Species', 'Level', 'Genus', 'Family',\n",
       "       'Order', 'Class', 'FamCode', 'GenCode', 'DemersPelagic', 'EnvTemp',\n",
       "       'DepthRangeShallow', 'DepthRangeDeep', 'Lmax', 'BodyShape',\n",
       "       'Feeding_path', 'K', 'tm', 'trophic_level', 'DepthRangeDeepLevel',\n",
       "       'KLevel', 'tmLevel', 'trophic_levelLevel', 'LMaxLevel',\n",
       "       'BodyShapeILevel', 'EnvTempLevel'], dtype=object)"
      ]
     },
     "execution_count": 3,
     "metadata": {},
     "output_type": "execute_result"
    }
   ],
   "source": [
    "sdata.columns.values"
   ]
  },
  {
   "cell_type": "code",
   "execution_count": 4,
   "metadata": {},
   "outputs": [
    {
     "data": {
      "text/plain": [
       "(2440, 30)"
      ]
     },
     "execution_count": 4,
     "metadata": {},
     "output_type": "execute_result"
    }
   ],
   "source": [
    "sdata.shape"
   ]
  },
  {
   "cell_type": "code",
   "execution_count": 5,
   "metadata": {},
   "outputs": [],
   "source": [
    "#sdata = sdata[sdata.Class!='Elasmobranchii']"
   ]
  },
  {
   "cell_type": "code",
   "execution_count": 6,
   "metadata": {},
   "outputs": [],
   "source": [
    "# Change columns to match previous\n",
    "sdata['LMax'] = sdata.Lmax\n",
    "sdata['DemersPelag'] = sdata.DemersPelagic\n",
    "sdata['BodyShapeI'] = sdata.BodyShape\n"
   ]
  },
  {
   "cell_type": "code",
   "execution_count": 7,
   "metadata": {},
   "outputs": [],
   "source": [
    "# Add in mean for missing values\n",
    "sdata.K = sdata.K.fillna(sdata.K.mean())\n",
    "sdata.tm = sdata.tm.fillna(sdata.tm.mean())\n",
    "sdata.trophic_level = sdata.trophic_level.fillna(sdata.trophic_level.mean())\n",
    "sdata.DepthRangeDeep = sdata.DepthRangeDeep.fillna(sdata.DepthRangeDeep.mean())\n",
    "sdata.LMax = sdata.LMax.fillna(sdata.LMax.mean())"
   ]
  },
  {
   "cell_type": "code",
   "execution_count": 8,
   "metadata": {},
   "outputs": [
    {
     "data": {
      "text/plain": [
       "(2440, 33)"
      ]
     },
     "execution_count": 8,
     "metadata": {},
     "output_type": "execute_result"
    }
   ],
   "source": [
    "sdata.shape"
   ]
  },
  {
   "cell_type": "code",
   "execution_count": 9,
   "metadata": {},
   "outputs": [],
   "source": [
    "Nutrients = ['Protein', 'Zinc', 'Iron', 'Calcium', 'Omega3', 'Vitamin_A', 'Selenium']\n",
    "Nkeys = ['Protein_Value_perc', 'Zn_Value', 'Fe_Value', 'Ca_Value', 'O3_Value', 'VitA_Value', 'Se_Value']\n",
    "nnutrients = len(Nutrients)"
   ]
  },
  {
   "cell_type": "markdown",
   "metadata": {
    "collapsed": true
   },
   "source": [
    "## Import results"
   ]
  },
  {
   "cell_type": "code",
   "execution_count": 10,
   "metadata": {},
   "outputs": [],
   "source": [
    "Protein = pd.read_csv('Protein_results.csv')\n",
    "Zinc = pd.read_csv('Zinc_results.csv')\n",
    "Iron = pd.read_csv('Iron_results.csv')\n",
    "Calcium = pd.read_csv('Calcium_results.csv')\n",
    "Omega3 = pd.read_csv('Omega-3_results.csv')\n",
    "Vitamin_A = pd.read_csv('Vitamin_A_results.csv')\n",
    "Selenium = pd.read_csv('Selenium_results.csv')\n",
    "\n",
    "Results = [Protein, Zinc, Iron, Calcium, Omega3, Vitamin_A, Selenium]"
   ]
  },
  {
   "cell_type": "code",
   "execution_count": 11,
   "metadata": {},
   "outputs": [
    {
     "data": {
      "text/plain": [
       "Index(['Unnamed: 0', 'Intercept', 'pelagic_neritic', 'pelagic_oceanic',\n",
       "       'benthopelagic', 'reef_associated', 'polar_deep', 'subtropical',\n",
       "       'tropical', 'MaxDepth', 'TL', 'pelagic', 'LMax', 'elongate',\n",
       "       'short_deep', 'flat', 'K', 'tm', 'whole_parts', 'whole', 'unknown',\n",
       "       'Expert', 'FAO', 'nu', 'Sigma', 'demersal', 'temperate', 'fusiform',\n",
       "       'muscle', 'wet', 'WOS'],\n",
       "      dtype='object')"
      ]
     },
     "execution_count": 11,
     "metadata": {},
     "output_type": "execute_result"
    }
   ],
   "source": [
    "Selenium.columns"
   ]
  },
  {
   "cell_type": "code",
   "execution_count": 12,
   "metadata": {},
   "outputs": [],
   "source": [
    "varord = ['reef_associated', 'benthopelagic', 'pelagic_neritic',\n",
    "       'pelagic_oceanic', 'subtropical', 'polar_deep', 'tropical', 'MaxDepth', 'TL',\n",
    "       'Pelagic', 'LMax', 'short_deep', 'elongate', 'flat', 'K', 'tm', 'whole',\n",
    "       'whole_part', 'dry', 'Expert', 'FAO']\n",
    "varnames = ['Reef assoc.', 'Benthopelagic', 'Pelagic-neritic',\n",
    "       'Pelagic-oceanic', 'Subtropical', 'Polar/deep', 'Tropical', 'Max depth', 'Trophic level',\n",
    "       'Pelagic', 'Max length', 'Short-deep', 'Elongate', 'Flat', 'K', 'Maturity age', 'Whole',\n",
    "       'Whole-noparts', 'Dry', 'Expert', 'FAO']\n",
    "nvar = len(varnames)"
   ]
  },
  {
   "cell_type": "markdown",
   "metadata": {},
   "source": [
    "# Spp predictions"
   ]
  },
  {
   "cell_type": "code",
   "execution_count": 13,
   "metadata": {},
   "outputs": [
    {
     "data": {
      "text/plain": [
       "2440"
      ]
     },
     "execution_count": 13,
     "metadata": {},
     "output_type": "execute_result"
    }
   ],
   "source": [
    "nrows = sdata.shape[0]\n",
    "nrows"
   ]
  },
  {
   "cell_type": "code",
   "execution_count": 14,
   "metadata": {},
   "outputs": [],
   "source": [
    "# Specify nutrient\n",
    "REZ = Protein\n",
    "\n",
    "# Add empty columns to SAU data\n",
    "xmu = np.empty(nrows)\n",
    "xl95 = np.empty(nrows)\n",
    "xl50 = np.empty(nrows)\n",
    "xu50 = np.empty(nrows)\n",
    "xu95 = np.empty(nrows)\n",
    "\n",
    "for i in range(nrows):\n",
    "    #print(i/nrows)\n",
    "    # μ = β0+β1[Ih]+β2[Ic]+β3*MaxDepth+β4*TL+β5*Pelagic+β6*LMax+β7[Ib]+β8*K+β9*tm+β10[If]+β11[Ip]+β12[Is]\n",
    "    tmp = sdata.iloc[i]\n",
    "    # Expected nutrients\n",
    "    Ex = REZ['Intercept'].values+REZ[tmp['DemersPelag']].values+REZ[tmp['EnvTemp']].values+REZ['MaxDepth'].values*np.log(tmp['DepthRangeDeep'])+REZ['TL'].values*tmp['trophic_level']+REZ['pelagic'].values*1*(tmp['Feeding_path']=='pelagic')+REZ['LMax'].values*np.log(tmp['LMax'])+REZ[tmp['BodyShapeI']].values+REZ['K'].values*tmp['K']+REZ['tm'].values*np.log(tmp['tm'])\n",
    "    # Scaled to catch - g/100g to kg/yr = g/kg/yr\n",
    "    #nut = ((np.exp(Ex)-1)*10)*np.log(tmp['kg_year']/1000+1)\n",
    "    nut = np.exp(Ex)\n",
    "    \n",
    "    # Add summary statistics to SAU data\n",
    "    xmu[i] = max(np.median(nut),0)\n",
    "    xl95[i] = max(np.percentile(nut,2.5),0)\n",
    "    xl50[i] = max(np.percentile(nut,25),0)\n",
    "    xu50[i] = max(np.percentile(nut,75),0)\n",
    "    xu95[i] = max(np.percentile(nut,97.5),0)\n",
    "    \n",
    "sdata['Protein_mu'] = xmu\n",
    "sdata['Protein_l95'] = xl95\n",
    "sdata['Protein_l50'] = xl50\n",
    "sdata['Protein_u50'] = xu50\n",
    "sdata['Protein_u95'] = xu95"
   ]
  },
  {
   "cell_type": "code",
   "execution_count": 15,
   "metadata": {},
   "outputs": [
    {
     "data": {
      "text/html": [
       "<div>\n",
       "<style scoped>\n",
       "    .dataframe tbody tr th:only-of-type {\n",
       "        vertical-align: middle;\n",
       "    }\n",
       "\n",
       "    .dataframe tbody tr th {\n",
       "        vertical-align: top;\n",
       "    }\n",
       "\n",
       "    .dataframe thead th {\n",
       "        text-align: right;\n",
       "    }\n",
       "</style>\n",
       "<table border=\"1\" class=\"dataframe\">\n",
       "  <thead>\n",
       "    <tr style=\"text-align: right;\">\n",
       "      <th></th>\n",
       "      <th>UniqueID</th>\n",
       "      <th>Data</th>\n",
       "      <th>taxon_key</th>\n",
       "      <th>ScientificName</th>\n",
       "      <th>ScientificName_corrected</th>\n",
       "      <th>Species</th>\n",
       "      <th>Level</th>\n",
       "      <th>Genus</th>\n",
       "      <th>Family</th>\n",
       "      <th>Order</th>\n",
       "      <th>...</th>\n",
       "      <th>BodyShapeILevel</th>\n",
       "      <th>EnvTempLevel</th>\n",
       "      <th>LMax</th>\n",
       "      <th>DemersPelag</th>\n",
       "      <th>BodyShapeI</th>\n",
       "      <th>Protein_mu</th>\n",
       "      <th>Protein_l95</th>\n",
       "      <th>Protein_l50</th>\n",
       "      <th>Protein_u50</th>\n",
       "      <th>Protein_u95</th>\n",
       "    </tr>\n",
       "  </thead>\n",
       "  <tbody>\n",
       "  </tbody>\n",
       "</table>\n",
       "<p>0 rows × 38 columns</p>\n",
       "</div>"
      ],
      "text/plain": [
       "Empty DataFrame\n",
       "Columns: [UniqueID, Data, taxon_key, ScientificName, ScientificName_corrected, Species, Level, Genus, Family, Order, Class, FamCode, GenCode, DemersPelagic, EnvTemp, DepthRangeShallow, DepthRangeDeep, Lmax, BodyShape, Feeding_path, K, tm, trophic_level, DepthRangeDeepLevel, KLevel, tmLevel, trophic_levelLevel, LMaxLevel, BodyShapeILevel, EnvTempLevel, LMax, DemersPelag, BodyShapeI, Protein_mu, Protein_l95, Protein_l50, Protein_u50, Protein_u95]\n",
       "Index: []\n",
       "\n",
       "[0 rows x 38 columns]"
      ]
     },
     "execution_count": 15,
     "metadata": {},
     "output_type": "execute_result"
    }
   ],
   "source": [
    "sdata[np.isinf(xmu)]"
   ]
  },
  {
   "cell_type": "code",
   "execution_count": 16,
   "metadata": {},
   "outputs": [
    {
     "data": {
      "text/html": [
       "<div>\n",
       "<style scoped>\n",
       "    .dataframe tbody tr th:only-of-type {\n",
       "        vertical-align: middle;\n",
       "    }\n",
       "\n",
       "    .dataframe tbody tr th {\n",
       "        vertical-align: top;\n",
       "    }\n",
       "\n",
       "    .dataframe thead th {\n",
       "        text-align: right;\n",
       "    }\n",
       "</style>\n",
       "<table border=\"1\" class=\"dataframe\">\n",
       "  <thead>\n",
       "    <tr style=\"text-align: right;\">\n",
       "      <th></th>\n",
       "      <th>UniqueID</th>\n",
       "      <th>Data</th>\n",
       "      <th>taxon_key</th>\n",
       "      <th>ScientificName</th>\n",
       "      <th>ScientificName_corrected</th>\n",
       "      <th>Species</th>\n",
       "      <th>Level</th>\n",
       "      <th>Genus</th>\n",
       "      <th>Family</th>\n",
       "      <th>Order</th>\n",
       "      <th>...</th>\n",
       "      <th>BodyShapeILevel</th>\n",
       "      <th>EnvTempLevel</th>\n",
       "      <th>LMax</th>\n",
       "      <th>DemersPelag</th>\n",
       "      <th>BodyShapeI</th>\n",
       "      <th>Protein_mu</th>\n",
       "      <th>Protein_l95</th>\n",
       "      <th>Protein_l50</th>\n",
       "      <th>Protein_u50</th>\n",
       "      <th>Protein_u95</th>\n",
       "    </tr>\n",
       "  </thead>\n",
       "  <tbody>\n",
       "  </tbody>\n",
       "</table>\n",
       "<p>0 rows × 38 columns</p>\n",
       "</div>"
      ],
      "text/plain": [
       "Empty DataFrame\n",
       "Columns: [UniqueID, Data, taxon_key, ScientificName, ScientificName_corrected, Species, Level, Genus, Family, Order, Class, FamCode, GenCode, DemersPelagic, EnvTemp, DepthRangeShallow, DepthRangeDeep, Lmax, BodyShape, Feeding_path, K, tm, trophic_level, DepthRangeDeepLevel, KLevel, tmLevel, trophic_levelLevel, LMaxLevel, BodyShapeILevel, EnvTempLevel, LMax, DemersPelag, BodyShapeI, Protein_mu, Protein_l95, Protein_l50, Protein_u50, Protein_u95]\n",
       "Index: []\n",
       "\n",
       "[0 rows x 38 columns]"
      ]
     },
     "execution_count": 16,
     "metadata": {},
     "output_type": "execute_result"
    }
   ],
   "source": [
    "sdata[xmu==0]"
   ]
  },
  {
   "cell_type": "code",
   "execution_count": 17,
   "metadata": {},
   "outputs": [
    {
     "data": {
      "image/png": "[encoded data removed]",
      "text/plain": [
       "<Figure size 432x288 with 1 Axes>"
      ]
     },
     "metadata": {
      "needs_background": "light"
     },
     "output_type": "display_data"
    }
   ],
   "source": [
    "plt.hist(sdata['Protein_mu'])\n",
    "plt.xlim(5,35);"
   ]
  },
  {
   "cell_type": "code",
   "execution_count": 18,
   "metadata": {},
   "outputs": [
    {
     "data": {
      "image/png": "[encoded data removed]",
      "text/plain": [
       "<Figure size 432x288 with 1 Axes>"
      ]
     },
     "metadata": {
      "needs_background": "light"
     },
     "output_type": "display_data"
    }
   ],
   "source": [
    "Y_ = ndata.Protein_Value_perc.values\n",
    "indx = np.isnan(Y_)==False\n",
    "Y = Y_[indx]\n",
    "plt.hist(Y,bins=20)\n",
    "plt.xlim(5,35);"
   ]
  },
  {
   "cell_type": "code",
   "execution_count": 19,
   "metadata": {},
   "outputs": [
    {
     "data": {
      "text/plain": [
       "(array([18.06872594, 19.71527734, 22.45062753]),\n",
       " array([12.103, 19.   , 23.5  ]))"
      ]
     },
     "execution_count": 19,
     "metadata": {},
     "output_type": "execute_result"
    }
   ],
   "source": [
    "np.percentile(sdata['Protein_mu'],(5,50,95)), np.percentile(Y,(5,50,95))"
   ]
  },
  {
   "cell_type": "code",
   "execution_count": 20,
   "metadata": {},
   "outputs": [
    {
     "data": {
      "text/plain": [
       "Index(['Unnamed: 0', 'Intercept', 'reef_associated', 'benthopelagic',\n",
       "       'pelagic_neritic', 'pelagic_oceanic', 'subtropical', 'polar_deep',\n",
       "       'tropical', 'MaxDepth', 'TL', 'pelagic', 'LMax', 'short_deep',\n",
       "       'elongate', 'flat', 'K', 'tm', 'whole', 'whole_parts', 'unknown',\n",
       "       'unknown.1', 'dry', 'Expert', 'FAO', 'Sigma', 'demersal', 'temperate',\n",
       "       'fusiform', 'muscle', 'wet', 'WOS'],\n",
       "      dtype='object')"
      ]
     },
     "execution_count": 20,
     "metadata": {},
     "output_type": "execute_result"
    }
   ],
   "source": [
    "REZ.columns"
   ]
  },
  {
   "cell_type": "code",
   "execution_count": 21,
   "metadata": {},
   "outputs": [],
   "source": [
    "# Specify nutrient\n",
    "REZ = Zinc\n",
    "\n",
    "# Add empty columns to SAU data\n",
    "xmu = np.empty(nrows)\n",
    "xl95 = np.empty(nrows)\n",
    "xl50 = np.empty(nrows)\n",
    "xu50 = np.empty(nrows)\n",
    "xu95 = np.empty(nrows)\n",
    "\n",
    "for i in range(nrows):\n",
    "    #print(i/nrows)\n",
    "    # μ = β0+β1[Ih]+β2[Ic]+β3*MaxDepth+β4*TL+β5*Pelagic+β6*LMax+β7[Ib]+β8*K+β9*tm+β10[If]+β11[Ip]+β12[Is]\n",
    "    tmp = sdata.iloc[i]\n",
    "    # Expected nutrients\n",
    "    Ex = REZ['Intercept'].values+REZ[tmp['DemersPelag']].values+REZ[tmp['EnvTemp']].values+REZ['MaxDepth'].values*np.log(tmp['DepthRangeDeep'])+REZ['TL'].values*tmp['trophic_level']+REZ['pelagic'].values*1*(tmp['Feeding_path']=='pelagic')+REZ['LMax'].values*np.log(tmp['LMax'])+REZ[tmp['BodyShapeI']].values+REZ['K'].values*tmp['K']+REZ['tm'].values*np.log(tmp['tm'])\n",
    "    # Scaled to catch - g/100g to kg/yr = g/kg/yr\n",
    "    #nut = ((np.exp(Ex)-1)*10)*np.log(tmp['kg_year']/1000+1)\n",
    "    # double exponential - log-link on log scale\n",
    "    nut = np.exp(np.exp(Ex))-1\n",
    "    \n",
    "    # Add summary statistics to SAU data\n",
    "    xmu[i] = max(np.median(nut),0)\n",
    "    xl95[i] = max(np.percentile(nut,2.5),0)\n",
    "    xl50[i] = max(np.percentile(nut,25),0)\n",
    "    xu50[i] = max(np.percentile(nut,75),0)\n",
    "    xu95[i] = max(np.percentile(nut,97.5),0)\n",
    "    \n",
    "sdata['Zinc_mu'] = xmu\n",
    "sdata['Zinc_l95'] = xl95\n",
    "sdata['Zinc_l50'] = xl50\n",
    "sdata['Zinc_u50'] = xu50\n",
    "sdata['Zinc_u95'] = xu95"
   ]
  },
  {
   "cell_type": "code",
   "execution_count": 22,
   "metadata": {},
   "outputs": [
    {
     "data": {
      "text/html": [
       "<div>\n",
       "<style scoped>\n",
       "    .dataframe tbody tr th:only-of-type {\n",
       "        vertical-align: middle;\n",
       "    }\n",
       "\n",
       "    .dataframe tbody tr th {\n",
       "        vertical-align: top;\n",
       "    }\n",
       "\n",
       "    .dataframe thead th {\n",
       "        text-align: right;\n",
       "    }\n",
       "</style>\n",
       "<table border=\"1\" class=\"dataframe\">\n",
       "  <thead>\n",
       "    <tr style=\"text-align: right;\">\n",
       "      <th></th>\n",
       "      <th>UniqueID</th>\n",
       "      <th>Data</th>\n",
       "      <th>taxon_key</th>\n",
       "      <th>ScientificName</th>\n",
       "      <th>ScientificName_corrected</th>\n",
       "      <th>Species</th>\n",
       "      <th>Level</th>\n",
       "      <th>Genus</th>\n",
       "      <th>Family</th>\n",
       "      <th>Order</th>\n",
       "      <th>...</th>\n",
       "      <th>Protein_mu</th>\n",
       "      <th>Protein_l95</th>\n",
       "      <th>Protein_l50</th>\n",
       "      <th>Protein_u50</th>\n",
       "      <th>Protein_u95</th>\n",
       "      <th>Zinc_mu</th>\n",
       "      <th>Zinc_l95</th>\n",
       "      <th>Zinc_l50</th>\n",
       "      <th>Zinc_u50</th>\n",
       "      <th>Zinc_u95</th>\n",
       "    </tr>\n",
       "  </thead>\n",
       "  <tbody>\n",
       "  </tbody>\n",
       "</table>\n",
       "<p>0 rows × 43 columns</p>\n",
       "</div>"
      ],
      "text/plain": [
       "Empty DataFrame\n",
       "Columns: [UniqueID, Data, taxon_key, ScientificName, ScientificName_corrected, Species, Level, Genus, Family, Order, Class, FamCode, GenCode, DemersPelagic, EnvTemp, DepthRangeShallow, DepthRangeDeep, Lmax, BodyShape, Feeding_path, K, tm, trophic_level, DepthRangeDeepLevel, KLevel, tmLevel, trophic_levelLevel, LMaxLevel, BodyShapeILevel, EnvTempLevel, LMax, DemersPelag, BodyShapeI, Protein_mu, Protein_l95, Protein_l50, Protein_u50, Protein_u95, Zinc_mu, Zinc_l95, Zinc_l50, Zinc_u50, Zinc_u95]\n",
       "Index: []\n",
       "\n",
       "[0 rows x 43 columns]"
      ]
     },
     "execution_count": 22,
     "metadata": {},
     "output_type": "execute_result"
    }
   ],
   "source": [
    "sdata[np.isinf(xmu)]"
   ]
  },
  {
   "cell_type": "code",
   "execution_count": 23,
   "metadata": {},
   "outputs": [
    {
     "data": {
      "text/html": [
       "<div>\n",
       "<style scoped>\n",
       "    .dataframe tbody tr th:only-of-type {\n",
       "        vertical-align: middle;\n",
       "    }\n",
       "\n",
       "    .dataframe tbody tr th {\n",
       "        vertical-align: top;\n",
       "    }\n",
       "\n",
       "    .dataframe thead th {\n",
       "        text-align: right;\n",
       "    }\n",
       "</style>\n",
       "<table border=\"1\" class=\"dataframe\">\n",
       "  <thead>\n",
       "    <tr style=\"text-align: right;\">\n",
       "      <th></th>\n",
       "      <th>UniqueID</th>\n",
       "      <th>Data</th>\n",
       "      <th>taxon_key</th>\n",
       "      <th>ScientificName</th>\n",
       "      <th>ScientificName_corrected</th>\n",
       "      <th>Species</th>\n",
       "      <th>Level</th>\n",
       "      <th>Genus</th>\n",
       "      <th>Family</th>\n",
       "      <th>Order</th>\n",
       "      <th>...</th>\n",
       "      <th>Protein_mu</th>\n",
       "      <th>Protein_l95</th>\n",
       "      <th>Protein_l50</th>\n",
       "      <th>Protein_u50</th>\n",
       "      <th>Protein_u95</th>\n",
       "      <th>Zinc_mu</th>\n",
       "      <th>Zinc_l95</th>\n",
       "      <th>Zinc_l50</th>\n",
       "      <th>Zinc_u50</th>\n",
       "      <th>Zinc_u95</th>\n",
       "    </tr>\n",
       "  </thead>\n",
       "  <tbody>\n",
       "  </tbody>\n",
       "</table>\n",
       "<p>0 rows × 43 columns</p>\n",
       "</div>"
      ],
      "text/plain": [
       "Empty DataFrame\n",
       "Columns: [UniqueID, Data, taxon_key, ScientificName, ScientificName_corrected, Species, Level, Genus, Family, Order, Class, FamCode, GenCode, DemersPelagic, EnvTemp, DepthRangeShallow, DepthRangeDeep, Lmax, BodyShape, Feeding_path, K, tm, trophic_level, DepthRangeDeepLevel, KLevel, tmLevel, trophic_levelLevel, LMaxLevel, BodyShapeILevel, EnvTempLevel, LMax, DemersPelag, BodyShapeI, Protein_mu, Protein_l95, Protein_l50, Protein_u50, Protein_u95, Zinc_mu, Zinc_l95, Zinc_l50, Zinc_u50, Zinc_u95]\n",
       "Index: []\n",
       "\n",
       "[0 rows x 43 columns]"
      ]
     },
     "execution_count": 23,
     "metadata": {},
     "output_type": "execute_result"
    }
   ],
   "source": [
    "sdata[xmu==0]"
   ]
  },
  {
   "cell_type": "code",
   "execution_count": 24,
   "metadata": {},
   "outputs": [
    {
     "data": {
      "image/png": "[encoded data removed]",
      "text/plain": [
       "<Figure size 432x288 with 1 Axes>"
      ]
     },
     "metadata": {
      "needs_background": "light"
     },
     "output_type": "display_data"
    }
   ],
   "source": [
    "plt.hist(sdata['Zinc_mu'])\n",
    "plt.xlim(0,12);"
   ]
  },
  {
   "cell_type": "code",
   "execution_count": 25,
   "metadata": {},
   "outputs": [
    {
     "data": {
      "image/png": "[encoded data removed]",
      "text/plain": [
       "<Figure size 432x288 with 1 Axes>"
      ]
     },
     "metadata": {
      "needs_background": "light"
     },
     "output_type": "display_data"
    }
   ],
   "source": [
    "Y_ = ndata.Zn_Value.values\n",
    "indx = np.isnan(Y_)==False\n",
    "Y = Y_[indx]\n",
    "plt.hist(Y,bins=50)\n",
    "plt.xlim(0,12);"
   ]
  },
  {
   "cell_type": "code",
   "execution_count": 26,
   "metadata": {},
   "outputs": [
    {
     "data": {
      "text/plain": [
       "(array([0.23253482, 0.64232257, 1.81712178]),\n",
       " array([0.193249, 1.297   , 5.56    ]))"
      ]
     },
     "execution_count": 26,
     "metadata": {},
     "output_type": "execute_result"
    }
   ],
   "source": [
    "np.percentile(sdata['Zinc_mu'],(5,50,95)), np.percentile(Y,(5,50,95))"
   ]
  },
  {
   "cell_type": "code",
   "execution_count": 27,
   "metadata": {},
   "outputs": [],
   "source": [
    "# Specify nutrient\n",
    "REZ = Iron\n",
    "\n",
    "# Add empty columns to SAU data\n",
    "xmu = np.empty(nrows)\n",
    "xl95 = np.empty(nrows)\n",
    "xl50 = np.empty(nrows)\n",
    "xu50 = np.empty(nrows)\n",
    "xu95 = np.empty(nrows)\n",
    "\n",
    "for i in range(nrows):\n",
    "    #print(i/nrows)\n",
    "    # μ = β0+β1[Ih]+β2[Ic]+β3*MaxDepth+β4*TL+β5*Pelagic+β6*LMax+β7[Ib]+β8*K+β9*tm+β10[If]+β11[Ip]+β12[Is]\n",
    "    tmp = sdata.iloc[i]\n",
    "    # Expected nutrients\n",
    "    Ex = REZ['Intercept'].values+REZ[tmp['DemersPelag']].values+REZ[tmp['EnvTemp']].values+REZ['MaxDepth'].values*np.log(tmp['DepthRangeDeep'])+REZ['TL'].values*tmp['trophic_level']+REZ['pelagic'].values*1*(tmp['Feeding_path']=='pelagic')+REZ['LMax'].values*np.log(tmp['LMax'])+REZ[tmp['BodyShapeI']].values+REZ['K'].values*tmp['K']+REZ['tm'].values*np.log(tmp['tm'])\n",
    "    # Scaled to catch - g/100g to kg/yr = g/kg/yr\n",
    "    #nut = ((np.exp(Ex)-1)*10)*np.log(tmp['kg_year']/1000+1)\n",
    "    # double exponential - log-link on log scale\n",
    "    nut = np.exp(np.exp(Ex))-1\n",
    "    \n",
    "    # Add summary statistics to SAU data\n",
    "    xmu[i] = max(np.median(nut),0)\n",
    "    xl95[i] = max(np.percentile(nut,2.5),0)\n",
    "    xl50[i] = max(np.percentile(nut,25),0)\n",
    "    xu50[i] = max(np.percentile(nut,75),0)\n",
    "    xu95[i] = max(np.percentile(nut,97.5),0)\n",
    "    \n",
    "sdata['Iron_mu'] = xmu\n",
    "sdata['Iron_l95'] = xl95\n",
    "sdata['Iron_l50'] = xl50\n",
    "sdata['Iron_u50'] = xu50\n",
    "sdata['Iron_u95'] = xu95"
   ]
  },
  {
   "cell_type": "code",
   "execution_count": 28,
   "metadata": {},
   "outputs": [
    {
     "data": {
      "text/html": [
       "<div>\n",
       "<style scoped>\n",
       "    .dataframe tbody tr th:only-of-type {\n",
       "        vertical-align: middle;\n",
       "    }\n",
       "\n",
       "    .dataframe tbody tr th {\n",
       "        vertical-align: top;\n",
       "    }\n",
       "\n",
       "    .dataframe thead th {\n",
       "        text-align: right;\n",
       "    }\n",
       "</style>\n",
       "<table border=\"1\" class=\"dataframe\">\n",
       "  <thead>\n",
       "    <tr style=\"text-align: right;\">\n",
       "      <th></th>\n",
       "      <th>UniqueID</th>\n",
       "      <th>Data</th>\n",
       "      <th>taxon_key</th>\n",
       "      <th>ScientificName</th>\n",
       "      <th>ScientificName_corrected</th>\n",
       "      <th>Species</th>\n",
       "      <th>Level</th>\n",
       "      <th>Genus</th>\n",
       "      <th>Family</th>\n",
       "      <th>Order</th>\n",
       "      <th>...</th>\n",
       "      <th>Zinc_mu</th>\n",
       "      <th>Zinc_l95</th>\n",
       "      <th>Zinc_l50</th>\n",
       "      <th>Zinc_u50</th>\n",
       "      <th>Zinc_u95</th>\n",
       "      <th>Iron_mu</th>\n",
       "      <th>Iron_l95</th>\n",
       "      <th>Iron_l50</th>\n",
       "      <th>Iron_u50</th>\n",
       "      <th>Iron_u95</th>\n",
       "    </tr>\n",
       "  </thead>\n",
       "  <tbody>\n",
       "  </tbody>\n",
       "</table>\n",
       "<p>0 rows × 48 columns</p>\n",
       "</div>"
      ],
      "text/plain": [
       "Empty DataFrame\n",
       "Columns: [UniqueID, Data, taxon_key, ScientificName, ScientificName_corrected, Species, Level, Genus, Family, Order, Class, FamCode, GenCode, DemersPelagic, EnvTemp, DepthRangeShallow, DepthRangeDeep, Lmax, BodyShape, Feeding_path, K, tm, trophic_level, DepthRangeDeepLevel, KLevel, tmLevel, trophic_levelLevel, LMaxLevel, BodyShapeILevel, EnvTempLevel, LMax, DemersPelag, BodyShapeI, Protein_mu, Protein_l95, Protein_l50, Protein_u50, Protein_u95, Zinc_mu, Zinc_l95, Zinc_l50, Zinc_u50, Zinc_u95, Iron_mu, Iron_l95, Iron_l50, Iron_u50, Iron_u95]\n",
       "Index: []\n",
       "\n",
       "[0 rows x 48 columns]"
      ]
     },
     "execution_count": 28,
     "metadata": {},
     "output_type": "execute_result"
    }
   ],
   "source": [
    "sdata[np.isinf(xmu)]"
   ]
  },
  {
   "cell_type": "code",
   "execution_count": 29,
   "metadata": {},
   "outputs": [
    {
     "data": {
      "text/html": [
       "<div>\n",
       "<style scoped>\n",
       "    .dataframe tbody tr th:only-of-type {\n",
       "        vertical-align: middle;\n",
       "    }\n",
       "\n",
       "    .dataframe tbody tr th {\n",
       "        vertical-align: top;\n",
       "    }\n",
       "\n",
       "    .dataframe thead th {\n",
       "        text-align: right;\n",
       "    }\n",
       "</style>\n",
       "<table border=\"1\" class=\"dataframe\">\n",
       "  <thead>\n",
       "    <tr style=\"text-align: right;\">\n",
       "      <th></th>\n",
       "      <th>UniqueID</th>\n",
       "      <th>Data</th>\n",
       "      <th>taxon_key</th>\n",
       "      <th>ScientificName</th>\n",
       "      <th>ScientificName_corrected</th>\n",
       "      <th>Species</th>\n",
       "      <th>Level</th>\n",
       "      <th>Genus</th>\n",
       "      <th>Family</th>\n",
       "      <th>Order</th>\n",
       "      <th>...</th>\n",
       "      <th>Zinc_mu</th>\n",
       "      <th>Zinc_l95</th>\n",
       "      <th>Zinc_l50</th>\n",
       "      <th>Zinc_u50</th>\n",
       "      <th>Zinc_u95</th>\n",
       "      <th>Iron_mu</th>\n",
       "      <th>Iron_l95</th>\n",
       "      <th>Iron_l50</th>\n",
       "      <th>Iron_u50</th>\n",
       "      <th>Iron_u95</th>\n",
       "    </tr>\n",
       "  </thead>\n",
       "  <tbody>\n",
       "  </tbody>\n",
       "</table>\n",
       "<p>0 rows × 48 columns</p>\n",
       "</div>"
      ],
      "text/plain": [
       "Empty DataFrame\n",
       "Columns: [UniqueID, Data, taxon_key, ScientificName, ScientificName_corrected, Species, Level, Genus, Family, Order, Class, FamCode, GenCode, DemersPelagic, EnvTemp, DepthRangeShallow, DepthRangeDeep, Lmax, BodyShape, Feeding_path, K, tm, trophic_level, DepthRangeDeepLevel, KLevel, tmLevel, trophic_levelLevel, LMaxLevel, BodyShapeILevel, EnvTempLevel, LMax, DemersPelag, BodyShapeI, Protein_mu, Protein_l95, Protein_l50, Protein_u50, Protein_u95, Zinc_mu, Zinc_l95, Zinc_l50, Zinc_u50, Zinc_u95, Iron_mu, Iron_l95, Iron_l50, Iron_u50, Iron_u95]\n",
       "Index: []\n",
       "\n",
       "[0 rows x 48 columns]"
      ]
     },
     "execution_count": 29,
     "metadata": {},
     "output_type": "execute_result"
    }
   ],
   "source": [
    "sdata[xmu==0]"
   ]
  },
  {
   "cell_type": "code",
   "execution_count": 30,
   "metadata": {},
   "outputs": [
    {
     "data": {
      "image/png": "[encoded data removed]",
      "text/plain": [
       "<Figure size 432x288 with 1 Axes>"
      ]
     },
     "metadata": {
      "needs_background": "light"
     },
     "output_type": "display_data"
    }
   ],
   "source": [
    "plt.hist(sdata['Iron_mu'],bins=10)\n",
    "plt.xlim(0,15);"
   ]
  },
  {
   "cell_type": "code",
   "execution_count": 31,
   "metadata": {},
   "outputs": [
    {
     "data": {
      "image/png": "[encoded data removed]",
      "text/plain": [
       "<Figure size 432x288 with 1 Axes>"
      ]
     },
     "metadata": {
      "needs_background": "light"
     },
     "output_type": "display_data"
    }
   ],
   "source": [
    "Y_ = ndata.Fe_Value.values\n",
    "indx = np.isnan(Y_)==False\n",
    "Y = Y_[indx]\n",
    "plt.hist(Y,bins=100)\n",
    "plt.xlim(0,15);"
   ]
  },
  {
   "cell_type": "code",
   "execution_count": 32,
   "metadata": {},
   "outputs": [
    {
     "data": {
      "text/plain": [
       "(array([0.18706291, 1.29644193, 2.30902253]),\n",
       " array([0.161965, 0.701   , 7.981565]))"
      ]
     },
     "execution_count": 32,
     "metadata": {},
     "output_type": "execute_result"
    }
   ],
   "source": [
    "np.percentile(sdata['Iron_mu'],(5,50,95)), np.percentile(Y,(5,50,95))"
   ]
  },
  {
   "cell_type": "code",
   "execution_count": 33,
   "metadata": {},
   "outputs": [],
   "source": [
    "# Specify nutrient\n",
    "REZ = Calcium\n",
    "\n",
    "# Add empty columns to SAU data\n",
    "xmu = np.empty(nrows)\n",
    "xl95 = np.empty(nrows)\n",
    "xl50 = np.empty(nrows)\n",
    "xu50 = np.empty(nrows)\n",
    "xu95 = np.empty(nrows)\n",
    "\n",
    "for i in range(nrows):\n",
    "    #print(i/nrows)\n",
    "    # μ = β0+β1[Ih]+β2[Ic]+β3*MaxDepth+β4*TL+β5*Pelagic+β6*LMax+β7[Ib]+β8*K+β9*tm+β10[If]+β11[Ip]+β12[Is]\n",
    "    tmp = sdata.iloc[i]\n",
    "    # Expected nutrients\n",
    "    Ex = REZ['Intercept'].values+REZ[tmp['DemersPelag']].values+REZ[tmp['EnvTemp']].values+REZ['MaxDepth'].values*np.log(tmp['DepthRangeDeep'])+REZ['TL'].values*tmp['trophic_level']+REZ['pelagic'].values*1*(tmp['Feeding_path']=='pelagic')+REZ['LMax'].values*np.log(tmp['LMax'])+REZ[tmp['BodyShapeI']].values+REZ['K'].values*tmp['K']+REZ['tm'].values*np.log(tmp['tm'])\n",
    "    # Scaled to catch - g/100g to kg/yr = g/kg/yr\n",
    "    #nut = ((np.exp(Ex)-1)*10)*np.log(tmp['kg_year']/1000+1)\n",
    "    nut = np.exp(Ex)-1\n",
    "    \n",
    "    # Add summary statistics to SAU data\n",
    "    xmu[i] = max(np.median(nut),0)\n",
    "    xl95[i] = max(np.percentile(nut,2.5),0)\n",
    "    xl50[i] = max(np.percentile(nut,25),0)\n",
    "    xu50[i] = max(np.percentile(nut,75),0)\n",
    "    xu95[i] = max(np.percentile(nut,97.5),0)\n",
    "    \n",
    "sdata['Calcium_mu'] = xmu\n",
    "sdata['Calcium_l95'] = xl95\n",
    "sdata['Calcium_l50'] = xl50\n",
    "sdata['Calcium_u50'] = xu50\n",
    "sdata['Calcium_u95'] = xu95"
   ]
  },
  {
   "cell_type": "code",
   "execution_count": 34,
   "metadata": {},
   "outputs": [
    {
     "data": {
      "text/html": [
       "<div>\n",
       "<style scoped>\n",
       "    .dataframe tbody tr th:only-of-type {\n",
       "        vertical-align: middle;\n",
       "    }\n",
       "\n",
       "    .dataframe tbody tr th {\n",
       "        vertical-align: top;\n",
       "    }\n",
       "\n",
       "    .dataframe thead th {\n",
       "        text-align: right;\n",
       "    }\n",
       "</style>\n",
       "<table border=\"1\" class=\"dataframe\">\n",
       "  <thead>\n",
       "    <tr style=\"text-align: right;\">\n",
       "      <th></th>\n",
       "      <th>UniqueID</th>\n",
       "      <th>Data</th>\n",
       "      <th>taxon_key</th>\n",
       "      <th>ScientificName</th>\n",
       "      <th>ScientificName_corrected</th>\n",
       "      <th>Species</th>\n",
       "      <th>Level</th>\n",
       "      <th>Genus</th>\n",
       "      <th>Family</th>\n",
       "      <th>Order</th>\n",
       "      <th>...</th>\n",
       "      <th>Iron_mu</th>\n",
       "      <th>Iron_l95</th>\n",
       "      <th>Iron_l50</th>\n",
       "      <th>Iron_u50</th>\n",
       "      <th>Iron_u95</th>\n",
       "      <th>Calcium_mu</th>\n",
       "      <th>Calcium_l95</th>\n",
       "      <th>Calcium_l50</th>\n",
       "      <th>Calcium_u50</th>\n",
       "      <th>Calcium_u95</th>\n",
       "    </tr>\n",
       "  </thead>\n",
       "  <tbody>\n",
       "  </tbody>\n",
       "</table>\n",
       "<p>0 rows × 53 columns</p>\n",
       "</div>"
      ],
      "text/plain": [
       "Empty DataFrame\n",
       "Columns: [UniqueID, Data, taxon_key, ScientificName, ScientificName_corrected, Species, Level, Genus, Family, Order, Class, FamCode, GenCode, DemersPelagic, EnvTemp, DepthRangeShallow, DepthRangeDeep, Lmax, BodyShape, Feeding_path, K, tm, trophic_level, DepthRangeDeepLevel, KLevel, tmLevel, trophic_levelLevel, LMaxLevel, BodyShapeILevel, EnvTempLevel, LMax, DemersPelag, BodyShapeI, Protein_mu, Protein_l95, Protein_l50, Protein_u50, Protein_u95, Zinc_mu, Zinc_l95, Zinc_l50, Zinc_u50, Zinc_u95, Iron_mu, Iron_l95, Iron_l50, Iron_u50, Iron_u95, Calcium_mu, Calcium_l95, Calcium_l50, Calcium_u50, Calcium_u95]\n",
       "Index: []\n",
       "\n",
       "[0 rows x 53 columns]"
      ]
     },
     "execution_count": 34,
     "metadata": {},
     "output_type": "execute_result"
    }
   ],
   "source": [
    "sdata[np.isinf(xmu)]"
   ]
  },
  {
   "cell_type": "code",
   "execution_count": 35,
   "metadata": {},
   "outputs": [
    {
     "data": {
      "text/html": [
       "<div>\n",
       "<style scoped>\n",
       "    .dataframe tbody tr th:only-of-type {\n",
       "        vertical-align: middle;\n",
       "    }\n",
       "\n",
       "    .dataframe tbody tr th {\n",
       "        vertical-align: top;\n",
       "    }\n",
       "\n",
       "    .dataframe thead th {\n",
       "        text-align: right;\n",
       "    }\n",
       "</style>\n",
       "<table border=\"1\" class=\"dataframe\">\n",
       "  <thead>\n",
       "    <tr style=\"text-align: right;\">\n",
       "      <th></th>\n",
       "      <th>UniqueID</th>\n",
       "      <th>Data</th>\n",
       "      <th>taxon_key</th>\n",
       "      <th>ScientificName</th>\n",
       "      <th>ScientificName_corrected</th>\n",
       "      <th>Species</th>\n",
       "      <th>Level</th>\n",
       "      <th>Genus</th>\n",
       "      <th>Family</th>\n",
       "      <th>Order</th>\n",
       "      <th>...</th>\n",
       "      <th>Iron_mu</th>\n",
       "      <th>Iron_l95</th>\n",
       "      <th>Iron_l50</th>\n",
       "      <th>Iron_u50</th>\n",
       "      <th>Iron_u95</th>\n",
       "      <th>Calcium_mu</th>\n",
       "      <th>Calcium_l95</th>\n",
       "      <th>Calcium_l50</th>\n",
       "      <th>Calcium_u50</th>\n",
       "      <th>Calcium_u95</th>\n",
       "    </tr>\n",
       "  </thead>\n",
       "  <tbody>\n",
       "  </tbody>\n",
       "</table>\n",
       "<p>0 rows × 53 columns</p>\n",
       "</div>"
      ],
      "text/plain": [
       "Empty DataFrame\n",
       "Columns: [UniqueID, Data, taxon_key, ScientificName, ScientificName_corrected, Species, Level, Genus, Family, Order, Class, FamCode, GenCode, DemersPelagic, EnvTemp, DepthRangeShallow, DepthRangeDeep, Lmax, BodyShape, Feeding_path, K, tm, trophic_level, DepthRangeDeepLevel, KLevel, tmLevel, trophic_levelLevel, LMaxLevel, BodyShapeILevel, EnvTempLevel, LMax, DemersPelag, BodyShapeI, Protein_mu, Protein_l95, Protein_l50, Protein_u50, Protein_u95, Zinc_mu, Zinc_l95, Zinc_l50, Zinc_u50, Zinc_u95, Iron_mu, Iron_l95, Iron_l50, Iron_u50, Iron_u95, Calcium_mu, Calcium_l95, Calcium_l50, Calcium_u50, Calcium_u95]\n",
       "Index: []\n",
       "\n",
       "[0 rows x 53 columns]"
      ]
     },
     "execution_count": 35,
     "metadata": {},
     "output_type": "execute_result"
    }
   ],
   "source": [
    "sdata[xmu==0]"
   ]
  },
  {
   "cell_type": "code",
   "execution_count": 36,
   "metadata": {},
   "outputs": [
    {
     "data": {
      "image/png": "[encoded data removed]",
      "text/plain": [
       "<Figure size 432x288 with 1 Axes>"
      ]
     },
     "metadata": {
      "needs_background": "light"
     },
     "output_type": "display_data"
    }
   ],
   "source": [
    "plt.hist(sdata['Calcium_mu'],bins=50)\n",
    "plt.xlim(0,2000);"
   ]
  },
  {
   "cell_type": "code",
   "execution_count": 37,
   "metadata": {},
   "outputs": [
    {
     "data": {
      "image/png": "[encoded data removed]",
      "text/plain": [
       "<Figure size 432x288 with 1 Axes>"
      ]
     },
     "metadata": {
      "needs_background": "light"
     },
     "output_type": "display_data"
    }
   ],
   "source": [
    "Y_ = ndata.Ca_Value.values\n",
    "indx = np.isnan(Y_)==False\n",
    "Y = Y_[indx]\n",
    "plt.hist(Y,bins=50)\n",
    "plt.xlim(0,2000);"
   ]
  },
  {
   "cell_type": "code",
   "execution_count": null,
   "metadata": {},
   "outputs": [],
   "source": []
  },
  {
   "cell_type": "code",
   "execution_count": 38,
   "metadata": {},
   "outputs": [
    {
     "data": {
      "text/plain": [
       "(array([  23.70188112,  252.81560509, 1150.868279  ]),\n",
       " array([  5.78 ,  34.593, 611.65 ]))"
      ]
     },
     "execution_count": 38,
     "metadata": {},
     "output_type": "execute_result"
    }
   ],
   "source": [
    "np.percentile(sdata['Calcium_mu'],(5,50,95)), np.percentile(Y,(5,50,95))"
   ]
  },
  {
   "cell_type": "code",
   "execution_count": 39,
   "metadata": {},
   "outputs": [],
   "source": [
    "# Specify nutrient\n",
    "REZ = Omega3\n",
    "\n",
    "# Add empty columns to SAU data\n",
    "xmu = np.empty(nrows)\n",
    "xl95 = np.empty(nrows)\n",
    "xl50 = np.empty(nrows)\n",
    "xu50 = np.empty(nrows)\n",
    "xu95 = np.empty(nrows)\n",
    "\n",
    "for i in range(nrows):\n",
    "    #print(i/nrows)\n",
    "    # μ = β0+β1[Ih]+β2[Ic]+β3*MaxDepth+β4*TL+β5*Pelagic+β6*LMax+β7[Ib]+β8*K+β9*tm+β10[If]+β11[Ip]+β12[Is]\n",
    "    tmp = sdata.iloc[i]\n",
    "    # Expected nutrients\n",
    "    Ex = REZ['Intercept'].values+REZ[tmp['DemersPelag']].values+REZ[tmp['EnvTemp']].values+REZ['MaxDepth'].values*np.log(tmp['DepthRangeDeep'])+REZ['TL'].values*tmp['trophic_level']+REZ['pelagic'].values*1*(tmp['Feeding_path']=='pelagic')+REZ['LMax'].values*np.log(tmp['LMax'])+REZ[tmp['BodyShapeI']].values+REZ['K'].values*tmp['K']+REZ['tm'].values*np.log(tmp['tm'])\n",
    "    # Scaled to catch - g/100g to kg/yr = g/kg/yr\n",
    "    #nut = ((np.exp(Ex)-1)*10)*np.log(tmp['kg_year']/1000+1)\n",
    "    nut = np.exp(Ex)-1\n",
    "    \n",
    "    # Add summary statistics to SAU data\n",
    "    xmu[i] = max(np.median(nut),0)\n",
    "    xl95[i] = max(np.percentile(nut,2.5),0)\n",
    "    xl50[i] = max(np.percentile(nut,25),0)\n",
    "    xu50[i] = max(np.percentile(nut,75),0)\n",
    "    xu95[i] = max(np.percentile(nut,97.5),0)\n",
    "    \n",
    "sdata['Omega3_mu'] = xmu\n",
    "sdata['Omega3_l95'] = xl95\n",
    "sdata['Omega3_l50'] = xl50\n",
    "sdata['Omega3_u50'] = xu50\n",
    "sdata['Omega3_u95'] = xu95"
   ]
  },
  {
   "cell_type": "code",
   "execution_count": 40,
   "metadata": {},
   "outputs": [
    {
     "data": {
      "text/html": [
       "<div>\n",
       "<style scoped>\n",
       "    .dataframe tbody tr th:only-of-type {\n",
       "        vertical-align: middle;\n",
       "    }\n",
       "\n",
       "    .dataframe tbody tr th {\n",
       "        vertical-align: top;\n",
       "    }\n",
       "\n",
       "    .dataframe thead th {\n",
       "        text-align: right;\n",
       "    }\n",
       "</style>\n",
       "<table border=\"1\" class=\"dataframe\">\n",
       "  <thead>\n",
       "    <tr style=\"text-align: right;\">\n",
       "      <th></th>\n",
       "      <th>UniqueID</th>\n",
       "      <th>Data</th>\n",
       "      <th>taxon_key</th>\n",
       "      <th>ScientificName</th>\n",
       "      <th>ScientificName_corrected</th>\n",
       "      <th>Species</th>\n",
       "      <th>Level</th>\n",
       "      <th>Genus</th>\n",
       "      <th>Family</th>\n",
       "      <th>Order</th>\n",
       "      <th>...</th>\n",
       "      <th>Calcium_mu</th>\n",
       "      <th>Calcium_l95</th>\n",
       "      <th>Calcium_l50</th>\n",
       "      <th>Calcium_u50</th>\n",
       "      <th>Calcium_u95</th>\n",
       "      <th>Omega3_mu</th>\n",
       "      <th>Omega3_l95</th>\n",
       "      <th>Omega3_l50</th>\n",
       "      <th>Omega3_u50</th>\n",
       "      <th>Omega3_u95</th>\n",
       "    </tr>\n",
       "  </thead>\n",
       "  <tbody>\n",
       "  </tbody>\n",
       "</table>\n",
       "<p>0 rows × 58 columns</p>\n",
       "</div>"
      ],
      "text/plain": [
       "Empty DataFrame\n",
       "Columns: [UniqueID, Data, taxon_key, ScientificName, ScientificName_corrected, Species, Level, Genus, Family, Order, Class, FamCode, GenCode, DemersPelagic, EnvTemp, DepthRangeShallow, DepthRangeDeep, Lmax, BodyShape, Feeding_path, K, tm, trophic_level, DepthRangeDeepLevel, KLevel, tmLevel, trophic_levelLevel, LMaxLevel, BodyShapeILevel, EnvTempLevel, LMax, DemersPelag, BodyShapeI, Protein_mu, Protein_l95, Protein_l50, Protein_u50, Protein_u95, Zinc_mu, Zinc_l95, Zinc_l50, Zinc_u50, Zinc_u95, Iron_mu, Iron_l95, Iron_l50, Iron_u50, Iron_u95, Calcium_mu, Calcium_l95, Calcium_l50, Calcium_u50, Calcium_u95, Omega3_mu, Omega3_l95, Omega3_l50, Omega3_u50, Omega3_u95]\n",
       "Index: []\n",
       "\n",
       "[0 rows x 58 columns]"
      ]
     },
     "execution_count": 40,
     "metadata": {},
     "output_type": "execute_result"
    }
   ],
   "source": [
    "sdata[np.isinf(xmu)]"
   ]
  },
  {
   "cell_type": "code",
   "execution_count": 41,
   "metadata": {},
   "outputs": [
    {
     "data": {
      "text/html": [
       "<div>\n",
       "<style scoped>\n",
       "    .dataframe tbody tr th:only-of-type {\n",
       "        vertical-align: middle;\n",
       "    }\n",
       "\n",
       "    .dataframe tbody tr th {\n",
       "        vertical-align: top;\n",
       "    }\n",
       "\n",
       "    .dataframe thead th {\n",
       "        text-align: right;\n",
       "    }\n",
       "</style>\n",
       "<table border=\"1\" class=\"dataframe\">\n",
       "  <thead>\n",
       "    <tr style=\"text-align: right;\">\n",
       "      <th></th>\n",
       "      <th>UniqueID</th>\n",
       "      <th>Data</th>\n",
       "      <th>taxon_key</th>\n",
       "      <th>ScientificName</th>\n",
       "      <th>ScientificName_corrected</th>\n",
       "      <th>Species</th>\n",
       "      <th>Level</th>\n",
       "      <th>Genus</th>\n",
       "      <th>Family</th>\n",
       "      <th>Order</th>\n",
       "      <th>...</th>\n",
       "      <th>Calcium_mu</th>\n",
       "      <th>Calcium_l95</th>\n",
       "      <th>Calcium_l50</th>\n",
       "      <th>Calcium_u50</th>\n",
       "      <th>Calcium_u95</th>\n",
       "      <th>Omega3_mu</th>\n",
       "      <th>Omega3_l95</th>\n",
       "      <th>Omega3_l50</th>\n",
       "      <th>Omega3_u50</th>\n",
       "      <th>Omega3_u95</th>\n",
       "    </tr>\n",
       "  </thead>\n",
       "  <tbody>\n",
       "  </tbody>\n",
       "</table>\n",
       "<p>0 rows × 58 columns</p>\n",
       "</div>"
      ],
      "text/plain": [
       "Empty DataFrame\n",
       "Columns: [UniqueID, Data, taxon_key, ScientificName, ScientificName_corrected, Species, Level, Genus, Family, Order, Class, FamCode, GenCode, DemersPelagic, EnvTemp, DepthRangeShallow, DepthRangeDeep, Lmax, BodyShape, Feeding_path, K, tm, trophic_level, DepthRangeDeepLevel, KLevel, tmLevel, trophic_levelLevel, LMaxLevel, BodyShapeILevel, EnvTempLevel, LMax, DemersPelag, BodyShapeI, Protein_mu, Protein_l95, Protein_l50, Protein_u50, Protein_u95, Zinc_mu, Zinc_l95, Zinc_l50, Zinc_u50, Zinc_u95, Iron_mu, Iron_l95, Iron_l50, Iron_u50, Iron_u95, Calcium_mu, Calcium_l95, Calcium_l50, Calcium_u50, Calcium_u95, Omega3_mu, Omega3_l95, Omega3_l50, Omega3_u50, Omega3_u95]\n",
       "Index: []\n",
       "\n",
       "[0 rows x 58 columns]"
      ]
     },
     "execution_count": 41,
     "metadata": {},
     "output_type": "execute_result"
    }
   ],
   "source": [
    "sdata[xmu==0]"
   ]
  },
  {
   "cell_type": "code",
   "execution_count": 42,
   "metadata": {},
   "outputs": [
    {
     "data": {
      "image/png": "[encoded data removed]",
      "text/plain": [
       "<Figure size 432x288 with 1 Axes>"
      ]
     },
     "metadata": {
      "needs_background": "light"
     },
     "output_type": "display_data"
    }
   ],
   "source": [
    "plt.hist(sdata['Omega3_mu'])\n",
    "plt.xlim(0,100);"
   ]
  },
  {
   "cell_type": "code",
   "execution_count": 43,
   "metadata": {},
   "outputs": [
    {
     "data": {
      "image/png": "[encoded data removed]",
      "text/plain": [
       "<Figure size 432x288 with 1 Axes>"
      ]
     },
     "metadata": {
      "needs_background": "light"
     },
     "output_type": "display_data"
    }
   ],
   "source": [
    "Y_ = ndata.O3_Value.values\n",
    "indx = np.isnan(Y_)==False\n",
    "Y = Y_[indx]*10\n",
    "plt.hist(Y,bins=100)\n",
    "plt.xlim(0,100);"
   ]
  },
  {
   "cell_type": "code",
   "execution_count": 44,
   "metadata": {},
   "outputs": [
    {
     "data": {
      "text/plain": [
       "(array([18.84814046, 38.95686535, 75.58527834]),\n",
       " array([ 0.6905  ,  2.0932  , 20.862214]))"
      ]
     },
     "execution_count": 44,
     "metadata": {},
     "output_type": "execute_result"
    }
   ],
   "source": [
    "np.percentile(sdata['Omega3_mu']*10,(5,50,95)), np.percentile(Y,(5,50,95))"
   ]
  },
  {
   "cell_type": "code",
   "execution_count": 45,
   "metadata": {},
   "outputs": [],
   "source": [
    "# Specify nutrient\n",
    "REZ = Vitamin_A\n",
    "\n",
    "# Add empty columns to SAU data\n",
    "xmu = np.empty(nrows)\n",
    "xl95 = np.empty(nrows)\n",
    "xl50 = np.empty(nrows)\n",
    "xu50 = np.empty(nrows)\n",
    "xu95 = np.empty(nrows)\n",
    "\n",
    "for i in range(nrows):\n",
    "    #print(i/nrows)\n",
    "    # μ = β0+β1[Ih]+β2[Ic]+β3*MaxDepth+β4*TL+β5*Pelagic+β6*LMax+β7[Ib]+β8*K+β9*tm+β10[If]+β11[Ip]+β12[Is]\n",
    "    tmp = sdata.iloc[i]\n",
    "    # Expected nutrients\n",
    "    Ex = REZ['Intercept'].values+REZ[tmp['DemersPelag']].values+REZ[tmp['EnvTemp']].values+REZ['MaxDepth'].values*np.log(tmp['DepthRangeDeep'])+REZ['TL'].values*tmp['trophic_level']+REZ['pelagic'].values*1*(tmp['Feeding_path']=='pelagic')+REZ['LMax'].values*np.log(tmp['LMax'])+REZ[tmp['BodyShapeI']].values+REZ['K'].values*tmp['K']+REZ['tm'].values*np.log(tmp['tm'])\n",
    "    # Scaled to catch - g/100g to kg/yr = g/kg/yr\n",
    "    #nut = ((np.exp(Ex)-1)*10)*np.log(tmp['kg_year']/1000+1)\n",
    "    nut = np.exp(Ex)-1\n",
    "    \n",
    "    # Add summary statistics to SAU data\n",
    "    xmu[i] = max(np.median(nut),0)\n",
    "    xl95[i] = max(np.percentile(nut,2.5),0)\n",
    "    xl50[i] = max(np.percentile(nut,25),0)\n",
    "    xu50[i] = max(np.percentile(nut,75),0)\n",
    "    xu95[i] = max(np.percentile(nut,97.5),0)\n",
    "    \n",
    "sdata['Vitamin_A_mu'] = xmu\n",
    "sdata['Vitamin_A_l95'] = xl95\n",
    "sdata['Vitamin_A_l50'] = xl50\n",
    "sdata['Vitamin_A_u50'] = xu50\n",
    "sdata['Vitamin_A_u95'] = xu95"
   ]
  },
  {
   "cell_type": "code",
   "execution_count": 46,
   "metadata": {},
   "outputs": [
    {
     "data": {
      "text/html": [
       "<div>\n",
       "<style scoped>\n",
       "    .dataframe tbody tr th:only-of-type {\n",
       "        vertical-align: middle;\n",
       "    }\n",
       "\n",
       "    .dataframe tbody tr th {\n",
       "        vertical-align: top;\n",
       "    }\n",
       "\n",
       "    .dataframe thead th {\n",
       "        text-align: right;\n",
       "    }\n",
       "</style>\n",
       "<table border=\"1\" class=\"dataframe\">\n",
       "  <thead>\n",
       "    <tr style=\"text-align: right;\">\n",
       "      <th></th>\n",
       "      <th>UniqueID</th>\n",
       "      <th>Data</th>\n",
       "      <th>taxon_key</th>\n",
       "      <th>ScientificName</th>\n",
       "      <th>ScientificName_corrected</th>\n",
       "      <th>Species</th>\n",
       "      <th>Level</th>\n",
       "      <th>Genus</th>\n",
       "      <th>Family</th>\n",
       "      <th>Order</th>\n",
       "      <th>...</th>\n",
       "      <th>Omega3_mu</th>\n",
       "      <th>Omega3_l95</th>\n",
       "      <th>Omega3_l50</th>\n",
       "      <th>Omega3_u50</th>\n",
       "      <th>Omega3_u95</th>\n",
       "      <th>Vitamin_A_mu</th>\n",
       "      <th>Vitamin_A_l95</th>\n",
       "      <th>Vitamin_A_l50</th>\n",
       "      <th>Vitamin_A_u50</th>\n",
       "      <th>Vitamin_A_u95</th>\n",
       "    </tr>\n",
       "  </thead>\n",
       "  <tbody>\n",
       "  </tbody>\n",
       "</table>\n",
       "<p>0 rows × 63 columns</p>\n",
       "</div>"
      ],
      "text/plain": [
       "Empty DataFrame\n",
       "Columns: [UniqueID, Data, taxon_key, ScientificName, ScientificName_corrected, Species, Level, Genus, Family, Order, Class, FamCode, GenCode, DemersPelagic, EnvTemp, DepthRangeShallow, DepthRangeDeep, Lmax, BodyShape, Feeding_path, K, tm, trophic_level, DepthRangeDeepLevel, KLevel, tmLevel, trophic_levelLevel, LMaxLevel, BodyShapeILevel, EnvTempLevel, LMax, DemersPelag, BodyShapeI, Protein_mu, Protein_l95, Protein_l50, Protein_u50, Protein_u95, Zinc_mu, Zinc_l95, Zinc_l50, Zinc_u50, Zinc_u95, Iron_mu, Iron_l95, Iron_l50, Iron_u50, Iron_u95, Calcium_mu, Calcium_l95, Calcium_l50, Calcium_u50, Calcium_u95, Omega3_mu, Omega3_l95, Omega3_l50, Omega3_u50, Omega3_u95, Vitamin_A_mu, Vitamin_A_l95, Vitamin_A_l50, Vitamin_A_u50, Vitamin_A_u95]\n",
       "Index: []\n",
       "\n",
       "[0 rows x 63 columns]"
      ]
     },
     "execution_count": 46,
     "metadata": {},
     "output_type": "execute_result"
    }
   ],
   "source": [
    "sdata[np.isinf(xmu)]"
   ]
  },
  {
   "cell_type": "code",
   "execution_count": 47,
   "metadata": {},
   "outputs": [
    {
     "data": {
      "text/html": [
       "<div>\n",
       "<style scoped>\n",
       "    .dataframe tbody tr th:only-of-type {\n",
       "        vertical-align: middle;\n",
       "    }\n",
       "\n",
       "    .dataframe tbody tr th {\n",
       "        vertical-align: top;\n",
       "    }\n",
       "\n",
       "    .dataframe thead th {\n",
       "        text-align: right;\n",
       "    }\n",
       "</style>\n",
       "<table border=\"1\" class=\"dataframe\">\n",
       "  <thead>\n",
       "    <tr style=\"text-align: right;\">\n",
       "      <th></th>\n",
       "      <th>UniqueID</th>\n",
       "      <th>Data</th>\n",
       "      <th>taxon_key</th>\n",
       "      <th>ScientificName</th>\n",
       "      <th>ScientificName_corrected</th>\n",
       "      <th>Species</th>\n",
       "      <th>Level</th>\n",
       "      <th>Genus</th>\n",
       "      <th>Family</th>\n",
       "      <th>Order</th>\n",
       "      <th>...</th>\n",
       "      <th>Omega3_mu</th>\n",
       "      <th>Omega3_l95</th>\n",
       "      <th>Omega3_l50</th>\n",
       "      <th>Omega3_u50</th>\n",
       "      <th>Omega3_u95</th>\n",
       "      <th>Vitamin_A_mu</th>\n",
       "      <th>Vitamin_A_l95</th>\n",
       "      <th>Vitamin_A_l50</th>\n",
       "      <th>Vitamin_A_u50</th>\n",
       "      <th>Vitamin_A_u95</th>\n",
       "    </tr>\n",
       "  </thead>\n",
       "  <tbody>\n",
       "    <tr>\n",
       "      <th>266</th>\n",
       "      <td>1073</td>\n",
       "      <td>initial</td>\n",
       "      <td>600391.0</td>\n",
       "      <td>Brama brama</td>\n",
       "      <td>Brama brama</td>\n",
       "      <td>Brama brama</td>\n",
       "      <td>species</td>\n",
       "      <td>Brama</td>\n",
       "      <td>Bramidae</td>\n",
       "      <td>Perciformes</td>\n",
       "      <td>...</td>\n",
       "      <td>2.928406</td>\n",
       "      <td>1.083102</td>\n",
       "      <td>2.151708</td>\n",
       "      <td>3.914999</td>\n",
       "      <td>6.508558</td>\n",
       "      <td>0.0</td>\n",
       "      <td>0.0</td>\n",
       "      <td>0.0</td>\n",
       "      <td>1.292255</td>\n",
       "      <td>26.842033</td>\n",
       "    </tr>\n",
       "    <tr>\n",
       "      <th>286</th>\n",
       "      <td>178</td>\n",
       "      <td>SAU</td>\n",
       "      <td>601225.0</td>\n",
       "      <td>Calamus leucosteus</td>\n",
       "      <td>Calamus leucosteus</td>\n",
       "      <td>Calamus leucosteus</td>\n",
       "      <td>species</td>\n",
       "      <td>Calamus</td>\n",
       "      <td>Sparidae</td>\n",
       "      <td>Perciformes</td>\n",
       "      <td>...</td>\n",
       "      <td>3.474054</td>\n",
       "      <td>1.598506</td>\n",
       "      <td>2.719806</td>\n",
       "      <td>4.407026</td>\n",
       "      <td>6.817203</td>\n",
       "      <td>0.0</td>\n",
       "      <td>0.0</td>\n",
       "      <td>0.0</td>\n",
       "      <td>0.967519</td>\n",
       "      <td>9.572231</td>\n",
       "    </tr>\n",
       "    <tr>\n",
       "      <th>325</th>\n",
       "      <td>264</td>\n",
       "      <td>SAU</td>\n",
       "      <td>601907.0</td>\n",
       "      <td>Carangoides hedlandensis</td>\n",
       "      <td>Carangoides hedlandensis</td>\n",
       "      <td>Carangoides hedlandensis</td>\n",
       "      <td>species</td>\n",
       "      <td>Carangoides</td>\n",
       "      <td>Carangidae</td>\n",
       "      <td>Perciformes</td>\n",
       "      <td>...</td>\n",
       "      <td>1.162320</td>\n",
       "      <td>0.000000</td>\n",
       "      <td>0.219853</td>\n",
       "      <td>2.768071</td>\n",
       "      <td>10.108259</td>\n",
       "      <td>0.0</td>\n",
       "      <td>0.0</td>\n",
       "      <td>0.0</td>\n",
       "      <td>1.736128</td>\n",
       "      <td>34.104011</td>\n",
       "    </tr>\n",
       "    <tr>\n",
       "      <th>361</th>\n",
       "      <td>1143</td>\n",
       "      <td>initial</td>\n",
       "      <td>614242.0</td>\n",
       "      <td>Centriscops humerosus</td>\n",
       "      <td>Centriscops humerosus</td>\n",
       "      <td>Centriscops humerosus</td>\n",
       "      <td>species</td>\n",
       "      <td>Centriscops</td>\n",
       "      <td>Centriscidae</td>\n",
       "      <td>Syngnathiformes</td>\n",
       "      <td>...</td>\n",
       "      <td>6.909025</td>\n",
       "      <td>3.091406</td>\n",
       "      <td>5.343792</td>\n",
       "      <td>8.977242</td>\n",
       "      <td>14.354733</td>\n",
       "      <td>0.0</td>\n",
       "      <td>0.0</td>\n",
       "      <td>0.0</td>\n",
       "      <td>0.075779</td>\n",
       "      <td>6.210481</td>\n",
       "    </tr>\n",
       "    <tr>\n",
       "      <th>543</th>\n",
       "      <td>676</td>\n",
       "      <td>SAU</td>\n",
       "      <td>608838.0</td>\n",
       "      <td>Clidoderma asperrimum</td>\n",
       "      <td>Clidoderma asperrimum</td>\n",
       "      <td>Clidoderma asperrimum</td>\n",
       "      <td>species</td>\n",
       "      <td>Clidoderma</td>\n",
       "      <td>Pleuronectidae</td>\n",
       "      <td>Pleuronectiformes</td>\n",
       "      <td>...</td>\n",
       "      <td>6.619545</td>\n",
       "      <td>2.997134</td>\n",
       "      <td>5.126800</td>\n",
       "      <td>8.509738</td>\n",
       "      <td>13.649496</td>\n",
       "      <td>0.0</td>\n",
       "      <td>0.0</td>\n",
       "      <td>0.0</td>\n",
       "      <td>1.067411</td>\n",
       "      <td>9.943840</td>\n",
       "    </tr>\n",
       "    <tr>\n",
       "      <th>621</th>\n",
       "      <td>1331</td>\n",
       "      <td>initial</td>\n",
       "      <td>600062.0</td>\n",
       "      <td>Cyclopterus lumpus</td>\n",
       "      <td>Cyclopterus lumpus</td>\n",
       "      <td>Cyclopterus lumpus</td>\n",
       "      <td>species</td>\n",
       "      <td>Cyclopterus</td>\n",
       "      <td>Cyclopteridae</td>\n",
       "      <td>Scorpaeniformes</td>\n",
       "      <td>...</td>\n",
       "      <td>5.528061</td>\n",
       "      <td>2.534119</td>\n",
       "      <td>4.301938</td>\n",
       "      <td>7.131553</td>\n",
       "      <td>11.239088</td>\n",
       "      <td>0.0</td>\n",
       "      <td>0.0</td>\n",
       "      <td>0.0</td>\n",
       "      <td>0.000000</td>\n",
       "      <td>3.635506</td>\n",
       "    </tr>\n",
       "    <tr>\n",
       "      <th>678</th>\n",
       "      <td>1366</td>\n",
       "      <td>initial</td>\n",
       "      <td>601048.0</td>\n",
       "      <td>Diapterus rhombeus</td>\n",
       "      <td>Diapterus rhombeus</td>\n",
       "      <td>Diapterus rhombeus</td>\n",
       "      <td>species</td>\n",
       "      <td>Diapterus</td>\n",
       "      <td>Gerreidae</td>\n",
       "      <td>Perciformes</td>\n",
       "      <td>...</td>\n",
       "      <td>3.825601</td>\n",
       "      <td>0.266585</td>\n",
       "      <td>2.047353</td>\n",
       "      <td>6.576892</td>\n",
       "      <td>17.500637</td>\n",
       "      <td>0.0</td>\n",
       "      <td>0.0</td>\n",
       "      <td>0.0</td>\n",
       "      <td>1.035540</td>\n",
       "      <td>14.593251</td>\n",
       "    </tr>\n",
       "    <tr>\n",
       "      <th>815</th>\n",
       "      <td>1466</td>\n",
       "      <td>initial</td>\n",
       "      <td>601391.0</td>\n",
       "      <td>Etelis oculatus</td>\n",
       "      <td>Etelis oculatus</td>\n",
       "      <td>Etelis oculatus</td>\n",
       "      <td>species</td>\n",
       "      <td>Etelis</td>\n",
       "      <td>Lutjanidae</td>\n",
       "      <td>Perciformes</td>\n",
       "      <td>...</td>\n",
       "      <td>3.701201</td>\n",
       "      <td>1.655392</td>\n",
       "      <td>2.868521</td>\n",
       "      <td>4.715840</td>\n",
       "      <td>7.396536</td>\n",
       "      <td>0.0</td>\n",
       "      <td>0.0</td>\n",
       "      <td>0.0</td>\n",
       "      <td>0.936687</td>\n",
       "      <td>14.321134</td>\n",
       "    </tr>\n",
       "    <tr>\n",
       "      <th>821</th>\n",
       "      <td>369</td>\n",
       "      <td>SAU</td>\n",
       "      <td>604221.0</td>\n",
       "      <td>Etropus crossotus</td>\n",
       "      <td>Etropus crossotus</td>\n",
       "      <td>Etropus crossotus</td>\n",
       "      <td>species</td>\n",
       "      <td>Etropus</td>\n",
       "      <td>Paralichthyidae</td>\n",
       "      <td>Pleuronectiformes</td>\n",
       "      <td>...</td>\n",
       "      <td>5.286659</td>\n",
       "      <td>1.363322</td>\n",
       "      <td>3.492653</td>\n",
       "      <td>7.738660</td>\n",
       "      <td>15.606048</td>\n",
       "      <td>0.0</td>\n",
       "      <td>0.0</td>\n",
       "      <td>0.0</td>\n",
       "      <td>1.156490</td>\n",
       "      <td>10.634168</td>\n",
       "    </tr>\n",
       "    <tr>\n",
       "      <th>826</th>\n",
       "      <td>1475</td>\n",
       "      <td>initial</td>\n",
       "      <td>NaN</td>\n",
       "      <td>Eubalichthys gunnii</td>\n",
       "      <td>Eubalichthys gunnii</td>\n",
       "      <td>Eubalichthys gunnii</td>\n",
       "      <td>species</td>\n",
       "      <td>Eubalichthys</td>\n",
       "      <td>Monacanthidae</td>\n",
       "      <td>Tetraodontiformes</td>\n",
       "      <td>...</td>\n",
       "      <td>4.091599</td>\n",
       "      <td>1.840572</td>\n",
       "      <td>3.170201</td>\n",
       "      <td>5.222155</td>\n",
       "      <td>8.185710</td>\n",
       "      <td>0.0</td>\n",
       "      <td>0.0</td>\n",
       "      <td>0.0</td>\n",
       "      <td>1.103426</td>\n",
       "      <td>10.141070</td>\n",
       "    </tr>\n",
       "    <tr>\n",
       "      <th>853</th>\n",
       "      <td>1484</td>\n",
       "      <td>initial</td>\n",
       "      <td>600308.0</td>\n",
       "      <td>Gadus macrocephalus</td>\n",
       "      <td>Gadus macrocephalus</td>\n",
       "      <td>Gadus macrocephalus</td>\n",
       "      <td>species</td>\n",
       "      <td>Gadus</td>\n",
       "      <td>Gadidae</td>\n",
       "      <td>Gadiformes</td>\n",
       "      <td>...</td>\n",
       "      <td>5.665982</td>\n",
       "      <td>3.302674</td>\n",
       "      <td>4.719101</td>\n",
       "      <td>6.728540</td>\n",
       "      <td>9.358224</td>\n",
       "      <td>0.0</td>\n",
       "      <td>0.0</td>\n",
       "      <td>0.0</td>\n",
       "      <td>1.066884</td>\n",
       "      <td>10.276547</td>\n",
       "    </tr>\n",
       "    <tr>\n",
       "      <th>1051</th>\n",
       "      <td>1621</td>\n",
       "      <td>initial</td>\n",
       "      <td>600334.0</td>\n",
       "      <td>Hoplostethus atlanticus</td>\n",
       "      <td>Hoplostethus atlanticus</td>\n",
       "      <td>Hoplostethus atlanticus</td>\n",
       "      <td>species</td>\n",
       "      <td>Hoplostethus</td>\n",
       "      <td>Trachichthyidae</td>\n",
       "      <td>Beryciformes</td>\n",
       "      <td>...</td>\n",
       "      <td>3.183514</td>\n",
       "      <td>1.133668</td>\n",
       "      <td>2.307776</td>\n",
       "      <td>4.276082</td>\n",
       "      <td>7.195919</td>\n",
       "      <td>0.0</td>\n",
       "      <td>0.0</td>\n",
       "      <td>0.0</td>\n",
       "      <td>1.792003</td>\n",
       "      <td>39.366307</td>\n",
       "    </tr>\n",
       "    <tr>\n",
       "      <th>1155</th>\n",
       "      <td>1696</td>\n",
       "      <td>initial</td>\n",
       "      <td>601072.0</td>\n",
       "      <td>Lampris guttatus</td>\n",
       "      <td>Lampris guttatus</td>\n",
       "      <td>Lampris guttatus</td>\n",
       "      <td>species</td>\n",
       "      <td>Lampris</td>\n",
       "      <td>Lampridae</td>\n",
       "      <td>Lampriformes</td>\n",
       "      <td>...</td>\n",
       "      <td>2.463522</td>\n",
       "      <td>0.727828</td>\n",
       "      <td>1.721077</td>\n",
       "      <td>3.393632</td>\n",
       "      <td>6.002623</td>\n",
       "      <td>0.0</td>\n",
       "      <td>0.0</td>\n",
       "      <td>0.0</td>\n",
       "      <td>0.000000</td>\n",
       "      <td>9.307948</td>\n",
       "    </tr>\n",
       "    <tr>\n",
       "      <th>1230</th>\n",
       "      <td>1755</td>\n",
       "      <td>initial</td>\n",
       "      <td>601077.0</td>\n",
       "      <td>Lobotes surinamensis</td>\n",
       "      <td>Lobotes surinamensis</td>\n",
       "      <td>Lobotes surinamensis</td>\n",
       "      <td>species</td>\n",
       "      <td>Lobotes</td>\n",
       "      <td>Lobotidae</td>\n",
       "      <td>Perciformes</td>\n",
       "      <td>...</td>\n",
       "      <td>2.862371</td>\n",
       "      <td>1.061475</td>\n",
       "      <td>2.111774</td>\n",
       "      <td>3.797938</td>\n",
       "      <td>6.231967</td>\n",
       "      <td>0.0</td>\n",
       "      <td>0.0</td>\n",
       "      <td>0.0</td>\n",
       "      <td>1.166734</td>\n",
       "      <td>12.524158</td>\n",
       "    </tr>\n",
       "    <tr>\n",
       "      <th>1232</th>\n",
       "      <td>1758</td>\n",
       "      <td>initial</td>\n",
       "      <td>605094.0</td>\n",
       "      <td>Lophius budegassa</td>\n",
       "      <td>Lophius budegassa</td>\n",
       "      <td>Lophius budegassa</td>\n",
       "      <td>species</td>\n",
       "      <td>Lophius</td>\n",
       "      <td>Lophiidae</td>\n",
       "      <td>Lophiiformes</td>\n",
       "      <td>...</td>\n",
       "      <td>2.219027</td>\n",
       "      <td>0.842390</td>\n",
       "      <td>1.663635</td>\n",
       "      <td>2.907563</td>\n",
       "      <td>4.682915</td>\n",
       "      <td>0.0</td>\n",
       "      <td>0.0</td>\n",
       "      <td>0.0</td>\n",
       "      <td>0.000000</td>\n",
       "      <td>9.193013</td>\n",
       "    </tr>\n",
       "    <tr>\n",
       "      <th>1233</th>\n",
       "      <td>1759</td>\n",
       "      <td>initial</td>\n",
       "      <td>601078.0</td>\n",
       "      <td>Lophius gastrophysus</td>\n",
       "      <td>Lophius gastrophysus</td>\n",
       "      <td>Lophius gastrophysus</td>\n",
       "      <td>species</td>\n",
       "      <td>Lophius</td>\n",
       "      <td>Lophiidae</td>\n",
       "      <td>Lophiiformes</td>\n",
       "      <td>...</td>\n",
       "      <td>4.917888</td>\n",
       "      <td>2.105642</td>\n",
       "      <td>3.755989</td>\n",
       "      <td>6.423391</td>\n",
       "      <td>10.444982</td>\n",
       "      <td>0.0</td>\n",
       "      <td>0.0</td>\n",
       "      <td>0.0</td>\n",
       "      <td>0.000000</td>\n",
       "      <td>2.994030</td>\n",
       "    </tr>\n",
       "    <tr>\n",
       "      <th>1234</th>\n",
       "      <td>1760</td>\n",
       "      <td>initial</td>\n",
       "      <td>600716.0</td>\n",
       "      <td>Lophius piscatorius</td>\n",
       "      <td>Lophius piscatorius</td>\n",
       "      <td>Lophius piscatorius</td>\n",
       "      <td>species</td>\n",
       "      <td>Lophius</td>\n",
       "      <td>Lophiidae</td>\n",
       "      <td>Lophiiformes</td>\n",
       "      <td>...</td>\n",
       "      <td>2.393294</td>\n",
       "      <td>0.948966</td>\n",
       "      <td>1.810700</td>\n",
       "      <td>3.120983</td>\n",
       "      <td>4.951375</td>\n",
       "      <td>0.0</td>\n",
       "      <td>0.0</td>\n",
       "      <td>0.0</td>\n",
       "      <td>0.000000</td>\n",
       "      <td>8.153884</td>\n",
       "    </tr>\n",
       "    <tr>\n",
       "      <th>1236</th>\n",
       "      <td>1761</td>\n",
       "      <td>initial</td>\n",
       "      <td>610256.0</td>\n",
       "      <td>Lophius vomerinus</td>\n",
       "      <td>Lophius vomerinus</td>\n",
       "      <td>Lophius vomerinus</td>\n",
       "      <td>species</td>\n",
       "      <td>Lophius</td>\n",
       "      <td>Lophiidae</td>\n",
       "      <td>Lophiiformes</td>\n",
       "      <td>...</td>\n",
       "      <td>2.662335</td>\n",
       "      <td>0.885799</td>\n",
       "      <td>1.915138</td>\n",
       "      <td>3.620577</td>\n",
       "      <td>6.130433</td>\n",
       "      <td>0.0</td>\n",
       "      <td>0.0</td>\n",
       "      <td>0.0</td>\n",
       "      <td>0.221439</td>\n",
       "      <td>11.299430</td>\n",
       "    </tr>\n",
       "    <tr>\n",
       "      <th>1344</th>\n",
       "      <td>1853</td>\n",
       "      <td>initial</td>\n",
       "      <td>601826.0</td>\n",
       "      <td>Merluccius paradoxus</td>\n",
       "      <td>Merluccius paradoxus</td>\n",
       "      <td>Merluccius paradoxus</td>\n",
       "      <td>species</td>\n",
       "      <td>Merluccius</td>\n",
       "      <td>Merlucciidae</td>\n",
       "      <td>Gadiformes</td>\n",
       "      <td>...</td>\n",
       "      <td>3.697088</td>\n",
       "      <td>1.961077</td>\n",
       "      <td>3.012769</td>\n",
       "      <td>4.499713</td>\n",
       "      <td>6.450120</td>\n",
       "      <td>0.0</td>\n",
       "      <td>0.0</td>\n",
       "      <td>0.0</td>\n",
       "      <td>1.174197</td>\n",
       "      <td>12.809931</td>\n",
       "    </tr>\n",
       "    <tr>\n",
       "      <th>1421</th>\n",
       "      <td>206</td>\n",
       "      <td>SAU</td>\n",
       "      <td>601329.0</td>\n",
       "      <td>Myoxocephalus scorpius</td>\n",
       "      <td>Myoxocephalus scorpius</td>\n",
       "      <td>Myoxocephalus scorpius</td>\n",
       "      <td>species</td>\n",
       "      <td>Myoxocephalus</td>\n",
       "      <td>Cottidae</td>\n",
       "      <td>Scorpaeniformes</td>\n",
       "      <td>...</td>\n",
       "      <td>6.290882</td>\n",
       "      <td>3.472700</td>\n",
       "      <td>5.164608</td>\n",
       "      <td>7.615861</td>\n",
       "      <td>10.861758</td>\n",
       "      <td>0.0</td>\n",
       "      <td>0.0</td>\n",
       "      <td>0.0</td>\n",
       "      <td>1.011232</td>\n",
       "      <td>11.123206</td>\n",
       "    </tr>\n",
       "    <tr>\n",
       "      <th>1568</th>\n",
       "      <td>19</td>\n",
       "      <td>SAU</td>\n",
       "      <td>600193.0</td>\n",
       "      <td>Paracaesio stonei</td>\n",
       "      <td>Paracaesio stonei</td>\n",
       "      <td>Paracaesio stonei</td>\n",
       "      <td>species</td>\n",
       "      <td>Paracaesio</td>\n",
       "      <td>Lutjanidae</td>\n",
       "      <td>Perciformes</td>\n",
       "      <td>...</td>\n",
       "      <td>3.919291</td>\n",
       "      <td>1.864641</td>\n",
       "      <td>3.107019</td>\n",
       "      <td>4.915125</td>\n",
       "      <td>7.508563</td>\n",
       "      <td>0.0</td>\n",
       "      <td>0.0</td>\n",
       "      <td>0.0</td>\n",
       "      <td>1.188386</td>\n",
       "      <td>10.333390</td>\n",
       "    </tr>\n",
       "    <tr>\n",
       "      <th>1584</th>\n",
       "      <td>794</td>\n",
       "      <td>SAU</td>\n",
       "      <td>654963.0</td>\n",
       "      <td>Paralichthys microps</td>\n",
       "      <td>Paralichthys microps</td>\n",
       "      <td>Paralichthys microps</td>\n",
       "      <td>species</td>\n",
       "      <td>Paralichthys</td>\n",
       "      <td>Paralichthyidae</td>\n",
       "      <td>Pleuronectiformes</td>\n",
       "      <td>...</td>\n",
       "      <td>5.410548</td>\n",
       "      <td>2.559874</td>\n",
       "      <td>4.245717</td>\n",
       "      <td>6.856890</td>\n",
       "      <td>10.544469</td>\n",
       "      <td>0.0</td>\n",
       "      <td>0.0</td>\n",
       "      <td>0.0</td>\n",
       "      <td>1.024145</td>\n",
       "      <td>9.081560</td>\n",
       "    </tr>\n",
       "    <tr>\n",
       "      <th>1639</th>\n",
       "      <td>2051</td>\n",
       "      <td>initial</td>\n",
       "      <td>612357.0</td>\n",
       "      <td>Pentaceros decacanthus</td>\n",
       "      <td>Pentaceros decacanthus</td>\n",
       "      <td>Pentaceros decacanthus</td>\n",
       "      <td>species</td>\n",
       "      <td>Pentaceros</td>\n",
       "      <td>Pentacerotidae</td>\n",
       "      <td>Perciformes</td>\n",
       "      <td>...</td>\n",
       "      <td>6.920865</td>\n",
       "      <td>3.093327</td>\n",
       "      <td>5.308131</td>\n",
       "      <td>8.989250</td>\n",
       "      <td>14.470290</td>\n",
       "      <td>0.0</td>\n",
       "      <td>0.0</td>\n",
       "      <td>0.0</td>\n",
       "      <td>0.000000</td>\n",
       "      <td>5.145154</td>\n",
       "    </tr>\n",
       "    <tr>\n",
       "      <th>1651</th>\n",
       "      <td>58</td>\n",
       "      <td>SAU</td>\n",
       "      <td>600493.0</td>\n",
       "      <td>Peprilus simillimus</td>\n",
       "      <td>Peprilus simillimus</td>\n",
       "      <td>Peprilus simillimus</td>\n",
       "      <td>species</td>\n",
       "      <td>Peprilus</td>\n",
       "      <td>Stromateidae</td>\n",
       "      <td>Perciformes</td>\n",
       "      <td>...</td>\n",
       "      <td>3.722756</td>\n",
       "      <td>1.565961</td>\n",
       "      <td>2.845243</td>\n",
       "      <td>4.821101</td>\n",
       "      <td>7.659638</td>\n",
       "      <td>0.0</td>\n",
       "      <td>0.0</td>\n",
       "      <td>0.0</td>\n",
       "      <td>0.000000</td>\n",
       "      <td>4.100772</td>\n",
       "    </tr>\n",
       "    <tr>\n",
       "      <th>1652</th>\n",
       "      <td>752</td>\n",
       "      <td>SAU</td>\n",
       "      <td>614146.0</td>\n",
       "      <td>Peprilus snyderi</td>\n",
       "      <td>Peprilus snyderi</td>\n",
       "      <td>Peprilus snyderi</td>\n",
       "      <td>species</td>\n",
       "      <td>Peprilus</td>\n",
       "      <td>Stromateidae</td>\n",
       "      <td>Perciformes</td>\n",
       "      <td>...</td>\n",
       "      <td>3.957253</td>\n",
       "      <td>1.712461</td>\n",
       "      <td>3.045038</td>\n",
       "      <td>5.096554</td>\n",
       "      <td>8.058946</td>\n",
       "      <td>0.0</td>\n",
       "      <td>0.0</td>\n",
       "      <td>0.0</td>\n",
       "      <td>0.000000</td>\n",
       "      <td>3.803397</td>\n",
       "    </tr>\n",
       "    <tr>\n",
       "      <th>1722</th>\n",
       "      <td>371</td>\n",
       "      <td>SAU</td>\n",
       "      <td>604250.0</td>\n",
       "      <td>Pleuronectes quadrituberculatus</td>\n",
       "      <td>Pleuronectes quadrituberculatus</td>\n",
       "      <td>Pleuronectes quadrituberculatus</td>\n",
       "      <td>species</td>\n",
       "      <td>Pleuronectes</td>\n",
       "      <td>Pleuronectidae</td>\n",
       "      <td>Pleuronectiformes</td>\n",
       "      <td>...</td>\n",
       "      <td>4.943629</td>\n",
       "      <td>2.324338</td>\n",
       "      <td>3.882204</td>\n",
       "      <td>6.265858</td>\n",
       "      <td>9.679315</td>\n",
       "      <td>0.0</td>\n",
       "      <td>0.0</td>\n",
       "      <td>0.0</td>\n",
       "      <td>0.116680</td>\n",
       "      <td>7.018041</td>\n",
       "    </tr>\n",
       "    <tr>\n",
       "      <th>1812</th>\n",
       "      <td>435</td>\n",
       "      <td>SAU</td>\n",
       "      <td>605068.0</td>\n",
       "      <td>Psettodes bennettii</td>\n",
       "      <td>Psettodes bennettii</td>\n",
       "      <td>Psettodes bennettii</td>\n",
       "      <td>species</td>\n",
       "      <td>Psettodes</td>\n",
       "      <td>Psettodidae</td>\n",
       "      <td>Pleuronectiformes</td>\n",
       "      <td>...</td>\n",
       "      <td>3.074088</td>\n",
       "      <td>1.261826</td>\n",
       "      <td>2.334808</td>\n",
       "      <td>3.997866</td>\n",
       "      <td>6.366117</td>\n",
       "      <td>0.0</td>\n",
       "      <td>0.0</td>\n",
       "      <td>0.0</td>\n",
       "      <td>0.239482</td>\n",
       "      <td>6.188459</td>\n",
       "    </tr>\n",
       "    <tr>\n",
       "      <th>2095</th>\n",
       "      <td>208</td>\n",
       "      <td>SAU</td>\n",
       "      <td>601352.0</td>\n",
       "      <td>Sebastes viviparus</td>\n",
       "      <td>Sebastes viviparus</td>\n",
       "      <td>Sebastes viviparus</td>\n",
       "      <td>species</td>\n",
       "      <td>Sebastes</td>\n",
       "      <td>Sebastidae</td>\n",
       "      <td>Scorpaeniformes</td>\n",
       "      <td>...</td>\n",
       "      <td>4.279058</td>\n",
       "      <td>1.885225</td>\n",
       "      <td>3.294894</td>\n",
       "      <td>5.497478</td>\n",
       "      <td>8.712407</td>\n",
       "      <td>0.0</td>\n",
       "      <td>0.0</td>\n",
       "      <td>0.0</td>\n",
       "      <td>0.574365</td>\n",
       "      <td>13.280694</td>\n",
       "    </tr>\n",
       "    <tr>\n",
       "      <th>2178</th>\n",
       "      <td>2437</td>\n",
       "      <td>initial</td>\n",
       "      <td>601181.0</td>\n",
       "      <td>Sphoeroides maculatus</td>\n",
       "      <td>Sphoeroides maculatus</td>\n",
       "      <td>Sphoeroides maculatus</td>\n",
       "      <td>species</td>\n",
       "      <td>Sphoeroides</td>\n",
       "      <td>Tetraodontidae</td>\n",
       "      <td>Tetraodontiformes</td>\n",
       "      <td>...</td>\n",
       "      <td>5.717851</td>\n",
       "      <td>2.740310</td>\n",
       "      <td>4.531015</td>\n",
       "      <td>7.251650</td>\n",
       "      <td>11.124164</td>\n",
       "      <td>0.0</td>\n",
       "      <td>0.0</td>\n",
       "      <td>0.0</td>\n",
       "      <td>0.777819</td>\n",
       "      <td>7.654255</td>\n",
       "    </tr>\n",
       "    <tr>\n",
       "      <th>2179</th>\n",
       "      <td>740</td>\n",
       "      <td>SAU</td>\n",
       "      <td>613810.0</td>\n",
       "      <td>Sphoeroides marmoratus</td>\n",
       "      <td>Sphoeroides marmoratus</td>\n",
       "      <td>Sphoeroides marmoratus</td>\n",
       "      <td>species</td>\n",
       "      <td>Sphoeroides</td>\n",
       "      <td>Tetraodontidae</td>\n",
       "      <td>Tetraodontiformes</td>\n",
       "      <td>...</td>\n",
       "      <td>4.724677</td>\n",
       "      <td>2.325182</td>\n",
       "      <td>3.779596</td>\n",
       "      <td>5.879007</td>\n",
       "      <td>8.748768</td>\n",
       "      <td>0.0</td>\n",
       "      <td>0.0</td>\n",
       "      <td>0.0</td>\n",
       "      <td>1.011287</td>\n",
       "      <td>7.884771</td>\n",
       "    </tr>\n",
       "    <tr>\n",
       "      <th>2431</th>\n",
       "      <td>2604</td>\n",
       "      <td>initial</td>\n",
       "      <td>600336.0</td>\n",
       "      <td>Zenopsis conchifer</td>\n",
       "      <td>Zenopsis conchifer</td>\n",
       "      <td>Zenopsis conchifer</td>\n",
       "      <td>species</td>\n",
       "      <td>Zenopsis</td>\n",
       "      <td>Zeidae</td>\n",
       "      <td>Zeiformes</td>\n",
       "      <td>...</td>\n",
       "      <td>4.613067</td>\n",
       "      <td>1.566327</td>\n",
       "      <td>3.295901</td>\n",
       "      <td>6.351437</td>\n",
       "      <td>11.501383</td>\n",
       "      <td>0.0</td>\n",
       "      <td>0.0</td>\n",
       "      <td>0.0</td>\n",
       "      <td>1.223393</td>\n",
       "      <td>14.250567</td>\n",
       "    </tr>\n",
       "    <tr>\n",
       "      <th>2434</th>\n",
       "      <td>658</td>\n",
       "      <td>SAU</td>\n",
       "      <td>607952.0</td>\n",
       "      <td>Zeus capensis</td>\n",
       "      <td>Zeus capensis</td>\n",
       "      <td>Zeus capensis</td>\n",
       "      <td>species</td>\n",
       "      <td>Zeus</td>\n",
       "      <td>Zeidae</td>\n",
       "      <td>Zeiformes</td>\n",
       "      <td>...</td>\n",
       "      <td>2.782543</td>\n",
       "      <td>1.147859</td>\n",
       "      <td>2.120425</td>\n",
       "      <td>3.603916</td>\n",
       "      <td>5.767720</td>\n",
       "      <td>0.0</td>\n",
       "      <td>0.0</td>\n",
       "      <td>0.0</td>\n",
       "      <td>0.963662</td>\n",
       "      <td>11.523514</td>\n",
       "    </tr>\n",
       "    <tr>\n",
       "      <th>2438</th>\n",
       "      <td>524</td>\n",
       "      <td>SAU</td>\n",
       "      <td>605772.0</td>\n",
       "      <td>Zoramia gilberti</td>\n",
       "      <td>Zoramia gilberti</td>\n",
       "      <td>Zoramia gilberti</td>\n",
       "      <td>species</td>\n",
       "      <td>Zoramia</td>\n",
       "      <td>Apogonidae</td>\n",
       "      <td>Perciformes</td>\n",
       "      <td>...</td>\n",
       "      <td>1.480378</td>\n",
       "      <td>0.000000</td>\n",
       "      <td>0.558444</td>\n",
       "      <td>2.898430</td>\n",
       "      <td>8.592654</td>\n",
       "      <td>0.0</td>\n",
       "      <td>0.0</td>\n",
       "      <td>0.0</td>\n",
       "      <td>1.437210</td>\n",
       "      <td>20.488938</td>\n",
       "    </tr>\n",
       "  </tbody>\n",
       "</table>\n",
       "<p>33 rows × 63 columns</p>\n",
       "</div>"
      ],
      "text/plain": [
       "      UniqueID     Data  taxon_key                   ScientificName  \\\n",
       "266       1073  initial   600391.0                      Brama brama   \n",
       "286        178      SAU   601225.0               Calamus leucosteus   \n",
       "325        264      SAU   601907.0         Carangoides hedlandensis   \n",
       "361       1143  initial   614242.0            Centriscops humerosus   \n",
       "543        676      SAU   608838.0            Clidoderma asperrimum   \n",
       "621       1331  initial   600062.0               Cyclopterus lumpus   \n",
       "678       1366  initial   601048.0               Diapterus rhombeus   \n",
       "815       1466  initial   601391.0                  Etelis oculatus   \n",
       "821        369      SAU   604221.0                Etropus crossotus   \n",
       "826       1475  initial        NaN              Eubalichthys gunnii   \n",
       "853       1484  initial   600308.0              Gadus macrocephalus   \n",
       "1051      1621  initial   600334.0          Hoplostethus atlanticus   \n",
       "1155      1696  initial   601072.0                 Lampris guttatus   \n",
       "1230      1755  initial   601077.0             Lobotes surinamensis   \n",
       "1232      1758  initial   605094.0                Lophius budegassa   \n",
       "1233      1759  initial   601078.0             Lophius gastrophysus   \n",
       "1234      1760  initial   600716.0              Lophius piscatorius   \n",
       "1236      1761  initial   610256.0                Lophius vomerinus   \n",
       "1344      1853  initial   601826.0             Merluccius paradoxus   \n",
       "1421       206      SAU   601329.0           Myoxocephalus scorpius   \n",
       "1568        19      SAU   600193.0                Paracaesio stonei   \n",
       "1584       794      SAU   654963.0             Paralichthys microps   \n",
       "1639      2051  initial   612357.0           Pentaceros decacanthus   \n",
       "1651        58      SAU   600493.0              Peprilus simillimus   \n",
       "1652       752      SAU   614146.0                 Peprilus snyderi   \n",
       "1722       371      SAU   604250.0  Pleuronectes quadrituberculatus   \n",
       "1812       435      SAU   605068.0              Psettodes bennettii   \n",
       "2095       208      SAU   601352.0               Sebastes viviparus   \n",
       "2178      2437  initial   601181.0            Sphoeroides maculatus   \n",
       "2179       740      SAU   613810.0           Sphoeroides marmoratus   \n",
       "2431      2604  initial   600336.0               Zenopsis conchifer   \n",
       "2434       658      SAU   607952.0                    Zeus capensis   \n",
       "2438       524      SAU   605772.0                 Zoramia gilberti   \n",
       "\n",
       "             ScientificName_corrected                          Species  \\\n",
       "266                       Brama brama                      Brama brama   \n",
       "286                Calamus leucosteus               Calamus leucosteus   \n",
       "325          Carangoides hedlandensis         Carangoides hedlandensis   \n",
       "361             Centriscops humerosus            Centriscops humerosus   \n",
       "543             Clidoderma asperrimum            Clidoderma asperrimum   \n",
       "621                Cyclopterus lumpus               Cyclopterus lumpus   \n",
       "678                Diapterus rhombeus               Diapterus rhombeus   \n",
       "815                   Etelis oculatus                  Etelis oculatus   \n",
       "821                 Etropus crossotus                Etropus crossotus   \n",
       "826               Eubalichthys gunnii              Eubalichthys gunnii   \n",
       "853               Gadus macrocephalus              Gadus macrocephalus   \n",
       "1051          Hoplostethus atlanticus          Hoplostethus atlanticus   \n",
       "1155                 Lampris guttatus                 Lampris guttatus   \n",
       "1230             Lobotes surinamensis             Lobotes surinamensis   \n",
       "1232                Lophius budegassa                Lophius budegassa   \n",
       "1233             Lophius gastrophysus             Lophius gastrophysus   \n",
       "1234              Lophius piscatorius              Lophius piscatorius   \n",
       "1236                Lophius vomerinus                Lophius vomerinus   \n",
       "1344             Merluccius paradoxus             Merluccius paradoxus   \n",
       "1421           Myoxocephalus scorpius           Myoxocephalus scorpius   \n",
       "1568                Paracaesio stonei                Paracaesio stonei   \n",
       "1584             Paralichthys microps             Paralichthys microps   \n",
       "1639           Pentaceros decacanthus           Pentaceros decacanthus   \n",
       "1651              Peprilus simillimus              Peprilus simillimus   \n",
       "1652                 Peprilus snyderi                 Peprilus snyderi   \n",
       "1722  Pleuronectes quadrituberculatus  Pleuronectes quadrituberculatus   \n",
       "1812              Psettodes bennettii              Psettodes bennettii   \n",
       "2095               Sebastes viviparus               Sebastes viviparus   \n",
       "2178            Sphoeroides maculatus            Sphoeroides maculatus   \n",
       "2179           Sphoeroides marmoratus           Sphoeroides marmoratus   \n",
       "2431               Zenopsis conchifer               Zenopsis conchifer   \n",
       "2434                    Zeus capensis                    Zeus capensis   \n",
       "2438                 Zoramia gilberti                 Zoramia gilberti   \n",
       "\n",
       "        Level          Genus           Family              Order  ...  \\\n",
       "266   species          Brama         Bramidae        Perciformes  ...   \n",
       "286   species        Calamus         Sparidae        Perciformes  ...   \n",
       "325   species    Carangoides       Carangidae        Perciformes  ...   \n",
       "361   species    Centriscops     Centriscidae    Syngnathiformes  ...   \n",
       "543   species     Clidoderma   Pleuronectidae  Pleuronectiformes  ...   \n",
       "621   species    Cyclopterus    Cyclopteridae    Scorpaeniformes  ...   \n",
       "678   species      Diapterus        Gerreidae        Perciformes  ...   \n",
       "815   species         Etelis       Lutjanidae        Perciformes  ...   \n",
       "821   species        Etropus  Paralichthyidae  Pleuronectiformes  ...   \n",
       "826   species   Eubalichthys    Monacanthidae  Tetraodontiformes  ...   \n",
       "853   species          Gadus          Gadidae         Gadiformes  ...   \n",
       "1051  species   Hoplostethus  Trachichthyidae       Beryciformes  ...   \n",
       "1155  species        Lampris        Lampridae       Lampriformes  ...   \n",
       "1230  species        Lobotes        Lobotidae        Perciformes  ...   \n",
       "1232  species        Lophius        Lophiidae       Lophiiformes  ...   \n",
       "1233  species        Lophius        Lophiidae       Lophiiformes  ...   \n",
       "1234  species        Lophius        Lophiidae       Lophiiformes  ...   \n",
       "1236  species        Lophius        Lophiidae       Lophiiformes  ...   \n",
       "1344  species     Merluccius     Merlucciidae         Gadiformes  ...   \n",
       "1421  species  Myoxocephalus         Cottidae    Scorpaeniformes  ...   \n",
       "1568  species     Paracaesio       Lutjanidae        Perciformes  ...   \n",
       "1584  species   Paralichthys  Paralichthyidae  Pleuronectiformes  ...   \n",
       "1639  species     Pentaceros   Pentacerotidae        Perciformes  ...   \n",
       "1651  species       Peprilus     Stromateidae        Perciformes  ...   \n",
       "1652  species       Peprilus     Stromateidae        Perciformes  ...   \n",
       "1722  species   Pleuronectes   Pleuronectidae  Pleuronectiformes  ...   \n",
       "1812  species      Psettodes      Psettodidae  Pleuronectiformes  ...   \n",
       "2095  species       Sebastes       Sebastidae    Scorpaeniformes  ...   \n",
       "2178  species    Sphoeroides   Tetraodontidae  Tetraodontiformes  ...   \n",
       "2179  species    Sphoeroides   Tetraodontidae  Tetraodontiformes  ...   \n",
       "2431  species       Zenopsis           Zeidae          Zeiformes  ...   \n",
       "2434  species           Zeus           Zeidae          Zeiformes  ...   \n",
       "2438  species        Zoramia       Apogonidae        Perciformes  ...   \n",
       "\n",
       "     Omega3_mu  Omega3_l95  Omega3_l50 Omega3_u50 Omega3_u95  Vitamin_A_mu  \\\n",
       "266   2.928406    1.083102    2.151708   3.914999   6.508558           0.0   \n",
       "286   3.474054    1.598506    2.719806   4.407026   6.817203           0.0   \n",
       "325   1.162320    0.000000    0.219853   2.768071  10.108259           0.0   \n",
       "361   6.909025    3.091406    5.343792   8.977242  14.354733           0.0   \n",
       "543   6.619545    2.997134    5.126800   8.509738  13.649496           0.0   \n",
       "621   5.528061    2.534119    4.301938   7.131553  11.239088           0.0   \n",
       "678   3.825601    0.266585    2.047353   6.576892  17.500637           0.0   \n",
       "815   3.701201    1.655392    2.868521   4.715840   7.396536           0.0   \n",
       "821   5.286659    1.363322    3.492653   7.738660  15.606048           0.0   \n",
       "826   4.091599    1.840572    3.170201   5.222155   8.185710           0.0   \n",
       "853   5.665982    3.302674    4.719101   6.728540   9.358224           0.0   \n",
       "1051  3.183514    1.133668    2.307776   4.276082   7.195919           0.0   \n",
       "1155  2.463522    0.727828    1.721077   3.393632   6.002623           0.0   \n",
       "1230  2.862371    1.061475    2.111774   3.797938   6.231967           0.0   \n",
       "1232  2.219027    0.842390    1.663635   2.907563   4.682915           0.0   \n",
       "1233  4.917888    2.105642    3.755989   6.423391  10.444982           0.0   \n",
       "1234  2.393294    0.948966    1.810700   3.120983   4.951375           0.0   \n",
       "1236  2.662335    0.885799    1.915138   3.620577   6.130433           0.0   \n",
       "1344  3.697088    1.961077    3.012769   4.499713   6.450120           0.0   \n",
       "1421  6.290882    3.472700    5.164608   7.615861  10.861758           0.0   \n",
       "1568  3.919291    1.864641    3.107019   4.915125   7.508563           0.0   \n",
       "1584  5.410548    2.559874    4.245717   6.856890  10.544469           0.0   \n",
       "1639  6.920865    3.093327    5.308131   8.989250  14.470290           0.0   \n",
       "1651  3.722756    1.565961    2.845243   4.821101   7.659638           0.0   \n",
       "1652  3.957253    1.712461    3.045038   5.096554   8.058946           0.0   \n",
       "1722  4.943629    2.324338    3.882204   6.265858   9.679315           0.0   \n",
       "1812  3.074088    1.261826    2.334808   3.997866   6.366117           0.0   \n",
       "2095  4.279058    1.885225    3.294894   5.497478   8.712407           0.0   \n",
       "2178  5.717851    2.740310    4.531015   7.251650  11.124164           0.0   \n",
       "2179  4.724677    2.325182    3.779596   5.879007   8.748768           0.0   \n",
       "2431  4.613067    1.566327    3.295901   6.351437  11.501383           0.0   \n",
       "2434  2.782543    1.147859    2.120425   3.603916   5.767720           0.0   \n",
       "2438  1.480378    0.000000    0.558444   2.898430   8.592654           0.0   \n",
       "\n",
       "      Vitamin_A_l95  Vitamin_A_l50 Vitamin_A_u50 Vitamin_A_u95  \n",
       "266             0.0            0.0      1.292255     26.842033  \n",
       "286             0.0            0.0      0.967519      9.572231  \n",
       "325             0.0            0.0      1.736128     34.104011  \n",
       "361             0.0            0.0      0.075779      6.210481  \n",
       "543             0.0            0.0      1.067411      9.943840  \n",
       "621             0.0            0.0      0.000000      3.635506  \n",
       "678             0.0            0.0      1.035540     14.593251  \n",
       "815             0.0            0.0      0.936687     14.321134  \n",
       "821             0.0            0.0      1.156490     10.634168  \n",
       "826             0.0            0.0      1.103426     10.141070  \n",
       "853             0.0            0.0      1.066884     10.276547  \n",
       "1051            0.0            0.0      1.792003     39.366307  \n",
       "1155            0.0            0.0      0.000000      9.307948  \n",
       "1230            0.0            0.0      1.166734     12.524158  \n",
       "1232            0.0            0.0      0.000000      9.193013  \n",
       "1233            0.0            0.0      0.000000      2.994030  \n",
       "1234            0.0            0.0      0.000000      8.153884  \n",
       "1236            0.0            0.0      0.221439     11.299430  \n",
       "1344            0.0            0.0      1.174197     12.809931  \n",
       "1421            0.0            0.0      1.011232     11.123206  \n",
       "1568            0.0            0.0      1.188386     10.333390  \n",
       "1584            0.0            0.0      1.024145      9.081560  \n",
       "1639            0.0            0.0      0.000000      5.145154  \n",
       "1651            0.0            0.0      0.000000      4.100772  \n",
       "1652            0.0            0.0      0.000000      3.803397  \n",
       "1722            0.0            0.0      0.116680      7.018041  \n",
       "1812            0.0            0.0      0.239482      6.188459  \n",
       "2095            0.0            0.0      0.574365     13.280694  \n",
       "2178            0.0            0.0      0.777819      7.654255  \n",
       "2179            0.0            0.0      1.011287      7.884771  \n",
       "2431            0.0            0.0      1.223393     14.250567  \n",
       "2434            0.0            0.0      0.963662     11.523514  \n",
       "2438            0.0            0.0      1.437210     20.488938  \n",
       "\n",
       "[33 rows x 63 columns]"
      ]
     },
     "execution_count": 47,
     "metadata": {},
     "output_type": "execute_result"
    }
   ],
   "source": [
    "sdata[xmu==0]"
   ]
  },
  {
   "cell_type": "code",
   "execution_count": 48,
   "metadata": {},
   "outputs": [
    {
     "data": {
      "image/png": "[encoded data removed]",
      "text/plain": [
       "<Figure size 432x288 with 1 Axes>"
      ]
     },
     "metadata": {
      "needs_background": "light"
     },
     "output_type": "display_data"
    }
   ],
   "source": [
    "plt.hist(sdata['Vitamin_A_mu'])\n",
    "plt.xlim(0,1000);"
   ]
  },
  {
   "cell_type": "code",
   "execution_count": 49,
   "metadata": {},
   "outputs": [
    {
     "data": {
      "image/png": "[encoded data removed]",
      "text/plain": [
       "<Figure size 432x288 with 1 Axes>"
      ]
     },
     "metadata": {
      "needs_background": "light"
     },
     "output_type": "display_data"
    }
   ],
   "source": [
    "Y_ = ndata.VitA_Value.values\n",
    "indx = np.isnan(Y_)==False\n",
    "Y = Y_[indx]\n",
    "plt.hist(Y,bins=100)\n",
    "plt.xlim(0,1000);"
   ]
  },
  {
   "cell_type": "code",
   "execution_count": 50,
   "metadata": {},
   "outputs": [
    {
     "data": {
      "text/plain": [
       "(array([  1.3214817 ,  20.66507906, 166.37813528]), array([  0.,  17., 620.]))"
      ]
     },
     "execution_count": 50,
     "metadata": {},
     "output_type": "execute_result"
    }
   ],
   "source": [
    "np.percentile(sdata['Vitamin_A_mu'],(5,50,95)), np.percentile(Y,(5,50,95))"
   ]
  },
  {
   "cell_type": "code",
   "execution_count": 51,
   "metadata": {},
   "outputs": [],
   "source": [
    "# Specify nutrient\n",
    "REZ = Selenium\n",
    "\n",
    "# Add empty columns to SAU data\n",
    "xmu = np.empty(nrows)\n",
    "xl95 = np.empty(nrows)\n",
    "xl50 = np.empty(nrows)\n",
    "xu50 = np.empty(nrows)\n",
    "xu95 = np.empty(nrows)\n",
    "\n",
    "for i in range(nrows):\n",
    "    #print(i/nrows)\n",
    "    # μ = β0+β1[Ih]+β2[Ic]+β3*MaxDepth+β4*TL+β5*Pelagic+β6*LMax+β7[Ib]+β8*K+β9*tm+β10[If]+β11[Ip]+β12[Is]\n",
    "    tmp = sdata.iloc[i]\n",
    "    # Expected nutrients\n",
    "    Ex = REZ['Intercept'].values+REZ[tmp['DemersPelag']].values+REZ[tmp['EnvTemp']].values+REZ['MaxDepth'].values*np.log(tmp['DepthRangeDeep'])+REZ['TL'].values*tmp['trophic_level']+REZ['pelagic'].values*1*(tmp['Feeding_path']=='pelagic')+REZ['LMax'].values*np.log(tmp['LMax'])+REZ[tmp['BodyShapeI']].values+REZ['K'].values*tmp['K']+REZ['tm'].values*np.log(tmp['tm'])\n",
    "    # Scaled to catch - g/100g to kg/yr = g/kg/yr\n",
    "    #nut = ((np.exp(Ex)-1)*10)*np.log(tmp['kg_year']/1000+1)\n",
    "    nut = np.exp(Ex)-1\n",
    "    \n",
    "    # Add summary statistics to SAU data\n",
    "    xmu[i] = max(np.median(nut),0)\n",
    "    xl95[i] = max(np.percentile(nut,2.5),0)\n",
    "    xl50[i] = max(np.percentile(nut,25),0)\n",
    "    xu50[i] = max(np.percentile(nut,75),0)\n",
    "    xu95[i] = max(np.percentile(nut,97.5),0)\n",
    "    \n",
    "sdata['Selenium_mu'] = xmu\n",
    "sdata['Selenium_l95'] = xl95\n",
    "sdata['Selenium_l50'] = xl50\n",
    "sdata['Selenium_u50'] = xu50\n",
    "sdata['Selenium_u95'] = xu95"
   ]
  },
  {
   "cell_type": "code",
   "execution_count": 52,
   "metadata": {},
   "outputs": [
    {
     "data": {
      "text/html": [
       "<div>\n",
       "<style scoped>\n",
       "    .dataframe tbody tr th:only-of-type {\n",
       "        vertical-align: middle;\n",
       "    }\n",
       "\n",
       "    .dataframe tbody tr th {\n",
       "        vertical-align: top;\n",
       "    }\n",
       "\n",
       "    .dataframe thead th {\n",
       "        text-align: right;\n",
       "    }\n",
       "</style>\n",
       "<table border=\"1\" class=\"dataframe\">\n",
       "  <thead>\n",
       "    <tr style=\"text-align: right;\">\n",
       "      <th></th>\n",
       "      <th>UniqueID</th>\n",
       "      <th>Data</th>\n",
       "      <th>taxon_key</th>\n",
       "      <th>ScientificName</th>\n",
       "      <th>ScientificName_corrected</th>\n",
       "      <th>Species</th>\n",
       "      <th>Level</th>\n",
       "      <th>Genus</th>\n",
       "      <th>Family</th>\n",
       "      <th>Order</th>\n",
       "      <th>...</th>\n",
       "      <th>Vitamin_A_mu</th>\n",
       "      <th>Vitamin_A_l95</th>\n",
       "      <th>Vitamin_A_l50</th>\n",
       "      <th>Vitamin_A_u50</th>\n",
       "      <th>Vitamin_A_u95</th>\n",
       "      <th>Selenium_mu</th>\n",
       "      <th>Selenium_l95</th>\n",
       "      <th>Selenium_l50</th>\n",
       "      <th>Selenium_u50</th>\n",
       "      <th>Selenium_u95</th>\n",
       "    </tr>\n",
       "  </thead>\n",
       "  <tbody>\n",
       "  </tbody>\n",
       "</table>\n",
       "<p>0 rows × 68 columns</p>\n",
       "</div>"
      ],
      "text/plain": [
       "Empty DataFrame\n",
       "Columns: [UniqueID, Data, taxon_key, ScientificName, ScientificName_corrected, Species, Level, Genus, Family, Order, Class, FamCode, GenCode, DemersPelagic, EnvTemp, DepthRangeShallow, DepthRangeDeep, Lmax, BodyShape, Feeding_path, K, tm, trophic_level, DepthRangeDeepLevel, KLevel, tmLevel, trophic_levelLevel, LMaxLevel, BodyShapeILevel, EnvTempLevel, LMax, DemersPelag, BodyShapeI, Protein_mu, Protein_l95, Protein_l50, Protein_u50, Protein_u95, Zinc_mu, Zinc_l95, Zinc_l50, Zinc_u50, Zinc_u95, Iron_mu, Iron_l95, Iron_l50, Iron_u50, Iron_u95, Calcium_mu, Calcium_l95, Calcium_l50, Calcium_u50, Calcium_u95, Omega3_mu, Omega3_l95, Omega3_l50, Omega3_u50, Omega3_u95, Vitamin_A_mu, Vitamin_A_l95, Vitamin_A_l50, Vitamin_A_u50, Vitamin_A_u95, Selenium_mu, Selenium_l95, Selenium_l50, Selenium_u50, Selenium_u95]\n",
       "Index: []\n",
       "\n",
       "[0 rows x 68 columns]"
      ]
     },
     "execution_count": 52,
     "metadata": {},
     "output_type": "execute_result"
    }
   ],
   "source": [
    "sdata[np.isinf(xmu)]"
   ]
  },
  {
   "cell_type": "code",
   "execution_count": 53,
   "metadata": {},
   "outputs": [
    {
     "data": {
      "text/html": [
       "<div>\n",
       "<style scoped>\n",
       "    .dataframe tbody tr th:only-of-type {\n",
       "        vertical-align: middle;\n",
       "    }\n",
       "\n",
       "    .dataframe tbody tr th {\n",
       "        vertical-align: top;\n",
       "    }\n",
       "\n",
       "    .dataframe thead th {\n",
       "        text-align: right;\n",
       "    }\n",
       "</style>\n",
       "<table border=\"1\" class=\"dataframe\">\n",
       "  <thead>\n",
       "    <tr style=\"text-align: right;\">\n",
       "      <th></th>\n",
       "      <th>UniqueID</th>\n",
       "      <th>Data</th>\n",
       "      <th>taxon_key</th>\n",
       "      <th>ScientificName</th>\n",
       "      <th>ScientificName_corrected</th>\n",
       "      <th>Species</th>\n",
       "      <th>Level</th>\n",
       "      <th>Genus</th>\n",
       "      <th>Family</th>\n",
       "      <th>Order</th>\n",
       "      <th>...</th>\n",
       "      <th>Vitamin_A_mu</th>\n",
       "      <th>Vitamin_A_l95</th>\n",
       "      <th>Vitamin_A_l50</th>\n",
       "      <th>Vitamin_A_u50</th>\n",
       "      <th>Vitamin_A_u95</th>\n",
       "      <th>Selenium_mu</th>\n",
       "      <th>Selenium_l95</th>\n",
       "      <th>Selenium_l50</th>\n",
       "      <th>Selenium_u50</th>\n",
       "      <th>Selenium_u95</th>\n",
       "    </tr>\n",
       "  </thead>\n",
       "  <tbody>\n",
       "  </tbody>\n",
       "</table>\n",
       "<p>0 rows × 68 columns</p>\n",
       "</div>"
      ],
      "text/plain": [
       "Empty DataFrame\n",
       "Columns: [UniqueID, Data, taxon_key, ScientificName, ScientificName_corrected, Species, Level, Genus, Family, Order, Class, FamCode, GenCode, DemersPelagic, EnvTemp, DepthRangeShallow, DepthRangeDeep, Lmax, BodyShape, Feeding_path, K, tm, trophic_level, DepthRangeDeepLevel, KLevel, tmLevel, trophic_levelLevel, LMaxLevel, BodyShapeILevel, EnvTempLevel, LMax, DemersPelag, BodyShapeI, Protein_mu, Protein_l95, Protein_l50, Protein_u50, Protein_u95, Zinc_mu, Zinc_l95, Zinc_l50, Zinc_u50, Zinc_u95, Iron_mu, Iron_l95, Iron_l50, Iron_u50, Iron_u95, Calcium_mu, Calcium_l95, Calcium_l50, Calcium_u50, Calcium_u95, Omega3_mu, Omega3_l95, Omega3_l50, Omega3_u50, Omega3_u95, Vitamin_A_mu, Vitamin_A_l95, Vitamin_A_l50, Vitamin_A_u50, Vitamin_A_u95, Selenium_mu, Selenium_l95, Selenium_l50, Selenium_u50, Selenium_u95]\n",
       "Index: []\n",
       "\n",
       "[0 rows x 68 columns]"
      ]
     },
     "execution_count": 53,
     "metadata": {},
     "output_type": "execute_result"
    }
   ],
   "source": [
    "sdata[xmu==0]"
   ]
  },
  {
   "cell_type": "code",
   "execution_count": 54,
   "metadata": {},
   "outputs": [
    {
     "data": {
      "image/png": "[encoded data removed]",
      "text/plain": [
       "<Figure size 432x288 with 1 Axes>"
      ]
     },
     "metadata": {
      "needs_background": "light"
     },
     "output_type": "display_data"
    }
   ],
   "source": [
    "plt.hist(sdata['Selenium_mu'])\n",
    "plt.xlim(0,500);"
   ]
  },
  {
   "cell_type": "code",
   "execution_count": 55,
   "metadata": {},
   "outputs": [
    {
     "data": {
      "image/png": "[encoded data removed]",
      "text/plain": [
       "<Figure size 432x288 with 1 Axes>"
      ]
     },
     "metadata": {
      "needs_background": "light"
     },
     "output_type": "display_data"
    }
   ],
   "source": [
    "Y_ = ndata.Se_Value.values\n",
    "indx = np.isnan(Y_)==False\n",
    "Y = Y_[indx]\n",
    "plt.hist(Y,bins=100)\n",
    "plt.xlim(0,500);"
   ]
  },
  {
   "cell_type": "code",
   "execution_count": 56,
   "metadata": {},
   "outputs": [
    {
     "data": {
      "text/plain": [
       "(array([ 5.93359539, 21.85192534, 67.80787365]),\n",
       " array([  0.6736,  31.    , 100.    ]))"
      ]
     },
     "execution_count": 56,
     "metadata": {},
     "output_type": "execute_result"
    }
   ],
   "source": [
    "np.percentile(sdata['Selenium_mu'],(5,50,95)), np.percentile(Y,(5,50,95))"
   ]
  },
  {
   "cell_type": "code",
   "execution_count": 57,
   "metadata": {},
   "outputs": [],
   "source": [
    "sdata.iloc[[list(sdata.ScientificName_corrected.values).index(s) for s in sdata.ScientificName_corrected.unique()],].to_csv('SppNutrients.csv')"
   ]
  },
  {
   "cell_type": "code",
   "execution_count": 58,
   "metadata": {},
   "outputs": [
    {
     "data": {
      "text/plain": [
       "<bound method NDFrame.head of       UniqueID     Data  taxon_key             ScientificName  \\\n",
       "0            2      SAU   600009.0        Abalistes stellaris   \n",
       "1          878  initial   600972.0             Ablennes hians   \n",
       "2          154      SAU   601119.0        Abudefduf saxatilis   \n",
       "3          496      SAU   605687.0  Abudefduf septemfasciatus   \n",
       "4          497      SAU   605688.0     Abudefduf sexfasciatus   \n",
       "...        ...      ...        ...                        ...   \n",
       "2435      2606  initial   601370.0                 Zeus faber   \n",
       "2436      2607  initial   600480.0         Zoarces americanus   \n",
       "2437      2609  initial   600479.0          Zoarces viviparus   \n",
       "2438       524      SAU   605772.0           Zoramia gilberti   \n",
       "2439       525      SAU   605774.0            Zoramia perlita   \n",
       "\n",
       "       ScientificName_corrected                    Species    Level  \\\n",
       "0           Abalistes stellaris        Abalistes stellaris  species   \n",
       "1                Ablennes hians             Ablennes hians  species   \n",
       "2           Abudefduf saxatilis        Abudefduf saxatilis  species   \n",
       "3     Abudefduf septemfasciatus  Abudefduf septemfasciatus  species   \n",
       "4        Abudefduf sexfasciatus     Abudefduf sexfasciatus  species   \n",
       "...                         ...                        ...      ...   \n",
       "2435                 Zeus faber                 Zeus faber  species   \n",
       "2436         Zoarces americanus         Zoarces americanus  species   \n",
       "2437          Zoarces viviparus          Zoarces viviparus  species   \n",
       "2438           Zoramia gilberti           Zoramia gilberti  species   \n",
       "2439            Zoramia perlita            Zoramia perlita  species   \n",
       "\n",
       "          Genus         Family              Order  ... Vitamin_A_mu  \\\n",
       "0     Abalistes     Balistidae  Tetraodontiformes  ...     2.695013   \n",
       "1      Ablennes      Belonidae       Beloniformes  ...     8.720583   \n",
       "2     Abudefduf  Pomacentridae        Perciformes  ...    17.192413   \n",
       "3     Abudefduf  Pomacentridae        Perciformes  ...    40.957001   \n",
       "4     Abudefduf  Pomacentridae        Perciformes  ...    41.403583   \n",
       "...         ...            ...                ...  ...          ...   \n",
       "2435       Zeus         Zeidae          Zeiformes  ...     1.512297   \n",
       "2436    Zoarces      Zoarcidae        Perciformes  ...     7.080230   \n",
       "2437    Zoarces      Zoarcidae        Perciformes  ...    16.344451   \n",
       "2438    Zoramia     Apogonidae        Perciformes  ...     0.000000   \n",
       "2439    Zoramia     Apogonidae        Perciformes  ...     1.612922   \n",
       "\n",
       "      Vitamin_A_l95  Vitamin_A_l50 Vitamin_A_u50 Vitamin_A_u95  Selenium_mu  \\\n",
       "0          0.000000       0.625658      7.437859     41.628080    50.433105   \n",
       "1          0.000000       2.182470     30.466752    289.082875    12.736805   \n",
       "2          0.000000       5.677666     48.542408    345.150656    38.938201   \n",
       "3          0.872619      13.584993    118.926978    948.160871    22.249431   \n",
       "4          1.472633      15.056217    112.056404    718.261455    39.332021   \n",
       "...             ...            ...           ...           ...          ...   \n",
       "2435       0.000000       0.004327      5.176994     35.265797    21.248764   \n",
       "2436       0.175235       3.178867     14.478792     52.922457    14.644330   \n",
       "2437       2.547576       9.170560     28.674789     83.998276     5.788253   \n",
       "2438       0.000000       0.000000      1.437210     20.488938     2.015493   \n",
       "2439       0.000000       0.033152      5.556861     39.121775     9.133936   \n",
       "\n",
       "      Selenium_l95  Selenium_l50 Selenium_u50 Selenium_u95  \n",
       "0        17.155827     35.404453    70.987030   137.775143  \n",
       "1         1.942104      7.114049    22.159665    65.920793  \n",
       "2         6.005015     21.315161    70.832261   228.535836  \n",
       "3         2.531559     11.254341    42.571840   151.724028  \n",
       "4         5.930466     21.449895    70.736719   226.073529  \n",
       "...            ...           ...          ...          ...  \n",
       "2435      6.742252     14.351827    31.156578    63.867601  \n",
       "2436      7.512053     11.651207    18.415868    28.209613  \n",
       "2437      2.397230      4.341525     7.639558    12.867176  \n",
       "2438      0.000000      0.600991     4.624800    18.002343  \n",
       "2439      0.759297      4.611707    17.059794    55.590112  \n",
       "\n",
       "[2440 rows x 68 columns]>"
      ]
     },
     "execution_count": 58,
     "metadata": {},
     "output_type": "execute_result"
    }
   ],
   "source": [
    "sdata.head"
   ]
  },
  {
   "cell_type": "code",
   "execution_count": null,
   "metadata": {},
   "outputs": [],
   "source": []
  }
 ],
 "metadata": {
  "kernelspec": {
   "display_name": "Python 3",
   "language": "python",
   "name": "python3"
  },
  "language_info": {
   "codemirror_mode": {
    "name": "ipython",
    "version": 3
   },
   "file_extension": ".py",
   "mimetype": "text/x-python",
   "name": "python",
   "nbconvert_exporter": "python",
   "pygments_lexer": "ipython3",
   "version": "3.8.3"
  }
 },
 "nbformat": 4,
 "nbformat_minor": 2
}
