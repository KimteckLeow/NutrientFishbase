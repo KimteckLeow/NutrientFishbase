{
 "cells": [
  {
   "cell_type": "markdown",
   "metadata": {},
   "source": [
    "# Nutrient analysis of global fisheries"
   ]
  },
  {
   "cell_type": "code",
   "execution_count": 1,
   "metadata": {},
   "outputs": [],
   "source": [
    "# Import python packages\n",
    "%matplotlib inline\n",
    "import pandas as pd\n",
    "import numpy as np\n",
    "import matplotlib.pyplot as plt\n",
    "import pymc3 as pm\n",
    "import theano as T\n",
    "import theano.tensor as tt\n",
    "import seaborn as sns\n",
    "import scipy as sp\n",
    "import pdb\n",
    "import arviz as az"
   ]
  },
  {
   "cell_type": "code",
   "execution_count": 2,
   "metadata": {},
   "outputs": [],
   "source": [
    "# Helper functions\n",
    "def indexall(L):\n",
    "    poo = []\n",
    "    for p in L:\n",
    "        if not p in poo:\n",
    "            poo.append(p)\n",
    "    Ix = np.array([poo.index(p) for p in L])\n",
    "    return poo,Ix\n",
    "\n",
    "# Helper functions\n",
    "def indexall_B(L,B):\n",
    "    poo = []\n",
    "    for p in L:\n",
    "        if not p in poo:\n",
    "            poo.append(p)\n",
    "    Ix = np.array([poo.index(p) for p in L])\n",
    "    a, b = poo.index(B), 0\n",
    "    poo[b], poo[a] = poo[a], poo[b]\n",
    "    \n",
    "    Ix[Ix==b] = -1\n",
    "    Ix[Ix==a] = 0\n",
    "    Ix[Ix==-1] = a\n",
    "    return poo,Ix\n",
    "\n",
    "def subindexall(short,long):\n",
    "    poo = []\n",
    "    out = []\n",
    "    for s,l in zip(short,long):\n",
    "        if not l in poo:\n",
    "            poo.append(l)\n",
    "            out.append(s)\n",
    "    return indexall(out)\n",
    "\n",
    "match = lambda a, b: np.array([ b.index(x) if x in b else None for x in a ])\n",
    "grep = lambda s, l: np.array([i for i in l if s in i])\n",
    "\n",
    "# Function to standardize covariates\n",
    "def stdize(x):\n",
    "    return (x-np.mean(x))/(2*np.std(x))\n",
    "\n",
    "# Coefficient of variation\n",
    "cv =  lambda x: np.var(x) / np.mean(x)"
   ]
  },
  {
   "cell_type": "markdown",
   "metadata": {},
   "source": [
    "## Import data"
   ]
  },
  {
   "cell_type": "code",
   "execution_count": 3,
   "metadata": {},
   "outputs": [],
   "source": [
    "# Nutrients data\n",
    "ndata = pd.read_csv('https://raw.githubusercontent.com/mamacneil/FishNutrients_sandbox/main/data/all_nutrients_active.csv?token=AADMXITPFVMF2LLKVPIPF4TASVILA')\n",
    "# Traits data\n",
    "tdata = pd.read_csv('https://raw.githubusercontent.com/mamacneil/FishNutrients_sandbox/main/data/all_traits_active.csv?token=AADMXIVH54FBLNNNE53HRDDASZ4UK')\n"
   ]
  },
  {
   "cell_type": "code",
   "execution_count": 4,
   "metadata": {},
   "outputs": [
    {
     "data": {
      "text/plain": [
       "array(['species', 'Genus', 'Family', 'Order', 'Class', 'spec_code',\n",
       "       'DemersPelag', 'EnvTemp', 'environment', 'Feeding_path',\n",
       "       'BodyShape', 'DepthRangeDeep', 'Lmax', 'trophic_level', 'K', 'tm'],\n",
       "      dtype=object)"
      ]
     },
     "execution_count": 4,
     "metadata": {},
     "output_type": "execute_result"
    }
   ],
   "source": [
    "tdata.columns.values"
   ]
  },
  {
   "cell_type": "code",
   "execution_count": 5,
   "metadata": {},
   "outputs": [
    {
     "data": {
      "text/html": [
       "<div>\n",
       "<style scoped>\n",
       "    .dataframe tbody tr th:only-of-type {\n",
       "        vertical-align: middle;\n",
       "    }\n",
       "\n",
       "    .dataframe tbody tr th {\n",
       "        vertical-align: top;\n",
       "    }\n",
       "\n",
       "    .dataframe thead th {\n",
       "        text-align: right;\n",
       "    }\n",
       "</style>\n",
       "<table border=\"1\" class=\"dataframe\">\n",
       "  <thead>\n",
       "    <tr style=\"text-align: right;\">\n",
       "      <th></th>\n",
       "      <th>species</th>\n",
       "      <th>spec_code</th>\n",
       "      <th>nutrient</th>\n",
       "      <th>value</th>\n",
       "      <th>sample_size</th>\n",
       "      <th>variance</th>\n",
       "      <th>sample_form</th>\n",
       "      <th>prep_form</th>\n",
       "      <th>environment</th>\n",
       "      <th>Class</th>\n",
       "      <th>...</th>\n",
       "      <th>Genus</th>\n",
       "      <th>DemersPelag</th>\n",
       "      <th>EnvTemp</th>\n",
       "      <th>DepthRangeDeep</th>\n",
       "      <th>trophic_level</th>\n",
       "      <th>Feeding_path</th>\n",
       "      <th>Lmax</th>\n",
       "      <th>BodyShape</th>\n",
       "      <th>K</th>\n",
       "      <th>tm</th>\n",
       "    </tr>\n",
       "  </thead>\n",
       "  <tbody>\n",
       "    <tr>\n",
       "      <th>0</th>\n",
       "      <td>Merluccius_merluccius</td>\n",
       "      <td>30</td>\n",
       "      <td>Selenium</td>\n",
       "      <td>65.0000</td>\n",
       "      <td>NaN</td>\n",
       "      <td>10.0</td>\n",
       "      <td>muscle</td>\n",
       "      <td>wet</td>\n",
       "      <td>marine</td>\n",
       "      <td>Actinopterygii</td>\n",
       "      <td>...</td>\n",
       "      <td>Merluccius</td>\n",
       "      <td>demersal</td>\n",
       "      <td>temperate</td>\n",
       "      <td>1075.0</td>\n",
       "      <td>4.40</td>\n",
       "      <td>pelagic</td>\n",
       "      <td>140.0</td>\n",
       "      <td>elongate</td>\n",
       "      <td>0.13</td>\n",
       "      <td>4.80</td>\n",
       "    </tr>\n",
       "    <tr>\n",
       "      <th>1</th>\n",
       "      <td>Scomber_scombrus</td>\n",
       "      <td>118</td>\n",
       "      <td>Selenium</td>\n",
       "      <td>208.0000</td>\n",
       "      <td>NaN</td>\n",
       "      <td>26.0</td>\n",
       "      <td>muscle</td>\n",
       "      <td>wet</td>\n",
       "      <td>marine</td>\n",
       "      <td>Actinopterygii</td>\n",
       "      <td>...</td>\n",
       "      <td>Scomber</td>\n",
       "      <td>pelagic_neritic</td>\n",
       "      <td>temperate</td>\n",
       "      <td>1000.0</td>\n",
       "      <td>3.60</td>\n",
       "      <td>pelagic</td>\n",
       "      <td>60.0</td>\n",
       "      <td>fusiform</td>\n",
       "      <td>0.26</td>\n",
       "      <td>2.60</td>\n",
       "    </tr>\n",
       "    <tr>\n",
       "      <th>2</th>\n",
       "      <td>Scomber_scombrus</td>\n",
       "      <td>118</td>\n",
       "      <td>Zinc</td>\n",
       "      <td>0.8090</td>\n",
       "      <td>11.0</td>\n",
       "      <td>NaN</td>\n",
       "      <td>muscle</td>\n",
       "      <td>wet</td>\n",
       "      <td>marine</td>\n",
       "      <td>Actinopterygii</td>\n",
       "      <td>...</td>\n",
       "      <td>Scomber</td>\n",
       "      <td>pelagic_neritic</td>\n",
       "      <td>temperate</td>\n",
       "      <td>1000.0</td>\n",
       "      <td>3.60</td>\n",
       "      <td>pelagic</td>\n",
       "      <td>60.0</td>\n",
       "      <td>fusiform</td>\n",
       "      <td>0.26</td>\n",
       "      <td>2.60</td>\n",
       "    </tr>\n",
       "    <tr>\n",
       "      <th>3</th>\n",
       "      <td>Scomber_scombrus</td>\n",
       "      <td>118</td>\n",
       "      <td>Selenium</td>\n",
       "      <td>22.4000</td>\n",
       "      <td>11.0</td>\n",
       "      <td>NaN</td>\n",
       "      <td>muscle</td>\n",
       "      <td>wet</td>\n",
       "      <td>marine</td>\n",
       "      <td>Actinopterygii</td>\n",
       "      <td>...</td>\n",
       "      <td>Scomber</td>\n",
       "      <td>pelagic_neritic</td>\n",
       "      <td>temperate</td>\n",
       "      <td>1000.0</td>\n",
       "      <td>3.60</td>\n",
       "      <td>pelagic</td>\n",
       "      <td>60.0</td>\n",
       "      <td>fusiform</td>\n",
       "      <td>0.26</td>\n",
       "      <td>2.60</td>\n",
       "    </tr>\n",
       "    <tr>\n",
       "      <th>4</th>\n",
       "      <td>Merluccius_gayi_gayi</td>\n",
       "      <td>324</td>\n",
       "      <td>Zinc</td>\n",
       "      <td>0.1787</td>\n",
       "      <td>11.0</td>\n",
       "      <td>NaN</td>\n",
       "      <td>muscle</td>\n",
       "      <td>wet</td>\n",
       "      <td>marine</td>\n",
       "      <td>Actinopterygii</td>\n",
       "      <td>...</td>\n",
       "      <td>Merluccius</td>\n",
       "      <td>demersal</td>\n",
       "      <td>polar_deep</td>\n",
       "      <td>500.0</td>\n",
       "      <td>4.32</td>\n",
       "      <td>pelagic</td>\n",
       "      <td>87.0</td>\n",
       "      <td>fusiform</td>\n",
       "      <td>0.25</td>\n",
       "      <td>3.67</td>\n",
       "    </tr>\n",
       "  </tbody>\n",
       "</table>\n",
       "<p>5 rows × 22 columns</p>\n",
       "</div>"
      ],
      "text/plain": [
       "                 species  spec_code  nutrient     value  sample_size  \\\n",
       "0  Merluccius_merluccius         30  Selenium   65.0000          NaN   \n",
       "1       Scomber_scombrus        118  Selenium  208.0000          NaN   \n",
       "2       Scomber_scombrus        118      Zinc    0.8090         11.0   \n",
       "3       Scomber_scombrus        118  Selenium   22.4000         11.0   \n",
       "4   Merluccius_gayi_gayi        324      Zinc    0.1787         11.0   \n",
       "\n",
       "   variance sample_form prep_form environment           Class  ...  \\\n",
       "0      10.0      muscle       wet      marine  Actinopterygii  ...   \n",
       "1      26.0      muscle       wet      marine  Actinopterygii  ...   \n",
       "2       NaN      muscle       wet      marine  Actinopterygii  ...   \n",
       "3       NaN      muscle       wet      marine  Actinopterygii  ...   \n",
       "4       NaN      muscle       wet      marine  Actinopterygii  ...   \n",
       "\n",
       "        Genus      DemersPelag     EnvTemp DepthRangeDeep trophic_level  \\\n",
       "0  Merluccius         demersal   temperate         1075.0          4.40   \n",
       "1     Scomber  pelagic_neritic   temperate         1000.0          3.60   \n",
       "2     Scomber  pelagic_neritic   temperate         1000.0          3.60   \n",
       "3     Scomber  pelagic_neritic   temperate         1000.0          3.60   \n",
       "4  Merluccius         demersal  polar_deep          500.0          4.32   \n",
       "\n",
       "   Feeding_path   Lmax BodyShape     K    tm  \n",
       "0       pelagic  140.0  elongate  0.13  4.80  \n",
       "1       pelagic   60.0  fusiform  0.26  2.60  \n",
       "2       pelagic   60.0  fusiform  0.26  2.60  \n",
       "3       pelagic   60.0  fusiform  0.26  2.60  \n",
       "4       pelagic   87.0  fusiform  0.25  3.67  \n",
       "\n",
       "[5 rows x 22 columns]"
      ]
     },
     "execution_count": 5,
     "metadata": {},
     "output_type": "execute_result"
    }
   ],
   "source": [
    "# Add traits information to nutritional dataframe\n",
    "indx = match(ndata.spec_code.unique(),list(tdata.spec_code.values))\n",
    "rindx = match(ndata.spec_code,list(ndata.spec_code.unique()))\n",
    "\n",
    "# Traits to port over\n",
    "tmp = ['Class', 'Order', 'Family','Genus', 'DemersPelag','EnvTemp', 'DepthRangeDeep', 'trophic_level', 'Feeding_path', 'Lmax','BodyShape', 'K', 'tm']\n",
    "\n",
    "# Port over\n",
    "for trait in tmp:\n",
    "    ndata[trait] = tdata[trait].values[indx][rindx]\n",
    "ndata.head()"
   ]
  },
  {
   "cell_type": "code",
   "execution_count": 6,
   "metadata": {},
   "outputs": [
    {
     "data": {
      "text/plain": [
       "array(['species', 'spec_code', 'nutrient', 'value', 'sample_size',\n",
       "       'variance', 'sample_form', 'prep_form', 'environment', 'Class',\n",
       "       'Order', 'Family', 'Genus', 'DemersPelag', 'EnvTemp',\n",
       "       'DepthRangeDeep', 'trophic_level', 'Feeding_path', 'Lmax',\n",
       "       'BodyShape', 'K', 'tm'], dtype=object)"
      ]
     },
     "execution_count": 6,
     "metadata": {},
     "output_type": "execute_result"
    }
   ],
   "source": [
    "ndata.columns.values"
   ]
  },
  {
   "cell_type": "markdown",
   "metadata": {},
   "source": [
    "### Datasets"
   ]
  },
  {
   "cell_type": "code",
   "execution_count": 7,
   "metadata": {},
   "outputs": [
    {
     "data": {
      "text/html": [
       "<div>\n",
       "<style scoped>\n",
       "    .dataframe tbody tr th:only-of-type {\n",
       "        vertical-align: middle;\n",
       "    }\n",
       "\n",
       "    .dataframe tbody tr th {\n",
       "        vertical-align: top;\n",
       "    }\n",
       "\n",
       "    .dataframe thead th {\n",
       "        text-align: right;\n",
       "    }\n",
       "</style>\n",
       "<table border=\"1\" class=\"dataframe\">\n",
       "  <thead>\n",
       "    <tr style=\"text-align: right;\">\n",
       "      <th></th>\n",
       "      <th>Nutrient</th>\n",
       "      <th>Sample size</th>\n",
       "    </tr>\n",
       "  </thead>\n",
       "  <tbody>\n",
       "    <tr>\n",
       "      <th>0</th>\n",
       "      <td>Selenium</td>\n",
       "      <td>299</td>\n",
       "    </tr>\n",
       "    <tr>\n",
       "      <th>1</th>\n",
       "      <td>Zinc</td>\n",
       "      <td>556</td>\n",
       "    </tr>\n",
       "    <tr>\n",
       "      <th>2</th>\n",
       "      <td>Protein</td>\n",
       "      <td>1004</td>\n",
       "    </tr>\n",
       "    <tr>\n",
       "      <th>3</th>\n",
       "      <td>Omega_3</td>\n",
       "      <td>291</td>\n",
       "    </tr>\n",
       "    <tr>\n",
       "      <th>4</th>\n",
       "      <td>Calcium</td>\n",
       "      <td>562</td>\n",
       "    </tr>\n",
       "    <tr>\n",
       "      <th>5</th>\n",
       "      <td>Iron</td>\n",
       "      <td>587</td>\n",
       "    </tr>\n",
       "    <tr>\n",
       "      <th>6</th>\n",
       "      <td>Vitamin_A</td>\n",
       "      <td>259</td>\n",
       "    </tr>\n",
       "  </tbody>\n",
       "</table>\n",
       "</div>"
      ],
      "text/plain": [
       "    Nutrient  Sample size\n",
       "0   Selenium          299\n",
       "1       Zinc          556\n",
       "2    Protein         1004\n",
       "3    Omega_3          291\n",
       "4    Calcium          562\n",
       "5       Iron          587\n",
       "6  Vitamin_A          259"
      ]
     },
     "execution_count": 7,
     "metadata": {},
     "output_type": "execute_result"
    }
   ],
   "source": [
    "# List available nutrients\n",
    "Nutrients =  ndata.nutrient.unique()\n",
    "# Number of nutrients\n",
    "nnut = len(Nutrients)\n",
    "# Return sample sizes\n",
    "pd.DataFrame({'Nutrient':Nutrients,'Sample size':[sum(ndata.nutrient.values==n) for n in Nutrients]})\n"
   ]
  },
  {
   "cell_type": "markdown",
   "metadata": {},
   "source": [
    "## ======= Change nutrient here & likelihood in the model ========= #"
   ]
  },
  {
   "cell_type": "code",
   "execution_count": 8,
   "metadata": {},
   "outputs": [
    {
     "data": {
      "text/plain": [
       "'Protein'"
      ]
     },
     "execution_count": 8,
     "metadata": {},
     "output_type": "execute_result"
    }
   ],
   "source": [
    "i = 2\n",
    "nut = Nutrients[i]\n",
    "nut"
   ]
  },
  {
   "cell_type": "code",
   "execution_count": 9,
   "metadata": {},
   "outputs": [
    {
     "name": "stdout",
     "output_type": "stream",
     "text": [
      "Now modelling Protein...\n"
     ]
    }
   ],
   "source": [
    "nut = Nutrients[i]\n",
    "print('Now modelling '+nut+'...')"
   ]
  },
  {
   "cell_type": "code",
   "execution_count": 10,
   "metadata": {},
   "outputs": [],
   "source": [
    "tmpdata = ndata[ndata.nutrient==nut]\n",
    "\n",
    "# Filter out zeros?\n",
    "tmpdata = tmpdata[tmpdata.value!=0].copy()\n",
    "\n",
    "# Response\n",
    "Y = tmpdata.value.values\n",
    "Ylog = np.log(Y)"
   ]
  },
  {
   "cell_type": "code",
   "execution_count": 11,
   "metadata": {},
   "outputs": [
    {
     "data": {
      "image/png": "[encoded data removed]",
      "text/plain": [
       "<Figure size 432x288 with 1 Axes>"
      ]
     },
     "metadata": {
      "needs_background": "light"
     },
     "output_type": "display_data"
    }
   ],
   "source": [
    "plt.hist(Ylog);"
   ]
  },
  {
   "cell_type": "code",
   "execution_count": 12,
   "metadata": {},
   "outputs": [
    {
     "data": {
      "text/plain": [
       "(array([95., 74., 39., 27., 22.,  6.,  6.,  6.,  2.,  3.]),\n",
       " array([0.  , 0.37, 0.74, 1.11, 1.48, 1.85, 2.22, 2.59, 2.96, 3.33, 3.7 ]),\n",
       " <BarContainer object of 10 artists>)"
      ]
     },
     "execution_count": 12,
     "metadata": {},
     "output_type": "execute_result"
    },
    {
     "data": {
      "image/png": "[encoded data removed]",
      "text/plain": [
       "<Figure size 432x288 with 1 Axes>"
      ]
     },
     "metadata": {
      "needs_background": "light"
     },
     "output_type": "display_data"
    }
   ],
   "source": [
    "plt.hist(tmpdata.variance)"
   ]
  },
  {
   "cell_type": "code",
   "execution_count": 13,
   "metadata": {},
   "outputs": [
    {
     "data": {
      "text/plain": [
       "0.7211155378486056"
      ]
     },
     "execution_count": 13,
     "metadata": {},
     "output_type": "execute_result"
    }
   ],
   "source": [
    "np.isnan(tmpdata.variance).mean()"
   ]
  },
  {
   "cell_type": "code",
   "execution_count": 14,
   "metadata": {},
   "outputs": [
    {
     "data": {
      "text/plain": [
       "0.48904382470119523"
      ]
     },
     "execution_count": 14,
     "metadata": {},
     "output_type": "execute_result"
    }
   ],
   "source": [
    "np.isnan(tmpdata.sample_size).mean()"
   ]
  },
  {
   "cell_type": "code",
   "execution_count": 15,
   "metadata": {},
   "outputs": [
    {
     "data": {
      "text/plain": [
       "<matplotlib.collections.PathCollection at 0x7f972ecce280>"
      ]
     },
     "execution_count": 15,
     "metadata": {},
     "output_type": "execute_result"
    },
    {
     "data": {
      "image/png": "[encoded data removed]",
      "text/plain": [
       "<Figure size 432x288 with 1 Axes>"
      ]
     },
     "metadata": {
      "needs_background": "light"
     },
     "output_type": "display_data"
    }
   ],
   "source": [
    "plt.scatter(np.log(tmpdata.sample_size),tmpdata.variance)"
   ]
  },
  {
   "cell_type": "code",
   "execution_count": 21,
   "metadata": {},
   "outputs": [
    {
     "data": {
      "text/plain": [
       "Index(['species', 'spec_code', 'nutrient', 'value', 'sample_size', 'variance',\n",
       "       'sample_form', 'prep_form', 'environment', 'Class', 'Order', 'Family',\n",
       "       'Genus', 'DemersPelag', 'EnvTemp', 'DepthRangeDeep', 'trophic_level',\n",
       "       'Feeding_path', 'Lmax', 'BodyShape', 'K', 'tm'],\n",
       "      dtype='object')"
      ]
     },
     "execution_count": 21,
     "metadata": {},
     "output_type": "execute_result"
    }
   ],
   "source": [
    "tmpdata.columns"
   ]
  },
  {
   "cell_type": "code",
   "execution_count": 37,
   "metadata": {},
   "outputs": [],
   "source": [
    "# Index for orders\n",
    "Class,Icl = subindexall(tmpdata[\"Class\"], tmpdata[\"Order\"])\n",
    "ncl = len(Class)\n",
    "\n",
    "Order,Ior = subindexall(tmpdata[\"Order\"], tmpdata[\"Family\"])\n",
    "nor = len(Order)\n",
    "\n",
    "Family,Ifa = subindexall(tmpdata[\"Family\"], tmpdata[\"Genus\"])\n",
    "nga = len(Family)\n",
    "\n",
    "Ige,Genus = pd.factorize(tmpdata[\"Genus\"], sort=True)\n",
    "ngen = len(Genus)\n",
    "\n",
    "# Index for species\n",
    "spxs = list(tmpdata['species'].values)\n",
    "sindx = np.array([spxs.index(s) for s in np.unique(spxs)])\n",
    "\n",
    "# Species-level covariates\n",
    "Habitat,Ih = subindexall(tmpdata['DemersPelag'].values, tmpdata['species'].values)\n",
    "nhabs = len(Habitat)\n",
    "Climate,Ic = subindexall(tmpdata['EnvTemp'].values, tmpdata['species'].values)\n",
    "nclim = len(Climate)\n",
    "MaxDepth = np.log(tmpdata['DepthRangeDeep'].values)[sindx]\n",
    "TL = tmpdata['trophic_level'].values[sindx]\n",
    "FeedingPath, Ifp = indexall(tmpdata['Feeding_path'].values[sindx])\n",
    "nfp = len(FeedPath)\n",
    "LMax = np.log(tmpdata['Lmax'].values)[sindx]\n",
    "BodyShape,Ib = subindexall(tmpdata['BodyShape'].values, tmpdata['species'].values)\n",
    "nbod = len(Body)\n",
    "K = tmpdata['K'].values[sindx]\n",
    "tm = np.log(tmpdata['tm'].values)[sindx]\n",
    "\n",
    "# Nussiance parameters\n",
    "Form,If = indexall(tmpdata['sample_form'].values)\n",
    "nform = len(Form)\n",
    "Prep,Ip = indexall(tmpdata['prep_form'].values)\n",
    "nprep = len(Prep)\n",
    "\n",
    "# Measurement error and replace zeros\n",
    "obs_var = tmpdata.variance.replace(0, np.nan)\n",
    "obs_var = obs_var[np.isfinite(obs_var)].values"
   ]
  },
  {
   "cell_type": "code",
   "execution_count": 23,
   "metadata": {},
   "outputs": [
    {
     "data": {
      "image/png": "[encoded data removed]",
      "text/plain": [
       "<Figure size 432x288 with 1 Axes>"
      ]
     },
     "metadata": {
      "needs_background": "light"
     },
     "output_type": "display_data"
    }
   ],
   "source": [
    "plt.hist(obs_var);"
   ]
  },
  {
   "cell_type": "code",
   "execution_count": 24,
   "metadata": {},
   "outputs": [
    {
     "data": {
      "text/plain": [
       "0.01"
      ]
     },
     "execution_count": 24,
     "metadata": {},
     "output_type": "execute_result"
    }
   ],
   "source": [
    "min(obs_var)"
   ]
  },
  {
   "cell_type": "code",
   "execution_count": 25,
   "metadata": {},
   "outputs": [
    {
     "data": {
      "image/png": "[encoded data removed]",
      "text/plain": [
       "<Figure size 432x288 with 1 Axes>"
      ]
     },
     "metadata": {
      "needs_background": "light"
     },
     "output_type": "display_data"
    }
   ],
   "source": [
    "plt.hist(Y);"
   ]
  },
  {
   "cell_type": "markdown",
   "metadata": {},
   "source": [
    "## Phylogeny\n",
    "\n"
   ]
  },
  {
   "cell_type": "code",
   "execution_count": 26,
   "metadata": {},
   "outputs": [],
   "source": [
    "# Phylogentic distance matrix\n",
    "pdata = pd.read_csv('mean_phy_dist.csv')\n",
    "pdata.rename(columns={'Unnamed: 0':'spp'}, inplace=True)\n",
    "\n",
    "# Average phylogentic relatedness value\n",
    "meanp = np.mean(pdata,axis=1).mean()\n",
    "# Store key for species locations in matrix\n",
    "pkey = pdata.spp.values\n",
    "# Drop species names column\n",
    "pdata = pdata.drop('spp',axis=1)\n",
    "# Add last row of average and turn into matrix\n",
    "pdata = np.vstack([pdata.values,[meanp]*len(pdata.values[0])])\n",
    "pdata = np.hstack((pdata, np.ones((pdata.shape[0], 1), dtype=pdata.dtype)*meanp))\n",
    "# Set last diagonal value to -999\n",
    "pdata[pdata.shape[0]-1,pdata.shape[0]-1] = -999\n",
    "# Add missing species location\n",
    "pkey = np.append(pkey,'Missing')"
   ]
  },
  {
   "cell_type": "code",
   "execution_count": 27,
   "metadata": {},
   "outputs": [],
   "source": [
    "# Unique species in nutrients data\n",
    "NutSpecies,Isp = indexall(tmpdata.species.values)\n",
    "nspp = len(NutSpecies)\n",
    "# Grab phylogentic matrix index for species in data\n",
    "pindx = match(NutSpecies,list(pkey))\n",
    "# Assign missing index for missing species\n",
    "pindx[pindx==None] = pdata.shape[0]-1\n",
    "pindx = pindx.astype(int)"
   ]
  },
  {
   "cell_type": "code",
   "execution_count": 28,
   "metadata": {},
   "outputs": [
    {
     "data": {
      "text/plain": [
       "455"
      ]
     },
     "execution_count": 28,
     "metadata": {},
     "output_type": "execute_result"
    }
   ],
   "source": [
    "len(Ih)"
   ]
  },
  {
   "cell_type": "code",
   "execution_count": 29,
   "metadata": {},
   "outputs": [],
   "source": [
    "# Grab matching phylogentic matrix\n",
    "Pmat = np.array([p[pindx] for p in pdata[pindx]])"
   ]
  },
  {
   "cell_type": "code",
   "execution_count": 30,
   "metadata": {},
   "outputs": [],
   "source": [
    "# Replace missing values with average, plus some error\n",
    "Pmat[Pmat==-999] = np.mean(Pmat[Pmat!=0][Pmat[Pmat!=0]!=-999])+np.random.normal(0,0.1,len(Pmat[Pmat==-999]))\n",
    "# Scale correlations\n",
    "Pmat = Pmat/max(Pmat.flatten())\n",
    "# Constrain max correlation to 0.9\n",
    "#Pmat[Pmat>0.9] = 0.9\n",
    "# Diagonal\n",
    "np.fill_diagonal(Pmat,0)"
   ]
  },
  {
   "cell_type": "code",
   "execution_count": 31,
   "metadata": {},
   "outputs": [
    {
     "data": {
      "image/png": "[encoded data removed]",
      "text/plain": [
       "<Figure size 432x288 with 1 Axes>"
      ]
     },
     "metadata": {
      "needs_background": "light"
     },
     "output_type": "display_data"
    }
   ],
   "source": [
    "plt.hist(Pmat)\n",
    "plt.xlabel('Phylo matrix');"
   ]
  },
  {
   "cell_type": "markdown",
   "metadata": {},
   "source": [
    "## Specify Bayesian model"
   ]
  },
  {
   "cell_type": "code",
   "execution_count": 32,
   "metadata": {},
   "outputs": [],
   "source": [
    "# Custom function \n",
    "class LinearMean(pm.gp.mean.Mean):\n",
    "    def __init__(self, b0, b1, b2, b3, b4, b5, b6, b7, b8, b9):\n",
    "        self.b0 = b0\n",
    "        self.b1 = b1\n",
    "        self.b2 = b2\n",
    "        self.b3 = b3\n",
    "        self.b4 = b4\n",
    "        self.b5 = b5\n",
    "        self.b6 = b6\n",
    "        self.b7 = b7\n",
    "        self.b8 = b8\n",
    "        self.b9 = b9\n",
    "\n",
    "    def __call__(self, X):\n",
    "        \"\"\"Where do the covariates come from?\"\"\"\n",
    "        return self.b0+self.b1+self.b2+self.b3*MaxDepth+self.b4*TL+self.b5+self.b6*LMax+self.b7+self.b8*K+self.b9*tm"
   ]
  },
  {
   "cell_type": "code",
   "execution_count": 42,
   "metadata": {},
   "outputs": [
    {
     "data": {
      "text/plain": [
       "455"
      ]
     },
     "execution_count": 42,
     "metadata": {},
     "output_type": "execute_result"
    }
   ],
   "source": [
    "len(Ib)"
   ]
  },
  {
   "cell_type": "code",
   "execution_count": 45,
   "metadata": {},
   "outputs": [],
   "source": [
    "coords = {'Class':Class,\n",
    "          'Order':Order,\n",
    "          'Family':Family,\n",
    "          'Genus':Genus,\n",
    "    'Habitat': Habitat,\n",
    "    'Climate': Climate,\n",
    "    'BodyShape': BodyShape,\n",
    "    'FeedingPath':FeedingPath,\n",
    "    'Form': Form,\n",
    "    'Prep': Prep,\n",
    "}\n",
    "\n",
    "Nsd = 1\n",
    "\n",
    "with pm.Model(coords=coords) as Model_1:\n",
    "    ## Species level parameters\n",
    "    # Intercept\n",
    "    β0 = pm.Normal('Intercept', 0, 1)\n",
    "    # Habitat type\n",
    "    β1 = pm.Normal('Habitat_x', 0, Nsd, dims='Habitat')\n",
    "    # Climate\n",
    "    β2 = pm.Normal('Climate_x', 0, Nsd, dims='Climate')\n",
    "    # Maximum Depth\n",
    "    β3 = pm.Normal('MaxDepth', 0, Nsd)\n",
    "    # Total Length\n",
    "    β4 = pm.Normal('TL', 0, Nsd)\n",
    "    # Pelagic/demersal\n",
    "    β5 = pm.Normal('FeedingPath_x', 0, Nsd, dims='FeedingPath')\n",
    "    # Maximum length\n",
    "    β6 = pm.Normal('LMax', 0, Nsd)\n",
    "    # Body form\n",
    "    β7 = pm.Normal('BodyShape_x', 0, Nsd, dims='BodyShape')\n",
    "    # Growth parameter\n",
    "    β8 = pm.Normal('K', 0, Nsd)\n",
    "    # Age at maturity\n",
    "    β9 = pm.Normal('tm', 0, Nsd)\n",
    "    \n",
    "    # Linear model for each species\n",
    "    mu = LinearMean(β0,β1[Ih],β2[Ic],β3,β4,β5[Ifp],β6,β7[Ib],β8,β9)\n",
    "    \n",
    "    # half_normal(1, 0.25) is too strong\n",
    "    etasq = pm.Exponential(\"etasq\", .25)\n",
    "    rhosq = pm.Normal(\"rhosq\", 3, .25)\n",
    "    #etasq = pm.Normal(\"etasq\", 1.0, 0.25)\n",
    "    \n",
    "    # specify the covariance function:\n",
    "    cov = etasq * pm.gp.cov.Exponential(input_dim=nspp, ls=rhosq)\n",
    "    \n",
    "    \n",
    "    gp = pm.gp.Latent(mean_func=mu, cov_func=cov)\n",
    "    # Species-level intercepts\n",
    "    μ0 = gp.prior(\"μ0\", X=Pmat)\n",
    "    \n",
    "    ## Observation level nussiance parameters\n",
    "    # Form of sample\n",
    "    β10 = pm.Normal('Form_x', 0, Nsd, dims='Form')\n",
    "    # Form of prepartion\n",
    "    β11 = pm.Normal('Prep_x', 0, Nsd, dims='Prep')\n",
    "    # Observation model\n",
    "    μ_ = μ0[Isp]+β10[If]+β11[Ip]\n",
    "    \n",
    "    if nut in ['Protein']:\n",
    "        μ = μ_\n",
    "        σα = pm.Gamma('obs_alpha', 10, 10)\n",
    "        σβ = pm.Gamma('obs_beta', 10, 10)\n",
    "        #σ_ = pm.Gamma('Sigma_est', σα, σβ, observed=obs_var)\n",
    "        ν = pm.Uniform('nu', 0, 20)\n",
    "        σ = pm.Gamma('Sigma', σα, σβ)\n",
    "        Yi = pm.StudentT('Yi', ν, μ, σ, observed=Y)\n",
    "        ExMu = pm.Deterministic('ExMu', μ_)\n",
    "    elif nut in ['Omega_3']:\n",
    "        μ = μ_\n",
    "        σα = pm.Gamma('obs_alpha', 10, 10)\n",
    "        σβ = pm.Gamma('obs_beta', 10, 10)\n",
    "        σ = pm.Gamma('Sigma', σα, σβ, observed=obs_var)\n",
    "        ν = pm.Uniform('nu', 0, 20)\n",
    "        Yi = pm.StudentT('Yi', ν, μ, σ, observed=Ylog)\n",
    "        ExMu = pm.Deterministic('ExMu', tt.exp(μ_))\n",
    "    elif nut in ['Zinc','Iron']:\n",
    "        μ = pm.math.exp(μ_)\n",
    "        σ = pm.Uniform('Sigma', 0, 10)\n",
    "        Yi = pm.Gamma('Yi', alpha=σ, beta=σ/μ, observed=Y)\n",
    "    else:\n",
    "        μ = μ_\n",
    "        σ = pm.Exponential('Sigma', 1)\n",
    "        Yi = pm.Normal('Yi', μ, σ, observed=Y)\n",
    "        ExMu = pm.Deterministic('ExMu', μ_)\n",
    "    \n",
    "    "
   ]
  },
  {
   "cell_type": "markdown",
   "metadata": {},
   "source": [
    "# Prior predictive distribution"
   ]
  },
  {
   "cell_type": "code",
   "execution_count": 46,
   "metadata": {
    "scrolled": false
   },
   "outputs": [],
   "source": [
    "with Model_1:\n",
    "    prior = pm.sample_prior_predictive(700)\n",
    "    Model_1_priorp = az.from_pymc3(prior=prior)"
   ]
  },
  {
   "cell_type": "code",
   "execution_count": 47,
   "metadata": {},
   "outputs": [
    {
     "data": {
      "image/png": "[encoded data removed]",
      "text/plain": [
       "<Figure size 432x288 with 1 Axes>"
      ]
     },
     "metadata": {
      "needs_background": "light"
     },
     "output_type": "display_data"
    }
   ],
   "source": [
    "az.plot_ppc(Model_1_priorp, group=\"prior\").figure.savefig(nut+'_PriorPC.jpg')\n"
   ]
  },
  {
   "cell_type": "markdown",
   "metadata": {},
   "source": [
    "# Inference"
   ]
  },
  {
   "cell_type": "code",
   "execution_count": 49,
   "metadata": {
    "scrolled": false
   },
   "outputs": [
    {
     "name": "stderr",
     "output_type": "stream",
     "text": [
      "/Users/aaronmacneil/anaconda3/lib/python3.8/site-packages/pymc3/sampling.py:465: FutureWarning: In an upcoming release, pm.sample will return an `arviz.InferenceData` object instead of a `MultiTrace` by default. You can pass return_inferencedata=True or return_inferencedata=False to be safe and silence this warning.\n",
      "  warnings.warn(\n",
      "Auto-assigning NUTS sampler...\n",
      "Initializing NUTS using jitter+adapt_diag...\n",
      "Multiprocess sampling (4 chains in 4 jobs)\n",
      "NUTS: [Sigma, nu, obs_beta, obs_alpha, Prep_x, Form_x, μ0_rotated_, rhosq, etasq, tm, K, BodyShape_x, LMax, FeedingPath_x, TL, MaxDepth, Climate_x, Habitat_x, Intercept]\n"
     ]
    },
    {
     "data": {
      "text/html": [
       "\n",
       "    <div>\n",
       "        <style>\n",
       "            /* Turns off some styling */\n",
       "            progress {\n",
       "                /* gets rid of default border in Firefox and Opera. */\n",
       "                border: none;\n",
       "                /* Needs to be in here for Safari polyfill so background images work as expected. */\n",
       "                background-size: auto;\n",
       "            }\n",
       "            .progress-bar-interrupted, .progress-bar-interrupted::-webkit-progress-bar {\n",
       "                background: #F44336;\n",
       "            }\n",
       "        </style>\n",
       "      <progress value='22' class='' max='8000' style='width:300px; height:20px; vertical-align: middle;'></progress>\n",
       "      0.28% [22/8000 01:56<11:41:23 Sampling 4 chains, 0 divergences]\n",
       "    </div>\n",
       "    "
      ],
      "text/plain": [
       "<IPython.core.display.HTML object>"
      ]
     },
     "metadata": {},
     "output_type": "display_data"
    },
    {
     "ename": "ValueError",
     "evalue": "Not enough samples to build a trace.",
     "output_type": "error",
     "traceback": [
      "\u001b[0;31m---------------------------------------------------------------------------\u001b[0m",
      "\u001b[0;31mKeyboardInterrupt\u001b[0m                         Traceback (most recent call last)",
      "\u001b[0;32m~/anaconda3/lib/python3.8/site-packages/pymc3/sampling.py\u001b[0m in \u001b[0;36m_mp_sample\u001b[0;34m(draws, tune, step, chains, cores, chain, random_seed, start, progressbar, trace, model, callback, discard_tuned_samples, mp_ctx, pickle_backend, **kwargs)\u001b[0m\n\u001b[1;32m   1475\u001b[0m             \u001b[0;32mwith\u001b[0m \u001b[0msampler\u001b[0m\u001b[0;34m:\u001b[0m\u001b[0;34m\u001b[0m\u001b[0;34m\u001b[0m\u001b[0m\n\u001b[0;32m-> 1476\u001b[0;31m                 \u001b[0;32mfor\u001b[0m \u001b[0mdraw\u001b[0m \u001b[0;32min\u001b[0m \u001b[0msampler\u001b[0m\u001b[0;34m:\u001b[0m\u001b[0;34m\u001b[0m\u001b[0;34m\u001b[0m\u001b[0m\n\u001b[0m\u001b[1;32m   1477\u001b[0m                     \u001b[0mtrace\u001b[0m \u001b[0;34m=\u001b[0m \u001b[0mtraces\u001b[0m\u001b[0;34m[\u001b[0m\u001b[0mdraw\u001b[0m\u001b[0;34m.\u001b[0m\u001b[0mchain\u001b[0m \u001b[0;34m-\u001b[0m \u001b[0mchain\u001b[0m\u001b[0;34m]\u001b[0m\u001b[0;34m\u001b[0m\u001b[0;34m\u001b[0m\u001b[0m\n",
      "\u001b[0;32m~/anaconda3/lib/python3.8/site-packages/pymc3/parallel_sampling.py\u001b[0m in \u001b[0;36m__iter__\u001b[0;34m(self)\u001b[0m\n\u001b[1;32m    479\u001b[0m         \u001b[0;32mwhile\u001b[0m \u001b[0mself\u001b[0m\u001b[0;34m.\u001b[0m\u001b[0m_active\u001b[0m\u001b[0;34m:\u001b[0m\u001b[0;34m\u001b[0m\u001b[0;34m\u001b[0m\u001b[0m\n\u001b[0;32m--> 480\u001b[0;31m             \u001b[0mdraw\u001b[0m \u001b[0;34m=\u001b[0m \u001b[0mProcessAdapter\u001b[0m\u001b[0;34m.\u001b[0m\u001b[0mrecv_draw\u001b[0m\u001b[0;34m(\u001b[0m\u001b[0mself\u001b[0m\u001b[0;34m.\u001b[0m\u001b[0m_active\u001b[0m\u001b[0;34m)\u001b[0m\u001b[0;34m\u001b[0m\u001b[0;34m\u001b[0m\u001b[0m\n\u001b[0m\u001b[1;32m    481\u001b[0m             \u001b[0mproc\u001b[0m\u001b[0;34m,\u001b[0m \u001b[0mis_last\u001b[0m\u001b[0;34m,\u001b[0m \u001b[0mdraw\u001b[0m\u001b[0;34m,\u001b[0m \u001b[0mtuning\u001b[0m\u001b[0;34m,\u001b[0m \u001b[0mstats\u001b[0m\u001b[0;34m,\u001b[0m \u001b[0mwarns\u001b[0m \u001b[0;34m=\u001b[0m \u001b[0mdraw\u001b[0m\u001b[0;34m\u001b[0m\u001b[0;34m\u001b[0m\u001b[0m\n",
      "\u001b[0;32m~/anaconda3/lib/python3.8/site-packages/pymc3/parallel_sampling.py\u001b[0m in \u001b[0;36mrecv_draw\u001b[0;34m(processes, timeout)\u001b[0m\n\u001b[1;32m    346\u001b[0m         \u001b[0mpipes\u001b[0m \u001b[0;34m=\u001b[0m \u001b[0;34m[\u001b[0m\u001b[0mproc\u001b[0m\u001b[0;34m.\u001b[0m\u001b[0m_msg_pipe\u001b[0m \u001b[0;32mfor\u001b[0m \u001b[0mproc\u001b[0m \u001b[0;32min\u001b[0m \u001b[0mprocesses\u001b[0m\u001b[0;34m]\u001b[0m\u001b[0;34m\u001b[0m\u001b[0;34m\u001b[0m\u001b[0m\n\u001b[0;32m--> 347\u001b[0;31m         \u001b[0mready\u001b[0m \u001b[0;34m=\u001b[0m \u001b[0mmultiprocessing\u001b[0m\u001b[0;34m.\u001b[0m\u001b[0mconnection\u001b[0m\u001b[0;34m.\u001b[0m\u001b[0mwait\u001b[0m\u001b[0;34m(\u001b[0m\u001b[0mpipes\u001b[0m\u001b[0;34m)\u001b[0m\u001b[0;34m\u001b[0m\u001b[0;34m\u001b[0m\u001b[0m\n\u001b[0m\u001b[1;32m    348\u001b[0m         \u001b[0;32mif\u001b[0m \u001b[0;32mnot\u001b[0m \u001b[0mready\u001b[0m\u001b[0;34m:\u001b[0m\u001b[0;34m\u001b[0m\u001b[0;34m\u001b[0m\u001b[0m\n",
      "\u001b[0;32m~/anaconda3/lib/python3.8/multiprocessing/connection.py\u001b[0m in \u001b[0;36mwait\u001b[0;34m(object_list, timeout)\u001b[0m\n\u001b[1;32m    930\u001b[0m             \u001b[0;32mwhile\u001b[0m \u001b[0;32mTrue\u001b[0m\u001b[0;34m:\u001b[0m\u001b[0;34m\u001b[0m\u001b[0;34m\u001b[0m\u001b[0m\n\u001b[0;32m--> 931\u001b[0;31m                 \u001b[0mready\u001b[0m \u001b[0;34m=\u001b[0m \u001b[0mselector\u001b[0m\u001b[0;34m.\u001b[0m\u001b[0mselect\u001b[0m\u001b[0;34m(\u001b[0m\u001b[0mtimeout\u001b[0m\u001b[0;34m)\u001b[0m\u001b[0;34m\u001b[0m\u001b[0;34m\u001b[0m\u001b[0m\n\u001b[0m\u001b[1;32m    932\u001b[0m                 \u001b[0;32mif\u001b[0m \u001b[0mready\u001b[0m\u001b[0;34m:\u001b[0m\u001b[0;34m\u001b[0m\u001b[0;34m\u001b[0m\u001b[0m\n",
      "\u001b[0;32m~/anaconda3/lib/python3.8/selectors.py\u001b[0m in \u001b[0;36mselect\u001b[0;34m(self, timeout)\u001b[0m\n\u001b[1;32m    414\u001b[0m         \u001b[0;32mtry\u001b[0m\u001b[0;34m:\u001b[0m\u001b[0;34m\u001b[0m\u001b[0;34m\u001b[0m\u001b[0m\n\u001b[0;32m--> 415\u001b[0;31m             \u001b[0mfd_event_list\u001b[0m \u001b[0;34m=\u001b[0m \u001b[0mself\u001b[0m\u001b[0;34m.\u001b[0m\u001b[0m_selector\u001b[0m\u001b[0;34m.\u001b[0m\u001b[0mpoll\u001b[0m\u001b[0;34m(\u001b[0m\u001b[0mtimeout\u001b[0m\u001b[0;34m)\u001b[0m\u001b[0;34m\u001b[0m\u001b[0;34m\u001b[0m\u001b[0m\n\u001b[0m\u001b[1;32m    416\u001b[0m         \u001b[0;32mexcept\u001b[0m \u001b[0mInterruptedError\u001b[0m\u001b[0;34m:\u001b[0m\u001b[0;34m\u001b[0m\u001b[0;34m\u001b[0m\u001b[0m\n",
      "\u001b[0;31mKeyboardInterrupt\u001b[0m: ",
      "\nDuring handling of the above exception, another exception occurred:\n",
      "\u001b[0;31mValueError\u001b[0m                                Traceback (most recent call last)",
      "\u001b[0;32m<ipython-input-49-837d7a0d2eff>\u001b[0m in \u001b[0;36m<module>\u001b[0;34m\u001b[0m\n\u001b[1;32m      1\u001b[0m \u001b[0;32mwith\u001b[0m \u001b[0mModel_1\u001b[0m\u001b[0;34m:\u001b[0m\u001b[0;34m\u001b[0m\u001b[0;34m\u001b[0m\u001b[0m\n\u001b[0;32m----> 2\u001b[0;31m     \u001b[0mtrace\u001b[0m \u001b[0;34m=\u001b[0m \u001b[0mpm\u001b[0m\u001b[0;34m.\u001b[0m\u001b[0msample\u001b[0m\u001b[0;34m(\u001b[0m\u001b[0;36m1000\u001b[0m\u001b[0;34m)\u001b[0m\u001b[0;34m\u001b[0m\u001b[0;34m\u001b[0m\u001b[0m\n\u001b[0m",
      "\u001b[0;32m~/anaconda3/lib/python3.8/site-packages/pymc3/sampling.py\u001b[0m in \u001b[0;36msample\u001b[0;34m(draws, step, init, n_init, start, trace, chain_idx, chains, cores, tune, progressbar, model, random_seed, discard_tuned_samples, compute_convergence_checks, callback, jitter_max_retries, return_inferencedata, idata_kwargs, mp_ctx, pickle_backend, **kwargs)\u001b[0m\n\u001b[1;32m    555\u001b[0m         \u001b[0m_print_step_hierarchy\u001b[0m\u001b[0;34m(\u001b[0m\u001b[0mstep\u001b[0m\u001b[0;34m)\u001b[0m\u001b[0;34m\u001b[0m\u001b[0;34m\u001b[0m\u001b[0m\n\u001b[1;32m    556\u001b[0m         \u001b[0;32mtry\u001b[0m\u001b[0;34m:\u001b[0m\u001b[0;34m\u001b[0m\u001b[0;34m\u001b[0m\u001b[0m\n\u001b[0;32m--> 557\u001b[0;31m             \u001b[0mtrace\u001b[0m \u001b[0;34m=\u001b[0m \u001b[0m_mp_sample\u001b[0m\u001b[0;34m(\u001b[0m\u001b[0;34m**\u001b[0m\u001b[0msample_args\u001b[0m\u001b[0;34m,\u001b[0m \u001b[0;34m**\u001b[0m\u001b[0mparallel_args\u001b[0m\u001b[0;34m)\u001b[0m\u001b[0;34m\u001b[0m\u001b[0;34m\u001b[0m\u001b[0m\n\u001b[0m\u001b[1;32m    558\u001b[0m         \u001b[0;32mexcept\u001b[0m \u001b[0mpickle\u001b[0m\u001b[0;34m.\u001b[0m\u001b[0mPickleError\u001b[0m\u001b[0;34m:\u001b[0m\u001b[0;34m\u001b[0m\u001b[0;34m\u001b[0m\u001b[0m\n\u001b[1;32m    559\u001b[0m             \u001b[0m_log\u001b[0m\u001b[0;34m.\u001b[0m\u001b[0mwarning\u001b[0m\u001b[0;34m(\u001b[0m\u001b[0;34m\"Could not pickle model, sampling singlethreaded.\"\u001b[0m\u001b[0;34m)\u001b[0m\u001b[0;34m\u001b[0m\u001b[0;34m\u001b[0m\u001b[0m\n",
      "\u001b[0;32m~/anaconda3/lib/python3.8/site-packages/pymc3/sampling.py\u001b[0m in \u001b[0;36m_mp_sample\u001b[0;34m(draws, tune, step, chains, cores, chain, random_seed, start, progressbar, trace, model, callback, discard_tuned_samples, mp_ctx, pickle_backend, **kwargs)\u001b[0m\n\u001b[1;32m   1500\u001b[0m     \u001b[0;32mexcept\u001b[0m \u001b[0mKeyboardInterrupt\u001b[0m\u001b[0;34m:\u001b[0m\u001b[0;34m\u001b[0m\u001b[0;34m\u001b[0m\u001b[0m\n\u001b[1;32m   1501\u001b[0m         \u001b[0;32mif\u001b[0m \u001b[0mdiscard_tuned_samples\u001b[0m\u001b[0;34m:\u001b[0m\u001b[0;34m\u001b[0m\u001b[0;34m\u001b[0m\u001b[0m\n\u001b[0;32m-> 1502\u001b[0;31m             \u001b[0mtraces\u001b[0m\u001b[0;34m,\u001b[0m \u001b[0mlength\u001b[0m \u001b[0;34m=\u001b[0m \u001b[0m_choose_chains\u001b[0m\u001b[0;34m(\u001b[0m\u001b[0mtraces\u001b[0m\u001b[0;34m,\u001b[0m \u001b[0mtune\u001b[0m\u001b[0;34m)\u001b[0m\u001b[0;34m\u001b[0m\u001b[0;34m\u001b[0m\u001b[0m\n\u001b[0m\u001b[1;32m   1503\u001b[0m         \u001b[0;32melse\u001b[0m\u001b[0;34m:\u001b[0m\u001b[0;34m\u001b[0m\u001b[0;34m\u001b[0m\u001b[0m\n\u001b[1;32m   1504\u001b[0m             \u001b[0mtraces\u001b[0m\u001b[0;34m,\u001b[0m \u001b[0mlength\u001b[0m \u001b[0;34m=\u001b[0m \u001b[0m_choose_chains\u001b[0m\u001b[0;34m(\u001b[0m\u001b[0mtraces\u001b[0m\u001b[0;34m,\u001b[0m \u001b[0;36m0\u001b[0m\u001b[0;34m)\u001b[0m\u001b[0;34m\u001b[0m\u001b[0;34m\u001b[0m\u001b[0m\n",
      "\u001b[0;32m~/anaconda3/lib/python3.8/site-packages/pymc3/sampling.py\u001b[0m in \u001b[0;36m_choose_chains\u001b[0;34m(traces, tune)\u001b[0m\n\u001b[1;32m   1518\u001b[0m     \u001b[0mlengths\u001b[0m \u001b[0;34m=\u001b[0m \u001b[0;34m[\u001b[0m\u001b[0mmax\u001b[0m\u001b[0;34m(\u001b[0m\u001b[0;36m0\u001b[0m\u001b[0;34m,\u001b[0m \u001b[0mlen\u001b[0m\u001b[0;34m(\u001b[0m\u001b[0mtrace\u001b[0m\u001b[0;34m)\u001b[0m \u001b[0;34m-\u001b[0m \u001b[0mtune\u001b[0m\u001b[0;34m)\u001b[0m \u001b[0;32mfor\u001b[0m \u001b[0mtrace\u001b[0m \u001b[0;32min\u001b[0m \u001b[0mtraces\u001b[0m\u001b[0;34m]\u001b[0m\u001b[0;34m\u001b[0m\u001b[0;34m\u001b[0m\u001b[0m\n\u001b[1;32m   1519\u001b[0m     \u001b[0;32mif\u001b[0m \u001b[0;32mnot\u001b[0m \u001b[0msum\u001b[0m\u001b[0;34m(\u001b[0m\u001b[0mlengths\u001b[0m\u001b[0;34m)\u001b[0m\u001b[0;34m:\u001b[0m\u001b[0;34m\u001b[0m\u001b[0;34m\u001b[0m\u001b[0m\n\u001b[0;32m-> 1520\u001b[0;31m         \u001b[0;32mraise\u001b[0m \u001b[0mValueError\u001b[0m\u001b[0;34m(\u001b[0m\u001b[0;34m\"Not enough samples to build a trace.\"\u001b[0m\u001b[0;34m)\u001b[0m\u001b[0;34m\u001b[0m\u001b[0;34m\u001b[0m\u001b[0m\n\u001b[0m\u001b[1;32m   1521\u001b[0m \u001b[0;34m\u001b[0m\u001b[0m\n\u001b[1;32m   1522\u001b[0m     \u001b[0midxs\u001b[0m \u001b[0;34m=\u001b[0m \u001b[0mnp\u001b[0m\u001b[0;34m.\u001b[0m\u001b[0margsort\u001b[0m\u001b[0;34m(\u001b[0m\u001b[0mlengths\u001b[0m\u001b[0;34m)\u001b[0m\u001b[0;34m[\u001b[0m\u001b[0;34m:\u001b[0m\u001b[0;34m:\u001b[0m\u001b[0;34m-\u001b[0m\u001b[0;36m1\u001b[0m\u001b[0;34m]\u001b[0m\u001b[0;34m\u001b[0m\u001b[0;34m\u001b[0m\u001b[0m\n",
      "\u001b[0;31mValueError\u001b[0m: Not enough samples to build a trace."
     ]
    }
   ],
   "source": [
    "with Model_1:\n",
    "    trace = pm.sample(1000)"
   ]
  },
  {
   "cell_type": "code",
   "execution_count": null,
   "metadata": {
    "scrolled": false
   },
   "outputs": [],
   "source": [
    "pm.plot_trace(trace).ravel()[0].figure.savefig(nut+'_Trace.jpg')"
   ]
  },
  {
   "cell_type": "code",
   "execution_count": null,
   "metadata": {},
   "outputs": [],
   "source": [
    "pm.summary(trace).to_csv(nut+'_Summary.csv',index=False)"
   ]
  },
  {
   "cell_type": "code",
   "execution_count": null,
   "metadata": {},
   "outputs": [],
   "source": [
    "pm.summary(trace)"
   ]
  },
  {
   "cell_type": "code",
   "execution_count": null,
   "metadata": {},
   "outputs": [],
   "source": [
    "# Export results \n",
    "out = pm.backends.tracetab.trace_to_dataframe(trace)\n",
    "out.to_csv(nut+'_results.csv')"
   ]
  },
  {
   "cell_type": "code",
   "execution_count": null,
   "metadata": {},
   "outputs": [],
   "source": [
    "out.head()"
   ]
  },
  {
   "cell_type": "markdown",
   "metadata": {},
   "source": [
    "# Posterior predictive"
   ]
  },
  {
   "cell_type": "code",
   "execution_count": null,
   "metadata": {},
   "outputs": [],
   "source": [
    "posterior_predictive = pm.sample_posterior_predictive(trace, model=Model_1)"
   ]
  },
  {
   "cell_type": "code",
   "execution_count": null,
   "metadata": {},
   "outputs": [],
   "source": [
    "idata_checks = az.from_pymc3(\n",
    "        model=Model_1,\n",
    "        trace=trace,\n",
    "        prior=prior,\n",
    "        posterior_predictive=posterior_predictive)"
   ]
  },
  {
   "cell_type": "code",
   "execution_count": null,
   "metadata": {},
   "outputs": [],
   "source": [
    "def plot_ppc_loopit(idata, title):\n",
    "    fig = plt.figure(figsize=(12,9))\n",
    "    ax_ppc = fig.add_subplot(211)\n",
    "    ax1 = fig.add_subplot(223); ax2 = fig.add_subplot(224)\n",
    "    az.plot_ppc(idata, ax=ax_ppc);\n",
    "    for ax, ecdf in zip([ax1, ax2], (False, True)):\n",
    "        az.plot_loo_pit(idata, y=\"Yi\", ecdf=ecdf, ax=ax);\n",
    "    ax_ppc.set_title(title)\n",
    "    ax_ppc.set_xlabel(\"\")\n",
    "    return np.array([ax_ppc, ax1, ax2])"
   ]
  },
  {
   "cell_type": "code",
   "execution_count": null,
   "metadata": {},
   "outputs": [],
   "source": [
    "plot_ppc_loopit(idata_checks,nut+'_checks').ravel()[0].figure.savefig(nut+'_LooPit.jpg')"
   ]
  },
  {
   "cell_type": "code",
   "execution_count": null,
   "metadata": {},
   "outputs": [],
   "source": [
    "# Grab observation-level predictions\n",
    "Ypred_mu = np.quantile(trace['ExMu'].T,0.5,axis=1)\n",
    "Ypred_l90 = np.quantile(trace['ExMu'].T,0.05,axis=1)\n",
    "Ypred_u90 = np.quantile(trace['ExMu'].T,0.95,axis=1)\n",
    "\n",
    "# Proportion of observations captured\n",
    "'Captured '+str(np.round(np.mean(np.array([ylo<y<yup for y,ylo,yup in zip(Y,Ypred_l90,Ypred_u90)]))*100,1))+'% of '+nut+' observations'"
   ]
  },
  {
   "cell_type": "code",
   "execution_count": null,
   "metadata": {},
   "outputs": [],
   "source": [
    "plt.plot((Y,Y),(Ypred_l90,Ypred_u90),c='b')\n",
    "plt.scatter(Y,Ypred_mu,s=70)\n",
    "plt.scatter(Y,Y,s=70,c='red');"
   ]
  },
  {
   "cell_type": "code",
   "execution_count": null,
   "metadata": {},
   "outputs": [],
   "source": [
    "plt.hist(Y,bins=50)\n",
    "plt.hist(Ypred_mu,bins=50);"
   ]
  },
  {
   "cell_type": "code",
   "execution_count": null,
   "metadata": {},
   "outputs": [],
   "source": []
  },
  {
   "cell_type": "code",
   "execution_count": null,
   "metadata": {},
   "outputs": [],
   "source": []
  }
 ],
 "metadata": {
  "kernelspec": {
   "display_name": "Python 3",
   "language": "python",
   "name": "python3"
  },
  "language_info": {
   "codemirror_mode": {
    "name": "ipython",
    "version": 3
   },
   "file_extension": ".py",
   "mimetype": "text/x-python",
   "name": "python",
   "nbconvert_exporter": "python",
   "pygments_lexer": "ipython3",
   "version": "3.8.5"
  }
 },
 "nbformat": 4,
 "nbformat_minor": 2
}
