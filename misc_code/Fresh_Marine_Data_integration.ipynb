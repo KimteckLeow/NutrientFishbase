{
 "cells": [
  {
   "cell_type": "code",
   "execution_count": 1,
   "metadata": {},
   "outputs": [],
   "source": [
    "# Import python packages\n",
    "%matplotlib inline\n",
    "import pandas as pd\n",
    "import numpy as np\n",
    "import matplotlib.pyplot as plt\n",
    "import pymc3 as pm\n",
    "import theano as T\n",
    "import theano.tensor as tt\n",
    "from pymc3.backends import SQLite\n",
    "import seaborn as sns\n",
    "import scipy as sp\n",
    "import matplotlib as mp\n",
    "import arviz as az\n",
    "import pdb\n",
    "\n",
    "# Helper functions\n",
    "def indexall(L):\n",
    "    poo = []\n",
    "    for p in L:\n",
    "        if not p in poo:\n",
    "            poo.append(p)\n",
    "    Ix = np.array([poo.index(p) for p in L])\n",
    "    return poo,Ix\n",
    "\n",
    "# Helper functions\n",
    "def indexall_B(L,B):\n",
    "    poo = []\n",
    "    for p in L:\n",
    "        if not p in poo:\n",
    "            poo.append(p)\n",
    "    Ix = np.array([poo.index(p) for p in L])\n",
    "    a, b = poo.index(B), 0\n",
    "    poo[b], poo[a] = poo[a], poo[b]\n",
    "    \n",
    "    Ix[Ix==b] = -1\n",
    "    Ix[Ix==a] = 0\n",
    "    Ix[Ix==-1] = a\n",
    "    return poo,Ix\n",
    "\n",
    "def subindexall(short,long):\n",
    "    poo = []\n",
    "    out = []\n",
    "    for s,l in zip(short,long):\n",
    "        if not l in poo:\n",
    "            poo.append(l)\n",
    "            out.append(s)\n",
    "    return indexall(out)\n",
    "\n",
    "match = lambda a, b: np.array([ b.index(x) if x in b else None for x in a ])\n",
    "grep = lambda s, l: np.array([i for i in l if s in i])\n",
    "\n",
    "# Function to standardize covariates\n",
    "def stdize(x):\n",
    "    return (x-np.mean(x))/(2*np.std(x))\n",
    "\n",
    "# Coefficient of variation\n",
    "cv =  lambda x: np.var(x) / np.mean(x)"
   ]
  },
  {
   "cell_type": "code",
   "execution_count": 2,
   "metadata": {},
   "outputs": [],
   "source": [
    "# Import marine nutrient data and add traits"
   ]
  },
  {
   "cell_type": "code",
   "execution_count": 3,
   "metadata": {},
   "outputs": [],
   "source": [
    "# Nutritional data\n",
    "ndata = pd.read_excel('Nutrient_data.xlsx')\n",
    "# Traits data\n",
    "tdata = pd.read_excel('Traits_all.xlsx')"
   ]
  },
  {
   "cell_type": "code",
   "execution_count": 4,
   "metadata": {},
   "outputs": [],
   "source": [
    "\n",
    "# Add traits information to nutritional dataframe\n",
    "indx = match(ndata.Species_from_search.unique(),list(tdata.species_traits_all.values))\n",
    "rindx = match(ndata.Species_from_search,list(ndata.Species_from_search.unique()))\n",
    "\n",
    "# Traits to port over\n",
    "tmp = ['Class', 'Order', 'Family','Genus_1', 'DemersPelag',\n",
    "       'EnvTemp', 'DepthRangeDeep', 'trophic_level', 'Feeding_path', 'LMax',\n",
    "       'BodyShapeI', 'K', 'tm']\n",
    "# Port over\n",
    "for trait in tmp:\n",
    "    ndata[trait] = tdata[trait].values[indx][rindx]"
   ]
  },
  {
   "cell_type": "code",
   "execution_count": 5,
   "metadata": {},
   "outputs": [
    {
     "data": {
      "text/plain": [
       "Index(['ID_no', 'Species_from_search', 'Protein_Replicates',\n",
       "       'Protein_Value_perc', 'Protein_Variance', 'Zn_Replicates', 'Zn_Value',\n",
       "       'Zn_Variance', 'Ca_Replicates', 'Ca_Value', 'Ca_Variance',\n",
       "       'Fe_Replicates', 'Fe_Value', 'Fe_Variance', 'Se_Replicates', 'Se_Value',\n",
       "       'Se_Variance', 'P_Replicates', 'P_Value', 'P_Variance', 'Mg_Replicates',\n",
       "       'Mg_Value', 'Mg_Variance', 'VitA_Replicates', 'VitA_Value',\n",
       "       'VitA_Variance', 'VitB12_Replicates', 'VitB12_Value', 'VitB12_Variance',\n",
       "       'O3_Replicates', 'O3_Value', 'O3_Variance', 'Unnamed: 32', 'Form_Clean',\n",
       "       'Search', 'Year', 'GeographicLocation_Cleaned', 'Family', 'Prep',\n",
       "       'Protein_prep', 'Minerals_prep', 'Vitamin_prep', 'FA_prep',\n",
       "       'Protein_Sample_Weight', 'Zn_Sample_Weight', 'Ca_Sample_Weight',\n",
       "       'Fe_Sample_Weight', 'Se_Sample_Weight', 'P_Sample_Weight',\n",
       "       'Mg_Sample_Weight', 'VitA_Sample_Weight', 'VitB12_Sample_Weight',\n",
       "       'O3_Sample_Weight', 'Class', 'Order', 'Genus_1', 'DemersPelag',\n",
       "       'EnvTemp', 'DepthRangeDeep', 'trophic_level', 'Feeding_path', 'LMax',\n",
       "       'BodyShapeI', 'K', 'tm'],\n",
       "      dtype='object')"
      ]
     },
     "execution_count": 5,
     "metadata": {},
     "output_type": "execute_result"
    }
   ],
   "source": [
    "ndata.columns"
   ]
  },
  {
   "cell_type": "code",
   "execution_count": 6,
   "metadata": {},
   "outputs": [],
   "source": [
    "# Correct names\n",
    "ndata['DemersPelag'] = np.where(ndata.DemersPelag=='pelagic_oceanic', 'pelagic', ndata.DemersPelag)\n",
    "\n",
    "# Remove space\n",
    "ndata.Order = ndata.Order.str.replace(' ', '') \n"
   ]
  },
  {
   "cell_type": "code",
   "execution_count": 7,
   "metadata": {},
   "outputs": [],
   "source": [
    "# Import cleaned freshwater nutrients data\n",
    "fdata = pd.read_csv('INFOODS_species_traits.csv')"
   ]
  },
  {
   "cell_type": "code",
   "execution_count": 8,
   "metadata": {},
   "outputs": [
    {
     "data": {
      "text/plain": [
       "Index(['Unnamed: 0', 'source', 'year', 'geographic_location_cleaned', 'hdi',\n",
       "       'demers_pelag', 'env_temp', 'form_clean', 'species_from_search',\n",
       "       'family', 'paper_id', 'nutrient', 'value', 'SpecCode', 'Order',\n",
       "       'DemersPelag', 'DepthRangeDeep', 'BodyShapeI', 'Lmax', 'EnvTemp', 'TL',\n",
       "       'K', 'tm', 'Habitat', 'pelagic'],\n",
       "      dtype='object')"
      ]
     },
     "execution_count": 8,
     "metadata": {},
     "output_type": "execute_result"
    }
   ],
   "source": [
    "fdata.columns"
   ]
  },
  {
   "cell_type": "code",
   "execution_count": 9,
   "metadata": {},
   "outputs": [],
   "source": [
    "fdata.columns = ['Unnamed: 0', 'Search', 'Year', 'GeographicLocation_Cleaned', 'hdi',\n",
    "       'demers_pelag', 'env_temp', 'Form_Clean', 'Species_from_search',\n",
    "       'Family', 'paper_id', 'nutrient', 'nutvalue', 'SpecCode', 'Order',\n",
    "       'DemersPelag', 'DepthRangeDeep', 'BodyShapeI', 'LMax', 'EnvTemp', 'trophic_level',\n",
    "       'K', 'tm', 'Habitat', 'pelagic']"
   ]
  },
  {
   "cell_type": "code",
   "execution_count": 10,
   "metadata": {},
   "outputs": [
    {
     "data": {
      "text/plain": [
       "array(['Calcium', 'Iron', 'Omega-3', 'Protein', 'Selenium', 'Vitamin A',\n",
       "       'Zinc'], dtype=object)"
      ]
     },
     "execution_count": 10,
     "metadata": {},
     "output_type": "execute_result"
    }
   ],
   "source": [
    "np.unique(fdata.nutrient)"
   ]
  },
  {
   "cell_type": "code",
   "execution_count": 11,
   "metadata": {},
   "outputs": [],
   "source": [
    "# Correct names\n",
    "fdata['DemersPelag'] = np.where(fdata.DemersPelag=='pelagic-neritic', 'pelagic_neritic', fdata.DemersPelag)\n",
    "fdata.Search = fdata.Search.str.replace('WoS', 'WOS')\n",
    "fdata.Search = fdata.Search.str.replace('FAO/InFoods', 'FAO')\n",
    "\n",
    "# Add underscore\n",
    "fdata.Species_from_search = ndata.Species_from_search.str.replace(' ', '_')\n"
   ]
  },
  {
   "cell_type": "code",
   "execution_count": 35,
   "metadata": {},
   "outputs": [],
   "source": [
    "# Drop rows where species are nan\n",
    "fdata = fdata[fdata['Species_from_search'].notna()]"
   ]
  },
  {
   "cell_type": "markdown",
   "metadata": {},
   "source": [
    "# Tidy up marine data"
   ]
  },
  {
   "cell_type": "code",
   "execution_count": 36,
   "metadata": {},
   "outputs": [],
   "source": [
    "tmp = ndata[['Search', 'Year', 'GeographicLocation_Cleaned','Form_Clean', 'Species_from_search',\n",
    "       'Family', 'Order', 'DemersPelag', 'DepthRangeDeep', 'BodyShapeI', 'LMax', 'EnvTemp', 'trophic_level',\n",
    "       'K', 'tm', 'Ca_Value', 'Fe_Value', 'O3_Value', 'Protein_Value_perc', 'Se_Value', 'VitA_Value', 'Zn_Value']].copy()"
   ]
  },
  {
   "cell_type": "markdown",
   "metadata": {},
   "source": [
    "Grab nutrient for each column"
   ]
  },
  {
   "cell_type": "code",
   "execution_count": 37,
   "metadata": {},
   "outputs": [],
   "source": [
    "nutz = ['Ca_Value', 'Fe_Value', 'O3_Value', 'Protein_Value_perc', 'Se_Value', 'VitA_Value', 'Zn_Value']\n",
    "nuts = ['Calcium', 'Iron', 'Omega-3', 'Protein', 'Selenium', 'Vitamin_A','Zinc']\n",
    "valx = nutz[0]\n",
    "poo = tmp.loc[np.isfinite(tmp[valx]),['Search', 'Year', 'GeographicLocation_Cleaned', 'DemersPelag', 'Form_Clean', 'Species_from_search',\n",
    "       'Family', 'Order', 'DepthRangeDeep', 'BodyShapeI', 'LMax', 'EnvTemp', 'trophic_level','K', 'tm', valx] ].copy()\n",
    "\n",
    "poo['nutrient'] = nuts[0]\n",
    "poo['nutvalue'] = poo[valx]\n",
    "\n",
    "mdata = poo.drop(columns=[valx]).copy()"
   ]
  },
  {
   "cell_type": "code",
   "execution_count": 38,
   "metadata": {},
   "outputs": [],
   "source": [
    "for i in range(1,len(nutz)):\n",
    "    valx = nutz[i]\n",
    "    poo = tmp.loc[np.isfinite(tmp[valx]),['Search', 'Year', 'GeographicLocation_Cleaned', 'DemersPelag', 'Form_Clean', 'Species_from_search',\n",
    "       'Family', 'Order', 'DepthRangeDeep', 'BodyShapeI', 'LMax', 'EnvTemp', 'trophic_level','K', 'tm', valx] ].copy()\n",
    "    poo['nutrient'] = nuts[i]\n",
    "    poo['nutvalue'] = poo[valx]\n",
    "    mdata = mdata.append(poo.drop(columns=[valx]))\n",
    "    \n",
    "mdata['Habitat'] = 'Marine'"
   ]
  },
  {
   "cell_type": "code",
   "execution_count": 39,
   "metadata": {},
   "outputs": [
    {
     "data": {
      "text/plain": [
       "Index(['Unnamed: 0', 'Search', 'Year', 'GeographicLocation_Cleaned', 'hdi',\n",
       "       'demers_pelag', 'env_temp', 'Form_Clean', 'Species_from_search',\n",
       "       'Family', 'paper_id', 'nutrient', 'nutvalue', 'SpecCode', 'Order',\n",
       "       'DemersPelag', 'DepthRangeDeep', 'BodyShapeI', 'LMax', 'EnvTemp',\n",
       "       'trophic_level', 'K', 'tm', 'Habitat', 'pelagic'],\n",
       "      dtype='object')"
      ]
     },
     "execution_count": 39,
     "metadata": {},
     "output_type": "execute_result"
    }
   ],
   "source": [
    "fdata.columns"
   ]
  },
  {
   "cell_type": "markdown",
   "metadata": {},
   "source": [
    "# Merge datasets"
   ]
  },
  {
   "cell_type": "code",
   "execution_count": 40,
   "metadata": {},
   "outputs": [],
   "source": [
    "out = mdata.append(fdata[mdata.columns]).copy()"
   ]
  },
  {
   "cell_type": "code",
   "execution_count": 41,
   "metadata": {},
   "outputs": [
    {
     "data": {
      "text/html": [
       "<div>\n",
       "<style scoped>\n",
       "    .dataframe tbody tr th:only-of-type {\n",
       "        vertical-align: middle;\n",
       "    }\n",
       "\n",
       "    .dataframe tbody tr th {\n",
       "        vertical-align: top;\n",
       "    }\n",
       "\n",
       "    .dataframe thead th {\n",
       "        text-align: right;\n",
       "    }\n",
       "</style>\n",
       "<table border=\"1\" class=\"dataframe\">\n",
       "  <thead>\n",
       "    <tr style=\"text-align: right;\">\n",
       "      <th></th>\n",
       "      <th>Search</th>\n",
       "      <th>Year</th>\n",
       "      <th>GeographicLocation_Cleaned</th>\n",
       "      <th>DemersPelag</th>\n",
       "      <th>Form_Clean</th>\n",
       "      <th>Species_from_search</th>\n",
       "      <th>Family</th>\n",
       "      <th>Order</th>\n",
       "      <th>DepthRangeDeep</th>\n",
       "      <th>BodyShapeI</th>\n",
       "      <th>LMax</th>\n",
       "      <th>EnvTemp</th>\n",
       "      <th>trophic_level</th>\n",
       "      <th>K</th>\n",
       "      <th>tm</th>\n",
       "      <th>nutrient</th>\n",
       "      <th>nutvalue</th>\n",
       "      <th>Habitat</th>\n",
       "    </tr>\n",
       "  </thead>\n",
       "  <tbody>\n",
       "    <tr>\n",
       "      <th>109</th>\n",
       "      <td>WOS</td>\n",
       "      <td>2009.0</td>\n",
       "      <td>Portugal</td>\n",
       "      <td>pelagic</td>\n",
       "      <td>muscle</td>\n",
       "      <td>Aphanopus_carbo</td>\n",
       "      <td>Trichiuridae</td>\n",
       "      <td>Perciformes</td>\n",
       "      <td>1700.0</td>\n",
       "      <td>elongate</td>\n",
       "      <td>115.4</td>\n",
       "      <td>polar_deep</td>\n",
       "      <td>4.500000</td>\n",
       "      <td>0.11</td>\n",
       "      <td>5.331634</td>\n",
       "      <td>Calcium</td>\n",
       "      <td>14.0</td>\n",
       "      <td>Marine</td>\n",
       "    </tr>\n",
       "    <tr>\n",
       "      <th>110</th>\n",
       "      <td>WOS</td>\n",
       "      <td>2015.0</td>\n",
       "      <td>Bangladesh</td>\n",
       "      <td>benthopelagic</td>\n",
       "      <td>whole_parts</td>\n",
       "      <td>Pampus_argenteus</td>\n",
       "      <td>Stromateidae</td>\n",
       "      <td>Perciformes</td>\n",
       "      <td>110.0</td>\n",
       "      <td>short_deep</td>\n",
       "      <td>60.0</td>\n",
       "      <td>subtropical</td>\n",
       "      <td>3.300000</td>\n",
       "      <td>0.45</td>\n",
       "      <td>1.631748</td>\n",
       "      <td>Calcium</td>\n",
       "      <td>31.0</td>\n",
       "      <td>Marine</td>\n",
       "    </tr>\n",
       "    <tr>\n",
       "      <th>111</th>\n",
       "      <td>WOS</td>\n",
       "      <td>2015.0</td>\n",
       "      <td>Bangladesh</td>\n",
       "      <td>pelagic_neritic</td>\n",
       "      <td>whole_parts</td>\n",
       "      <td>Stolephorus_tri</td>\n",
       "      <td>Engraulidae</td>\n",
       "      <td>Clupeiformes</td>\n",
       "      <td>50.0</td>\n",
       "      <td>fusiform</td>\n",
       "      <td>9.5</td>\n",
       "      <td>tropical</td>\n",
       "      <td>3.233333</td>\n",
       "      <td>1.03</td>\n",
       "      <td>0.800000</td>\n",
       "      <td>Calcium</td>\n",
       "      <td>1500.0</td>\n",
       "      <td>Marine</td>\n",
       "    </tr>\n",
       "    <tr>\n",
       "      <th>112</th>\n",
       "      <td>WOS</td>\n",
       "      <td>2015.0</td>\n",
       "      <td>Bangladesh</td>\n",
       "      <td>demersal</td>\n",
       "      <td>whole_parts</td>\n",
       "      <td>Johnius_belangerii</td>\n",
       "      <td>Sciaenidae</td>\n",
       "      <td>Perciformes</td>\n",
       "      <td>40.0</td>\n",
       "      <td>fusiform</td>\n",
       "      <td>30.0</td>\n",
       "      <td>tropical</td>\n",
       "      <td>3.270000</td>\n",
       "      <td>0.57</td>\n",
       "      <td>1.300000</td>\n",
       "      <td>Calcium</td>\n",
       "      <td>1900.0</td>\n",
       "      <td>Marine</td>\n",
       "    </tr>\n",
       "    <tr>\n",
       "      <th>113</th>\n",
       "      <td>WOS</td>\n",
       "      <td>2015.0</td>\n",
       "      <td>Bangladesh</td>\n",
       "      <td>pelagic_neritic</td>\n",
       "      <td>whole_parts</td>\n",
       "      <td>Scomberomorus_guttatus</td>\n",
       "      <td>Scombridae</td>\n",
       "      <td>Perciformes</td>\n",
       "      <td>200.0</td>\n",
       "      <td>fusiform</td>\n",
       "      <td>76.0</td>\n",
       "      <td>tropical</td>\n",
       "      <td>4.300000</td>\n",
       "      <td>0.34</td>\n",
       "      <td>1.900000</td>\n",
       "      <td>Calcium</td>\n",
       "      <td>34.0</td>\n",
       "      <td>Marine</td>\n",
       "    </tr>\n",
       "  </tbody>\n",
       "</table>\n",
       "</div>"
      ],
      "text/plain": [
       "    Search    Year GeographicLocation_Cleaned      DemersPelag   Form_Clean  \\\n",
       "109    WOS  2009.0                   Portugal          pelagic       muscle   \n",
       "110    WOS  2015.0                 Bangladesh    benthopelagic  whole_parts   \n",
       "111    WOS  2015.0                 Bangladesh  pelagic_neritic  whole_parts   \n",
       "112    WOS  2015.0                 Bangladesh         demersal  whole_parts   \n",
       "113    WOS  2015.0                 Bangladesh  pelagic_neritic  whole_parts   \n",
       "\n",
       "        Species_from_search        Family         Order  DepthRangeDeep  \\\n",
       "109         Aphanopus_carbo  Trichiuridae   Perciformes          1700.0   \n",
       "110        Pampus_argenteus  Stromateidae   Perciformes           110.0   \n",
       "111         Stolephorus_tri   Engraulidae  Clupeiformes            50.0   \n",
       "112      Johnius_belangerii    Sciaenidae   Perciformes            40.0   \n",
       "113  Scomberomorus_guttatus    Scombridae   Perciformes           200.0   \n",
       "\n",
       "     BodyShapeI   LMax      EnvTemp  trophic_level     K        tm nutrient  \\\n",
       "109    elongate  115.4   polar_deep       4.500000  0.11  5.331634  Calcium   \n",
       "110  short_deep   60.0  subtropical       3.300000  0.45  1.631748  Calcium   \n",
       "111    fusiform    9.5     tropical       3.233333  1.03  0.800000  Calcium   \n",
       "112    fusiform   30.0     tropical       3.270000  0.57  1.300000  Calcium   \n",
       "113    fusiform   76.0     tropical       4.300000  0.34  1.900000  Calcium   \n",
       "\n",
       "     nutvalue Habitat  \n",
       "109      14.0  Marine  \n",
       "110      31.0  Marine  \n",
       "111    1500.0  Marine  \n",
       "112    1900.0  Marine  \n",
       "113      34.0  Marine  "
      ]
     },
     "execution_count": 41,
     "metadata": {},
     "output_type": "execute_result"
    }
   ],
   "source": [
    "out.head()"
   ]
  },
  {
   "cell_type": "code",
   "execution_count": 42,
   "metadata": {},
   "outputs": [
    {
     "data": {
      "text/plain": [
       "array(['Search', 'Year', 'GeographicLocation_Cleaned', 'DemersPelag',\n",
       "       'Form_Clean', 'Species_from_search', 'Family', 'Order',\n",
       "       'DepthRangeDeep', 'BodyShapeI', 'LMax', 'EnvTemp', 'trophic_level',\n",
       "       'K', 'tm', 'nutrient', 'nutvalue', 'Habitat'], dtype=object)"
      ]
     },
     "execution_count": 42,
     "metadata": {},
     "output_type": "execute_result"
    }
   ],
   "source": [
    "out.columns.values"
   ]
  },
  {
   "cell_type": "code",
   "execution_count": 43,
   "metadata": {},
   "outputs": [
    {
     "data": {
      "text/plain": [
       "array(['pelagic', 'benthopelagic', 'pelagic_neritic', 'demersal',\n",
       "       'reef_associated'], dtype=object)"
      ]
     },
     "execution_count": 43,
     "metadata": {},
     "output_type": "execute_result"
    }
   ],
   "source": [
    "out.DemersPelag.unique()"
   ]
  },
  {
   "cell_type": "code",
   "execution_count": 44,
   "metadata": {},
   "outputs": [
    {
     "data": {
      "text/plain": [
       "array(['Acipenseriformes', 'Anguilliformes', 'Atheriniformes',\n",
       "       'Aulopiformes', 'Beloniformes', 'Carcharhiniformes',\n",
       "       'Chimaeriformes', 'Clupeiformes', 'Cypriniformes', 'Elopiformes',\n",
       "       'Esociformes', 'Gadiformes', 'Lamniformes', 'Lampriformes',\n",
       "       'Lophiiformes', 'Mugiliformes', 'Myctophiformes',\n",
       "       'Myliobatiformes', 'Ophidiiformes', 'Osmeriformes',\n",
       "       'Osteoglossiformes', 'Perciformes', 'Pleuronectiformes',\n",
       "       'Rajiformes', 'Salmoniformes', 'Scorpaeniformes', 'Siluriformes',\n",
       "       'Squaliformes', 'Synbranchiformes', 'Tetraodontiformes',\n",
       "       'Torpediniformes', 'Zeiformes'], dtype=object)"
      ]
     },
     "execution_count": 44,
     "metadata": {},
     "output_type": "execute_result"
    }
   ],
   "source": [
    "np.sort(out.Order.unique())"
   ]
  },
  {
   "cell_type": "code",
   "execution_count": 45,
   "metadata": {
    "scrolled": true
   },
   "outputs": [
    {
     "data": {
      "text/plain": [
       "array(['Acanthistius_brasilianus', 'Aetomylaeus_bovinus',\n",
       "       'Aldrichetta_forsteri', 'Alepocephalus_agassizii',\n",
       "       'Alepocephalus_bairdii', 'Alosa_alosa', 'Alosa_fallax',\n",
       "       'Alosa_immaculata', 'Alosa_sapidissima', 'Ammodytes_hexapterus',\n",
       "       'Anarhichas_lupus', 'Anchoa_hepsetus', 'Anguilla_anguilla',\n",
       "       'Anguilla_japonica', 'Anguilla_rostrata', 'Aphanopus_carbo',\n",
       "       'Argyrosomus_hololepidotus', 'Ariomma_bondi', 'Arius_maculatus',\n",
       "       'Arripis_trutta', 'Atherina', 'Atherina_boyeri',\n",
       "       'Balistes_capriscus', 'Bassanago_albescens',\n",
       "       'Bathylagus_antarcticus', 'Bathyraja_brachyurops',\n",
       "       'Bathyraja_macloviana', 'Bathyraja_scaphiops', 'Belone_belone',\n",
       "       'Benthosema_pterotum', 'Beringraja_binoculata', 'Boops_boops',\n",
       "       'Brama_brama', 'Brama_japonica', 'Callorhinchus_callorynchus',\n",
       "       'Carangoides_orthogrammus', 'Caranx_hippos',\n",
       "       'Carcharhinus_limbatus', 'Caulolatilus_intermedius',\n",
       "       'Centrophorus_squamosus', 'Centropomus_parallelus',\n",
       "       'Centroscyllium_fabricii', 'Centroscymnus_coelolepis',\n",
       "       'Chaenocephalus_aceratus', 'Champsocephalus_gunnari',\n",
       "       'Chelidonichthys_lucerna', 'Chelinus_undulates', 'Chelon_parsia',\n",
       "       'Chirocentrus_dorab', 'Clupea_harengus',\n",
       "       'Clupea_pallasii_pallasii', 'Clupeonella_cultriventris',\n",
       "       'Coelorinchus_fasciatus', 'Coilia_dussumieri',\n",
       "       'Congiopodus_peruvianus', 'Coregonus_albula',\n",
       "       'Coregonus_autumnalis', 'Corica_soborna', 'Cottoperca_gobio',\n",
       "       'Cottunculus_granulosus', 'Cyclopterus_lumpus', 'Cynoglossus_arel',\n",
       "       'Cynoscion_arenarius', 'Cynoscion_nothus', 'Dasyatis_sabina',\n",
       "       'Deania_calcea', 'Decapterus_punctatus', 'Dentex', 'Dentex_dentex',\n",
       "       'Dentex_maroccanus', 'Diaphus_suborbitalis', 'Diaphus_watasei',\n",
       "       'Dicenctrarcchus_punctatus', 'Dicentrarchus_labrax',\n",
       "       'Dicologlossa_cuneata', 'Diplodus_puntazzo',\n",
       "       'Diplodus_sargus_sargus', 'Discopyge_tschudii',\n",
       "       'Dissostichus_eleginoides', 'Dissostichus_mawsoni',\n",
       "       'Electrona_antarctica', 'Electrona_carlsbergi', 'Eleotris_fusca',\n",
       "       'Eleutheronema_tetradactylum', 'Elops_saurus',\n",
       "       'Engraulis_encrasicolus', 'Epinephelus',\n",
       "       'Epinephelus_sexfasciatus', 'Epinephelus_tauvina',\n",
       "       'Ethmalosa_fimbriata', 'Etmopterus_princeps', 'Etrumeus_teres',\n",
       "       'Eubleekeria_splendens', 'Euthynnus_affinis',\n",
       "       'Euthynnus_alletteratus', 'Gadus_macrocephalus', 'Gadus_morhua',\n",
       "       'Galeichthys_feliceps', 'Galeorhinus_galeus', 'Galeus_melastomus',\n",
       "       'Gasterochisma_melampus', 'Genypterus_blacodes',\n",
       "       'Glossogobius_giuris', 'Gobionotothen_gibberifrons',\n",
       "       'Gymnoscopelus_braueri', 'Gymnoscopelus_nicholsi', 'Gymnura',\n",
       "       'Harpadon_nehereus', 'Hemerocoetes', 'Hippoglossus_hippoglossus',\n",
       "       'Huso_huso', 'Hydrolagus_affinis', 'Hyperoglyphe_antarctica',\n",
       "       'Hypomesus_pretiosus', 'Hyporhamphus_dussumieri',\n",
       "       'Hyporhamphus_ihi', 'Hyporhamphus_limbatus',\n",
       "       'Iluocoetes_fimbriatus', 'Isopsetta_isolepis', 'Isurus_oxyrinchus',\n",
       "       'Johnius_belangerii', 'Katsuwonus_pelamis', 'Lamna_nasus',\n",
       "       'Lampris_guttatus', 'Lates_calcarifer',\n",
       "       'Lepidonotothen_squamifrons', 'Lepidorhombus_boscii',\n",
       "       'Lepidorhombus_whiffiagonis', 'Lepidorhynchus_denticulatus',\n",
       "       'Leptomelanosoma_indicum', 'Limanda_aspera',\n",
       "       'Lithognathus_mormyrus', 'Liza_aurata', 'Liza_ramada',\n",
       "       'Lophius_piscatorius', 'Lumpenus', 'Lutjanus_argentimaculatus',\n",
       "       'Lutjanus_bohar', 'Lutjanus_gibbus', 'Lutjanus_johnii',\n",
       "       'Lutjanus_malabaricus', 'Macrodon_ancylodon', 'Macrourus_berglax',\n",
       "       'Macruronus_magellanicus', 'Macruronus_novaezelandiae',\n",
       "       'Mallotus_villosus', 'Mancopsetta_maculata', 'Megalapsis_cordyla',\n",
       "       'Melanogrammus_aeglefinus', 'Menticirrhus_americanus',\n",
       "       'Merlangius_merlangus', 'Merluccius_australis',\n",
       "       'Merluccius_gayi_gayi', 'Merluccius_hubbsi',\n",
       "       'Merluccius_merluccius', 'Merluccius_productus',\n",
       "       'Micromesistius_australis', 'Micromesistius_poutassou',\n",
       "       'Micropogonias_furnieri', 'Microstomus_pacificus', 'Mora_moro',\n",
       "       'Morone_saxatilis', 'Mugil', 'Mugil_cephalus', 'Mugil_liza',\n",
       "       'Mullus_barbatus_barbatus', 'Mullus_surmuletus',\n",
       "       'Mustelus_antarcticus', 'Mustelus_lenticulatus',\n",
       "       'Myoxocephalus_scorpius', 'Nemadactylus_bergi',\n",
       "       'Nemipterus_japonicus', 'Notophycis_marginata',\n",
       "       'Notothenia_neglecta', 'Oblada_melanura', 'Odax_pullus',\n",
       "       'Oncorhynchus_gorbuscha', 'Oncorhynchus_kisutch',\n",
       "       'Oncorhynchus_mykiss', 'Oncorhynchus_tshawytscha',\n",
       "       'Ophiodon_elongatus', 'Osmerus_mordax', 'Pagellus_bogaraveo',\n",
       "       'Pagellus_centrodontus', 'Pagellus_erythrinus',\n",
       "       'Pagothenia_borchgrevinki', 'Pagrus_auriga',\n",
       "       'Pagrus_caeruleostictus', 'Pagrus_pagrus', 'Pampus_argenteus',\n",
       "       'Pampus_chinensis', 'Pampus_punctatissimus',\n",
       "       'Paralichthys_patagonicus', 'Parastromateus_niger',\n",
       "       'Parona_signata', 'Parophrys_vetulus', 'Parupeneus_trifasciatus',\n",
       "       'Patagonotothen_ramsayi', 'Platichthys_stellatus',\n",
       "       'Platycephalus_indicus', 'Pleuragramma_antarctica',\n",
       "       'Pleurogrammus_monopterygius', 'Pleuronectes_platessa', 'Plotosus',\n",
       "       'Pogonias_cromis', 'Pollachius_virens', 'Polyprion_americanus',\n",
       "       'Polyprion_oxygeneios', 'Pomatomus_saltatrix', 'Ponticola_ratan',\n",
       "       'Prionace_glauca', 'Prionotus_nudigula', 'Protonibea_diacanthus',\n",
       "       'Psammobatis_normani', 'Psammobatis_scobina',\n",
       "       'Pseudopercis_semifasciata', 'Pseudophycis_bachus', 'Raja_clavata',\n",
       "       'Raja_rhina', 'Rastrelliger_brachysoma', 'Rastrelliger_kanagurta',\n",
       "       'Reinhardtius_hippoglossoides', 'Rexea_solandri',\n",
       "       'Rhizoprionodon_terraenovae', 'Salilota_australis', 'Salmo_salar',\n",
       "       'Salvelinus_alpinus_alpinus', 'Salvelinus_fontinalis',\n",
       "       'Sarda_sarda', 'Sardina_pilchardus', 'Sardinella',\n",
       "       'Sardinella_aurita', 'Sardinella_longiceps', 'Sardinops_sagax',\n",
       "       'Sarpa_salpa', 'Schroederichthys_bivius', 'Sciades_herzbergii',\n",
       "       'Sciaena_umbra', 'Sciaenops_ocellatus', 'Scomber_japonicus',\n",
       "       'Scomber_scombrus', 'Scomberomorus_commerson',\n",
       "       'Scomberomorus_guttatus', 'Scophthalmus_maximus',\n",
       "       'Scorpaena_porcus', 'Scorpaena_scrofa', 'Sebastes_flavidus',\n",
       "       'Sebastes_melanops', 'Sebastes_mentella', 'Sebastes_norvegicus',\n",
       "       'Sebastes_oculatus', 'Sebastes_pinniger', 'Selaroides_leptolepis',\n",
       "       'Selene_vomer', 'Seriola_lalandi', 'Seriolella_punctata',\n",
       "       'Seriolina_nigrofasciata', 'Setipinna_taty', 'Siganus_rivulatus',\n",
       "       'Sillaginodes_punctatus', 'Sillaginopsis_panijus', 'Solea_solea',\n",
       "       'Sparisoma_cretense', 'Sparus_aurata', 'Spicara_smaris',\n",
       "       'Spondyliosoma_cantharus', 'Spratelloides_robustus',\n",
       "       'Sprattus_sprattus', 'Squalus_acanthias', 'Stenodus_leucichthys',\n",
       "       'Stolephorus_commersonnii', 'Stolephorus_tri',\n",
       "       'Stolephorus_waitei', 'Stromateus_brasiliensis', 'Syacium_gunteri',\n",
       "       'Synodus_foetens', 'Tenualosa_ilisha', 'Tenualosa_macroura',\n",
       "       'Thaleichthys_pacificus', 'Theragra_chalcogramma',\n",
       "       'Thunnus_alalunga', 'Thunnus_albacares', 'Thunnus_orientalis',\n",
       "       'Thunnus_thynnus', 'Trachinotus_blochii', 'Trachurus_lathami',\n",
       "       'Trachurus_mediterraneus', 'Trachurus_trachurus',\n",
       "       'Trematomus_bernacchii', 'Trematomus_eulepidotus',\n",
       "       'Trematomus_hansoni', 'Trematomus_lepidorhinus',\n",
       "       'Trematomus_pennellii', 'Trematomus_scotti', 'Trichiurus_lepturus',\n",
       "       'Trichodon_trichodon', 'Trisopterus_minutus',\n",
       "       'Tylosurus_crocodilus', 'Upeneus_parvus', 'Xenentodon_cancila',\n",
       "       'Xiphias_gladius', 'Zaprora_silenus', 'Zearaja_chilensis',\n",
       "       'Zeus_faber'], dtype=object)"
      ]
     },
     "execution_count": 45,
     "metadata": {},
     "output_type": "execute_result"
    }
   ],
   "source": [
    "np.sort(mdata.Species_from_search.unique())"
   ]
  },
  {
   "cell_type": "code",
   "execution_count": 46,
   "metadata": {},
   "outputs": [
    {
     "data": {
      "text/plain": [
       "array(['polar_deep', 'subtropical', 'temperate', 'tropical'], dtype=object)"
      ]
     },
     "execution_count": 46,
     "metadata": {},
     "output_type": "execute_result"
    }
   ],
   "source": [
    "np.sort(out.EnvTemp.unique())"
   ]
  },
  {
   "cell_type": "code",
   "execution_count": 47,
   "metadata": {
    "scrolled": false
   },
   "outputs": [
    {
     "data": {
      "text/plain": [
       "array(['Merluccius_merluccius', 'Scomber_scombrus',\n",
       "       'Merluccius_gayi_gayi', 'Engraulis_encrasicolus',\n",
       "       'Prionace_glauca', 'Micromesistius_poutassou', 'Solea_solea',\n",
       "       'Dicentrarchus_labrax', 'Sparus_aurata', 'Lepidorhombus_boscii',\n",
       "       'Mullus_surmuletus', 'Thunnus_thynnus', 'Balistes_capriscus',\n",
       "       'Galeichthys_feliceps', 'Trichiurus_lepturus', 'Scomber_japonicus',\n",
       "       'Micromesistius_australis', 'Discopyge_tschudii',\n",
       "       'Zearaja_chilensis', 'Psammobatis_scobina', 'Psammobatis_normani',\n",
       "       'Bathyraja_brachyurops', 'Bathyraja_macloviana',\n",
       "       'Bathyraja_scaphiops', 'Callorhinchus_callorynchus',\n",
       "       'Bassanago_albescens', 'Salilota_australis',\n",
       "       'Notophycis_marginata', 'Macruronus_magellanicus',\n",
       "       'Merluccius_australis', 'Merluccius_hubbsi',\n",
       "       'Coelorinchus_fasciatus', 'Genypterus_blacodes',\n",
       "       'Sebastes_oculatus', 'Prionotus_nudigula',\n",
       "       'Congiopodus_peruvianus', 'Acanthistius_brasilianus',\n",
       "       'Brama_brama', 'Iluocoetes_fimbriatus', 'Cottoperca_gobio',\n",
       "       'Parona_signata', 'Nemadactylus_bergi', 'Dissostichus_eleginoides',\n",
       "       'Patagonotothen_ramsayi', 'Pseudopercis_semifasciata',\n",
       "       'Seriolella_punctata', 'Stromateus_brasiliensis',\n",
       "       'Cottunculus_granulosus', 'Paralichthys_patagonicus',\n",
       "       'Mancopsetta_maculata', 'Squalus_acanthias',\n",
       "       'Schroederichthys_bivius', 'Nemipterus_japonicus',\n",
       "       'Thaleichthys_pacificus', 'Mallotus_villosus',\n",
       "       'Ammodytes_hexapterus', 'Trichodon_trichodon', 'Lumpenus',\n",
       "       'Osmerus_mordax', 'Theragra_chalcogramma', 'Zaprora_silenus',\n",
       "       'Hypomesus_pretiosus', 'Pleurogrammus_monopterygius',\n",
       "       'Clupea_harengus', 'Aphanopus_carbo', 'Pampus_argenteus',\n",
       "       'Stolephorus_tri', 'Johnius_belangerii', 'Scomberomorus_guttatus',\n",
       "       'Platycephalus_indicus', 'Xenentodon_cancila', 'Eleotris_fusca',\n",
       "       'Tenualosa_ilisha', 'Trachurus_trachurus', 'Alosa_fallax',\n",
       "       'Belone_belone', 'Raja_clavata', 'Centropomus_parallelus',\n",
       "       'Macrodon_ancylodon', 'Micropogonias_furnieri', 'Mugil_liza',\n",
       "       'Gadus_macrocephalus', 'Ophiodon_elongatus', 'Sebastes_flavidus',\n",
       "       'Sebastes_pinniger', 'Sebastes_melanops', 'Microstomus_pacificus',\n",
       "       'Isopsetta_isolepis', 'Parophrys_vetulus', 'Platichthys_stellatus',\n",
       "       'Merluccius_productus', 'Oncorhynchus_tshawytscha',\n",
       "       'Thunnus_alalunga', 'Oncorhynchus_gorbuscha', 'Sardinops_sagax',\n",
       "       'Clupea_pallasii_pallasii', 'Gadus_morhua',\n",
       "       'Lepidonotothen_squamifrons', 'Pagothenia_borchgrevinki',\n",
       "       'Pleuragramma_antarctica', 'Trematomus_bernacchii',\n",
       "       'Trematomus_eulepidotus', 'Trematomus_hansoni',\n",
       "       'Trematomus_lepidorhinus', 'Trematomus_pennellii',\n",
       "       'Trematomus_scotti', 'Electrona_antarctica',\n",
       "       'Electrona_carlsbergi', 'Gymnoscopelus_braueri',\n",
       "       'Gymnoscopelus_nicholsi', 'Bathylagus_antarcticus',\n",
       "       'Macruronus_novaezelandiae', 'Lepidorhynchus_denticulatus',\n",
       "       'Pseudophycis_bachus', 'Hemerocoetes', 'Oncorhynchus_mykiss',\n",
       "       'Pagellus_erythrinus', 'Salmo_salar', 'Polyprion_americanus',\n",
       "       'Euthynnus_alletteratus', 'Dicenctrarcchus_punctatus',\n",
       "       'Pagellus_bogaraveo', 'Dentex_dentex', 'Galeorhinus_galeus',\n",
       "       'Pagrus_auriga', 'Xiphias_gladius', 'Pleuronectes_platessa',\n",
       "       'Lophius_piscatorius', 'Scophthalmus_maximus',\n",
       "       'Mullus_barbatus_barbatus', 'Sarpa_salpa',\n",
       "       'Diplodus_sargus_sargus', 'Lepidorhombus_whiffiagonis',\n",
       "       'Sprattus_sprattus', 'Ponticola_ratan', 'Trachurus_mediterraneus',\n",
       "       'Alosa_immaculata', 'Coregonus_albula', 'Coilia_dussumieri',\n",
       "       'Setipinna_taty', 'Protonibea_diacanthus', 'Corica_soborna',\n",
       "       'Lates_calcarifer', 'Glossogobius_giuris',\n",
       "       'Leptomelanosoma_indicum', 'Scomberomorus_commerson',\n",
       "       'Chelon_parsia', 'Parastromateus_niger', 'Pampus_chinensis',\n",
       "       'Euthynnus_affinis', 'Lutjanus_malabaricus',\n",
       "       'Epinephelus_sexfasciatus', 'Seriolina_nigrofasciata',\n",
       "       'Centroscymnus_coelolepis', 'Centroscyllium_fabricii',\n",
       "       'Centrophorus_squamosus', 'Etmopterus_princeps',\n",
       "       'Hydrolagus_affinis', 'Deania_calcea', 'Alepocephalus_bairdii',\n",
       "       'Alepocephalus_agassizii', 'Notothenia_neglecta',\n",
       "       'Gobionotothen_gibberifrons', 'Chaenocephalus_aceratus',\n",
       "       'Champsocephalus_gunnari', 'Albatrossia_pectoralis',\n",
       "       'Atheresthes_stomias', 'Anoplopoma_fimbria',\n",
       "       'Hyperoglyphe_antarctica', 'Odax_pullus', 'Hyporhamphus_ihi',\n",
       "       'Polyprion_oxygeneios', 'Arripis_trutta', 'Mustelus_lenticulatus',\n",
       "       'Sardina_pilchardus', 'Chelidonichthys_lucerna',\n",
       "       'Pampus_punctatissimus', 'Thunnus_orientalis',\n",
       "       'Sardinella_maderensis', 'Sardinella_aurita',\n",
       "       'Cephalopholis_taeniops', 'Sciaena_umbra', 'Diplodus_puntazzo',\n",
       "       'Scorpaena_scrofa', 'Scorpaena_porcus', 'Boops_boops',\n",
       "       'Mugil_cephalus', 'Scopthalmus_maeoticus', 'Alectis_alexandrina',\n",
       "       'Chelidonichthys_cuculus', 'Bothus_podas', 'Caranx_crysos',\n",
       "       'Chelon_labrosus', 'Diplodus_annularis',\n",
       "       'Lagocepahlus_lagocephalus', 'Lithognathus_mormyrus',\n",
       "       'Liza_aurata', 'Liza_carinata', 'Liza_ramada', 'Liza_saliens',\n",
       "       'Lophius_budegassa', 'Mycteroperca_rubra',\n",
       "       'Pagrus_caeruleostictus', 'Pegusa_lascaris', 'Phycis_phycis',\n",
       "       'Saurida_undosquamis', 'Sillago_sihama',\n",
       "       'Clupeonella_cultriventris', 'Limanda_aspera',\n",
       "       'Hippoglossus_hippoglossus', 'Sarda_orientalis',\n",
       "       'Spondyliosoma_cantharus', 'Sarda_sarda', 'Zeus_faber',\n",
       "       'Sparisoma_cretense', 'Trisopterus_minutus',\n",
       "       'Pagellus_centrodontus', 'Oblada_melanura', 'Merlangius_merlangus',\n",
       "       'Katsuwonus_pelamis', 'Siganus_rivulatus', 'Megalapsis_cordyla',\n",
       "       'Eleutheronema_tetradactylum', 'Ethmalosa_fimbriata',\n",
       "       'Tenualosa_macroura', 'Lutjanus_johnii',\n",
       "       'Lutjanus_argentimaculatus', 'Trachinotus_blochii',\n",
       "       'Cynoglossus_arel', 'Serranus_scriba', 'Isurus_oxyrinchus',\n",
       "       'Lamna_nasus', 'Sardinella_brasiliensis', 'Aluterus_monoceros',\n",
       "       'Scomber_colias', 'Pomatomus_saltatrix', 'Morone_saxatilis',\n",
       "       'Pagrus_pagrus', 'Trachurus_lathami', 'Decapterus_punctatus',\n",
       "       'Etrumeus_teres', 'Ariomma_bondi', 'Atherina_boyeri',\n",
       "       'Reinhardtius_hippoglossoides', 'Melanogrammus_aeglefinus',\n",
       "       'Cyclopterus_lumpus', 'Pollachius_virens', 'Sebastes_mentella',\n",
       "       'Sebastes_norvegicus', 'Anarhichas_lupus', 'Gymnura', 'Plotosus',\n",
       "       'Atherina', 'Sardinella', 'Dentex', 'Salvelinus_fontinalis',\n",
       "       'Huso_huso', 'Anguilla_japonica', 'Salvelinus_alpinus_alpinus',\n",
       "       'Myoxocephalus_scorpius', 'Coregonus_autumnalis',\n",
       "       'Stenodus_leucichthys', 'Epinephelus', 'Eubleekeria_splendens',\n",
       "       'Rastrelliger_kanagurta', 'Sardinella_longiceps',\n",
       "       'Stolephorus_commersonnii', 'Stolephorus_waitei',\n",
       "       'Thunnus_albacares', 'Etrumeus_sadina', 'Harpadon_nehereus',\n",
       "       'Rexea_solandri', 'Argyrosomus_hololepidotus', 'Alosa_alosa',\n",
       "       'Mugil', 'Arius_maculatus', 'Diaphus_suborbitalis',\n",
       "       'Benthosema_pterotum', 'Seriola_lalandi',\n",
       "       'Parupeneus_trifasciatus', 'Chelinus_undulates'], dtype=object)"
      ]
     },
     "execution_count": 47,
     "metadata": {},
     "output_type": "execute_result"
    }
   ],
   "source": [
    "out.Species_from_search[np.isnan(out.DepthRangeDeep)].unique()"
   ]
  },
  {
   "cell_type": "code",
   "execution_count": null,
   "metadata": {},
   "outputs": [],
   "source": []
  },
  {
   "cell_type": "code",
   "execution_count": 48,
   "metadata": {},
   "outputs": [
    {
     "data": {
      "text/plain": [
       "array([1.00000000e+00, 2.00000000e+00, 5.00000000e+00, 6.00000000e+00,\n",
       "       7.00000000e+00, 9.46600000e+00, 9.46666667e+00, 9.66666667e+00,\n",
       "       1.00000000e+01, 1.20000000e+01, 1.30000000e+01, 1.60000000e+01,\n",
       "       1.80000000e+01, 2.00000000e+01, 2.20000000e+01, 2.30000000e+01,\n",
       "       2.50000000e+01, 2.70000000e+01, 3.00000000e+01, 3.90000000e+01,\n",
       "       4.00000000e+01, 4.73846154e+01, 5.00000000e+01, 5.16666667e+01,\n",
       "       5.30000000e+01, 5.60000000e+01, 6.00000000e+01, 7.00000000e+01,\n",
       "       7.26666667e+01, 7.51157895e+01, 7.80000000e+01, 8.00000000e+01,\n",
       "       8.11111111e+01, 9.00000000e+01, 9.50000000e+01, 9.85333333e+01,\n",
       "       1.00000000e+02, 1.05000000e+02, 1.07058824e+02, 1.10000000e+02,\n",
       "       1.10882353e+02, 1.15000000e+02, 1.16000000e+02, 1.18166667e+02,\n",
       "       1.20000000e+02, 1.21000000e+02, 1.25000000e+02, 1.28000000e+02,\n",
       "       1.33000000e+02, 1.47212121e+02, 1.50000000e+02, 1.53500000e+02,\n",
       "       1.58141026e+02, 1.65000000e+02, 1.68000000e+02, 1.70000000e+02,\n",
       "       1.80000000e+02, 2.00000000e+02, 2.10000000e+02, 2.37000000e+02,\n",
       "       2.50000000e+02, 2.60000000e+02, 2.74000000e+02, 2.75000000e+02,\n",
       "       2.77500000e+02, 2.80000000e+02, 2.81000000e+02, 2.90000000e+02,\n",
       "       3.00000000e+02, 3.10000000e+02, 3.13000000e+02, 3.18000000e+02,\n",
       "       3.28000000e+02, 3.44333333e+02, 3.50000000e+02, 3.64000000e+02,\n",
       "       3.66000000e+02, 3.75000000e+02, 4.00000000e+02, 4.09000000e+02,\n",
       "       4.10663044e+02, 4.25000000e+02, 4.29000000e+02, 4.40000000e+02,\n",
       "       4.50000000e+02, 4.51000000e+02, 4.60000000e+02, 4.64000000e+02,\n",
       "       4.75000000e+02, 4.89500000e+02, 5.00000000e+02, 5.49000000e+02,\n",
       "       5.50000000e+02, 5.75000000e+02, 5.76666667e+02, 5.77000000e+02,\n",
       "       5.89000000e+02, 6.00000000e+02, 6.20000000e+02, 6.50000000e+02,\n",
       "       6.75000000e+02, 6.93333333e+02, 7.00000000e+02, 7.15000000e+02,\n",
       "       7.25000000e+02, 7.28000000e+02, 7.32000000e+02, 7.40000000e+02,\n",
       "       7.70000000e+02, 7.93000000e+02, 8.00000000e+02, 8.25000000e+02,\n",
       "       8.38000000e+02, 8.54000000e+02, 8.60000000e+02, 8.68000000e+02,\n",
       "       9.00000000e+02, 9.17500000e+02, 9.85000000e+02, 1.00000000e+03,\n",
       "       1.05000000e+03, 1.06900000e+03, 1.07500000e+03, 1.08600000e+03,\n",
       "       1.10000000e+03, 1.11500000e+03, 1.20000000e+03, 1.25000000e+03,\n",
       "       1.28000000e+03, 1.37000000e+03, 1.37397872e+03, 1.44100000e+03,\n",
       "       1.46000000e+03, 1.49000000e+03, 1.50000000e+03, 1.53700000e+03,\n",
       "       1.60000000e+03, 1.70000000e+03, 1.81666667e+03, 1.87300000e+03,\n",
       "       2.00000000e+03, 2.00500000e+03, 2.20000000e+03, 2.21300000e+03,\n",
       "       2.40000000e+03, 2.50000000e+03, 2.70000000e+03, 3.00000000e+03,\n",
       "       3.70000000e+03, 3.85000000e+03, 4.00000000e+03,            nan])"
      ]
     },
     "execution_count": 48,
     "metadata": {},
     "output_type": "execute_result"
    }
   ],
   "source": [
    "np.sort(out.DepthRangeDeep.unique())"
   ]
  },
  {
   "cell_type": "code",
   "execution_count": 49,
   "metadata": {},
   "outputs": [
    {
     "data": {
      "text/plain": [
       "array([  4.1       ,   5.3       ,   7.        ,   7.3       ,\n",
       "         8.        ,   8.19999981,   9.        ,   9.5       ,\n",
       "         9.6       ,  10.        ,  11.        ,  12.        ,\n",
       "        12.3       ,  12.5       ,  12.52      ,  13.        ,\n",
       "        13.19999981,  14.        ,  14.5       ,  15.        ,\n",
       "        15.1       ,  15.30000019,  15.32500017,  15.8       ,\n",
       "        16.        ,  16.1       ,  17.        ,  17.03809525,\n",
       "        17.87      ,  18.        ,  19.        ,  20.        ,\n",
       "        21.        ,  21.66      ,  22.        ,  22.1       ,\n",
       "        22.60000038,  23.        ,  24.        ,  24.7750001 ,\n",
       "        25.        ,  26.        ,  27.        ,  27.5       ,\n",
       "        28.        ,  28.76      ,  30.        ,  30.5       ,\n",
       "        30.95749995,  31.        ,  32.        ,  32.2542    ,\n",
       "        33.        ,  33.2       ,  34.        ,  34.5       ,\n",
       "        35.        ,  35.58000183,  35.6       ,  36.        ,\n",
       "        37.        ,  38.        ,  38.09      ,  38.2       ,\n",
       "        39.        ,  39.47999954,  39.5       ,  40.        ,\n",
       "        40.5       ,  41.        ,  42.        ,  43.51578953,\n",
       "        44.        ,  45.        ,  45.833333  ,  46.        ,\n",
       "        47.        ,  48.        ,  48.29333346,  48.51428563,\n",
       "        49.        ,  50.        ,  50.2       ,  50.89      ,\n",
       "        51.        ,  51.04846162,  52.        ,  53.0857143 ,\n",
       "        53.8       ,  55.        ,  56.5       ,  58.        ,\n",
       "        59.        ,  60.        ,  61.        ,  61.7       ,\n",
       "        63.        ,  63.5       ,  64.        ,  64.19999695,\n",
       "        65.        ,  66.        ,  69.        ,  70.        ,\n",
       "        72.        ,  73.        ,  75.        ,  76.        ,\n",
       "        79.        ,  79.1       ,  80.        ,  82.        ,\n",
       "        83.39770115,  85.        ,  86.        ,  87.        ,\n",
       "        88.        ,  89.        ,  89.2       ,  90.        ,\n",
       "        91.        ,  91.40000153,  93.        ,  94.2       ,\n",
       "        95.        ,  97.        , 100.        , 103.        ,\n",
       "       105.        , 107.        , 107.9499969 , 108.148718  ,\n",
       "       110.        , 111.        , 112.        , 114.9       ,\n",
       "       115.        , 115.4       , 120.        , 122.        ,\n",
       "       124.        , 130.        , 132.        , 137.        ,\n",
       "       140.        , 142.        , 144.        , 150.        ,\n",
       "       151.62      , 152.        , 155.        , 160.        ,\n",
       "       161.4       , 164.        , 170.        , 175.        ,\n",
       "       180.        , 182.        , 183.        , 193.        ,\n",
       "       200.        , 210.        , 215.        , 222.        ,\n",
       "       229.        , 234.        , 239.        , 240.        ,\n",
       "       244.        , 250.        , 264.812     , 275.        ,\n",
       "       300.        , 323.6245955 , 350.        , 400.        ,\n",
       "       455.        , 458.        , 470.        , 500.        ,\n",
       "       800.        ])"
      ]
     },
     "execution_count": 49,
     "metadata": {},
     "output_type": "execute_result"
    }
   ],
   "source": [
    "np.sort(out.LMax.unique())"
   ]
  },
  {
   "cell_type": "code",
   "execution_count": 50,
   "metadata": {},
   "outputs": [
    {
     "data": {
      "text/plain": [
       "array(['elongate', 'flat', 'fusiform', 'short_deep'], dtype=object)"
      ]
     },
     "execution_count": 50,
     "metadata": {},
     "output_type": "execute_result"
    }
   ],
   "source": [
    "np.sort(out.BodyShapeI.unique())"
   ]
  },
  {
   "cell_type": "code",
   "execution_count": 51,
   "metadata": {},
   "outputs": [
    {
     "data": {
      "text/plain": [
       "array([0.02      , 0.03      , 0.039     , 0.04      , 0.05      ,\n",
       "       0.06      , 0.062     , 0.0665    , 0.07      , 0.071     ,\n",
       "       0.08      , 0.08      , 0.081     , 0.084     , 0.08491667,\n",
       "       0.085     , 0.08528571, 0.087     , 0.09      , 0.09      ,\n",
       "       0.091     , 0.093     , 0.096     , 0.1       , 0.1       ,\n",
       "       0.101     , 0.1035    , 0.10721595, 0.109     , 0.109     ,\n",
       "       0.11      , 0.111     , 0.113     , 0.116     , 0.117     ,\n",
       "       0.118     , 0.119     , 0.12      , 0.12      , 0.121     ,\n",
       "       0.1225    , 0.123     , 0.124     , 0.125     , 0.13      ,\n",
       "       0.13      , 0.13044444, 0.131     , 0.13353333, 0.13500001,\n",
       "       0.13600001, 0.137     , 0.1374125 , 0.14      , 0.14      ,\n",
       "       0.14399999, 0.145     , 0.148     , 0.15      , 0.15000001,\n",
       "       0.15099999, 0.15199999, 0.15433333, 0.157     , 0.16      ,\n",
       "       0.16      , 0.162     , 0.163     , 0.16400001, 0.16472857,\n",
       "       0.16566667, 0.17      , 0.17      , 0.17033333, 0.171     ,\n",
       "       0.17321212, 0.17573931, 0.1771    , 0.178     , 0.18      ,\n",
       "       0.18000001, 0.184     , 0.185     , 0.18700001, 0.1888    ,\n",
       "       0.19      , 0.19      , 0.19      , 0.19058333, 0.192     ,\n",
       "       0.196     , 0.1970217 , 0.19738276, 0.198     , 0.19800001,\n",
       "       0.2       , 0.2       , 0.206     , 0.20900001, 0.20999999,\n",
       "       0.21      , 0.218     , 0.22      , 0.22      , 0.22213211,\n",
       "       0.228     , 0.23      , 0.23      , 0.23299999, 0.235     ,\n",
       "       0.236     , 0.23748276, 0.2376    , 0.238     , 0.23899999,\n",
       "       0.23999999, 0.243     , 0.243     , 0.249     , 0.24936323,\n",
       "       0.25      , 0.25096   , 0.2525814 , 0.2538    , 0.25499999,\n",
       "       0.25880929, 0.25904297, 0.25999999, 0.26199999, 0.2624316 ,\n",
       "       0.27000001, 0.271     , 0.27599999, 0.27690909, 0.2795    ,\n",
       "       0.287     , 0.2878    , 0.28900001, 0.28999999, 0.29      ,\n",
       "       0.29256355, 0.29413208, 0.29526655, 0.29800001, 0.3       ,\n",
       "       0.3       , 0.30000001, 0.30433333, 0.30596667, 0.307     ,\n",
       "       0.308     , 0.30875001, 0.31      , 0.31      , 0.31299999,\n",
       "       0.313     , 0.315     , 0.316     , 0.31799999, 0.31885261,\n",
       "       0.31999999, 0.32      , 0.329     , 0.33      , 0.33000001,\n",
       "       0.33122308, 0.33790909, 0.34      , 0.34      , 0.342     ,\n",
       "       0.343     , 0.35      , 0.35177343, 0.35269231, 0.357     ,\n",
       "       0.36      , 0.36000001, 0.36199999, 0.36500001, 0.37      ,\n",
       "       0.37000001, 0.37613708, 0.37999999, 0.38      , 0.382     ,\n",
       "       0.384     , 0.38999999, 0.39389552, 0.39399999, 0.39646905,\n",
       "       0.4       , 0.40000001, 0.41      , 0.41      , 0.41800001,\n",
       "       0.41840294, 0.41999999, 0.425     , 0.43      , 0.44      ,\n",
       "       0.44400001, 0.44999999, 0.4525    , 0.454     , 0.46099999,\n",
       "       0.46371429, 0.46399999, 0.47      , 0.47      , 0.47299999,\n",
       "       0.48      , 0.48300001, 0.48692239, 0.49000001, 0.5       ,\n",
       "       0.50999999, 0.51      , 0.51849818, 0.52365625, 0.52999997,\n",
       "       0.53      , 0.53100002, 0.53585714, 0.54629619, 0.55000001,\n",
       "       0.57      , 0.58723694, 0.59500003, 0.60355573, 0.61666667,\n",
       "       0.63700002, 0.654     , 0.66      , 0.66761037, 0.69      ,\n",
       "       0.69800001, 0.69999999, 0.7       , 0.70999998, 0.71      ,\n",
       "       0.71633333, 0.71899998, 0.72509678, 0.75      , 0.75999999,\n",
       "       0.778     , 0.7856715 , 0.80000001, 0.85452381, 0.9       ,\n",
       "       0.90909091, 0.912     , 0.92      , 0.9225    , 0.95266667,\n",
       "       0.95599997, 0.96      , 1.        , 1.02      , 1.02999997,\n",
       "       1.05      , 1.07      , 1.1       , 1.11500001, 1.1375    ,\n",
       "       1.16272727, 1.29333333, 1.39      , 1.4       , 1.45      ,\n",
       "       1.45000005, 1.5       , 1.65      , 1.80999994, 2.77      ,\n",
       "       3.93966667, 4.2366729 ])"
      ]
     },
     "execution_count": 51,
     "metadata": {},
     "output_type": "execute_result"
    }
   ],
   "source": [
    "np.sort(out.K.unique())"
   ]
  },
  {
   "cell_type": "code",
   "execution_count": 52,
   "metadata": {},
   "outputs": [
    {
     "data": {
      "text/plain": [
       "array([ 0.4       ,  0.5       ,  0.5008605 ,  0.5107421 ,  0.53498147,\n",
       "        0.56868269,  0.6       ,  0.62172303,  0.6922428 ,  0.7       ,\n",
       "        0.772142  ,  0.7939364 ,  0.8       ,  0.8015776 ,  0.82793668,\n",
       "        0.87723556,  0.9       ,  0.90370642,  0.9204233 ,  0.9337703 ,\n",
       "        0.9414889 ,  0.9472714 ,  0.95000548,  0.99900434,  1.        ,\n",
       "        1.00236669,  1.010677  ,  1.02122152,  1.022433  ,  1.08703613,\n",
       "        1.1       ,  1.13326914,  1.142547  ,  1.19487854,  1.22413702,\n",
       "        1.23149135,  1.3       ,  1.30164839,  1.3073505 ,  1.316123  ,\n",
       "        1.32164794,  1.34480006,  1.37678   ,  1.384019  ,  1.38963222,\n",
       "        1.390072  ,  1.4       ,  1.40532   ,  1.40885   ,  1.411942  ,\n",
       "        1.418672  ,  1.41939248,  1.42652644,  1.43524   ,  1.5       ,\n",
       "        1.515498  ,  1.52996036,  1.53045   ,  1.553669  ,  1.55741994,\n",
       "        1.558404  ,  1.571342  ,  1.59151   ,  1.6       ,  1.60349842,\n",
       "        1.6133444 ,  1.631748  ,  1.640862  ,  1.66429   ,  1.68643106,\n",
       "        1.7       ,  1.727853  ,  1.729073  ,  1.74076665,  1.746547  ,\n",
       "        1.76795553,  1.798759  ,  1.8       ,  1.81491012,  1.82318045,\n",
       "        1.823628  ,  1.830759  ,  1.84463387,  1.847685  ,  1.87580025,\n",
       "        1.9       ,  1.91910703,  1.94587206,  1.9460654 ,  1.946903  ,\n",
       "        1.955464  ,  1.961502  ,  1.973593  ,  1.987177  ,  2.        ,\n",
       "        2.036024  ,  2.04339   ,  2.04685   ,  2.06078313,  2.06241   ,\n",
       "        2.065531  ,  2.1       ,  2.103572  ,  2.15041595,  2.161476  ,\n",
       "        2.16263619,  2.169573  ,  2.17315865,  2.2       ,  2.210949  ,\n",
       "        2.22305176,  2.237673  ,  2.239414  ,  2.24424307,  2.24982   ,\n",
       "        2.271098  ,  2.291419  ,  2.292652  ,  2.3       ,  2.30278842,\n",
       "        2.34046225,  2.367911  ,  2.371179  ,  2.380662  ,  2.39048581,\n",
       "        2.396007  ,  2.4       ,  2.425964  ,  2.4364267 ,  2.477548  ,\n",
       "        2.5       ,  2.52806771,  2.53444552,  2.55      ,  2.555557  ,\n",
       "        2.577892  ,  2.57792093,  2.58696739,  2.6       ,  2.628342  ,\n",
       "        2.63526744,  2.636997  ,  2.657964  ,  2.663402  ,  2.66424623,\n",
       "        2.67697966,  2.67940206,  2.679695  ,  2.7       ,  2.704648  ,\n",
       "        2.70628434,  2.72      ,  2.73016302,  2.73449741,  2.744573  ,\n",
       "        2.761553  ,  2.7625    ,  2.76446808,  2.79808716,  2.81317479,\n",
       "        2.847144  ,  2.869968  ,  2.893073  ,  2.907091  ,  2.91665209,\n",
       "        2.920385  ,  2.9252906 ,  2.938296  ,  2.957005  ,  2.964908  ,\n",
       "        2.969132  ,  2.970896  ,  3.        ,  3.004809  ,  3.019222  ,\n",
       "        3.02256069,  3.02470375,  3.04060531,  3.068445  ,  3.082266  ,\n",
       "        3.08871204,  3.1       ,  3.10447387,  3.123802  ,  3.13668899,\n",
       "        3.15865   ,  3.186096  ,  3.2       ,  3.211653  ,  3.21646318,\n",
       "        3.222996  ,  3.26319   ,  3.272749  ,  3.278801  ,  3.312731  ,\n",
       "        3.351622  ,  3.36410492,  3.4       ,  3.40647115,  3.409833  ,\n",
       "        3.41797367,  3.4342056 ,  3.4367765 ,  3.45393908,  3.5       ,\n",
       "        3.514558  ,  3.546896  ,  3.581794  ,  3.6       ,  3.60207854,\n",
       "        3.7       ,  3.73097426,  3.7556226 ,  3.78604201,  3.8       ,\n",
       "        3.83061191,  3.83499342,  3.842584  ,  3.87121627,  3.87878692,\n",
       "        3.87925748,  3.9       ,  3.906506  ,  3.956981  ,  3.983557  ,\n",
       "        3.99700221,  4.        ,  4.03621184,  4.1       ,  4.150073  ,\n",
       "        4.170068  ,  4.171139  ,  4.199469  ,  4.2       ,  4.285416  ,\n",
       "        4.291893  ,  4.297659  ,  4.3       ,  4.31781513,  4.37458337,\n",
       "        4.4       ,  4.485883  ,  4.5       ,  4.539633  ,  4.54055   ,\n",
       "        4.5935249 ,  4.7       ,  4.710542  ,  4.731096  ,  4.748702  ,\n",
       "        4.787212  ,  4.8       ,  4.805712  ,  4.831787  ,  4.858615  ,\n",
       "        4.924963  ,  4.942675  ,  4.942871  ,  5.        ,  5.043384  ,\n",
       "        5.08352   ,  5.1       ,  5.109749  ,  5.239804  ,  5.24879   ,\n",
       "        5.256953  ,  5.266278  ,  5.287427  ,  5.3       ,  5.331634  ,\n",
       "        5.359694  ,  5.4       ,  5.406501  ,  5.479939  ,  5.6       ,\n",
       "        5.688578  ,  5.710003  ,  5.897822  ,  5.929621  ,  5.940837  ,\n",
       "        5.99243   ,  6.        ,  6.09629106,  6.098522  ,  6.1       ,\n",
       "        6.15794328,  6.257382  ,  6.307899  ,  6.43049   ,  6.462686  ,\n",
       "        6.47643803,  6.54084861,  6.581779  ,  6.6       ,  6.645092  ,\n",
       "        7.        ,  7.242646  ,  7.32062078,  7.395428  ,  7.4       ,\n",
       "        7.5       ,  7.6       ,  7.60722999,  7.64818182,  7.653793  ,\n",
       "        7.8       ,  8.116818  ,  8.239519  ,  8.45021   ,  8.58332   ,\n",
       "        8.8       ,  9.7       , 10.53358   , 10.8       , 12.183333  ,\n",
       "       12.2       , 12.7       , 14.6       , 15.9       , 16.10192   ,\n",
       "       17.733     , 25.1       ])"
      ]
     },
     "execution_count": 52,
     "metadata": {},
     "output_type": "execute_result"
    }
   ],
   "source": [
    "np.sort(out.tm.unique())"
   ]
  },
  {
   "cell_type": "code",
   "execution_count": 53,
   "metadata": {},
   "outputs": [
    {
     "data": {
      "text/plain": [
       "array(['Expert', 'FAO', 'WOS'], dtype=object)"
      ]
     },
     "execution_count": 53,
     "metadata": {},
     "output_type": "execute_result"
    }
   ],
   "source": [
    "np.sort(out.Search.unique())"
   ]
  },
  {
   "cell_type": "code",
   "execution_count": 54,
   "metadata": {},
   "outputs": [
    {
     "data": {
      "text/plain": [
       "array(['muscle', 'not specified', 'unknown', 'whole', 'whole_parts'],\n",
       "      dtype=object)"
      ]
     },
     "execution_count": 54,
     "metadata": {},
     "output_type": "execute_result"
    }
   ],
   "source": [
    "np.sort(out.Form_Clean.unique())"
   ]
  },
  {
   "cell_type": "code",
   "execution_count": 55,
   "metadata": {},
   "outputs": [],
   "source": [
    "# np.sort(fdata.Prep.unique())"
   ]
  },
  {
   "cell_type": "code",
   "execution_count": 56,
   "metadata": {},
   "outputs": [],
   "source": [
    "out.to_csv('MeasuredNutrients.csv')"
   ]
  },
  {
   "cell_type": "code",
   "execution_count": 57,
   "metadata": {
    "scrolled": false
   },
   "outputs": [
    {
     "data": {
      "text/plain": [
       "array(['Merluccius_merluccius', 'Scomber_scombrus',\n",
       "       'Merluccius_gayi_gayi', 'Engraulis_encrasicolus',\n",
       "       'Lophius_piscatorius', 'Prionace_glauca',\n",
       "       'Micromesistius_poutassou', 'Galeus_melastomus', 'Solea_solea',\n",
       "       'Dicentrarchus_labrax', 'Sparus_aurata', 'Lepidorhombus_boscii',\n",
       "       'Mullus_surmuletus', 'Salmo_salar', 'Sardina_pilchardus',\n",
       "       'Trachurus_trachurus', 'Xiphias_gladius', 'Thunnus_thynnus',\n",
       "       'Balistes_capriscus', 'Clupea_harengus', 'Galeichthys_feliceps',\n",
       "       'Trichiurus_lepturus', 'Scomber_japonicus',\n",
       "       'Micromesistius_australis', 'Discopyge_tschudii',\n",
       "       'Zearaja_chilensis', 'Psammobatis_scobina', 'Psammobatis_normani',\n",
       "       'Bathyraja_brachyurops', 'Bathyraja_macloviana',\n",
       "       'Bathyraja_scaphiops', 'Callorhinchus_callorynchus',\n",
       "       'Bassanago_albescens', 'Salilota_australis',\n",
       "       'Notophycis_marginata', 'Macruronus_magellanicus',\n",
       "       'Merluccius_australis', 'Merluccius_hubbsi',\n",
       "       'Coelorinchus_fasciatus', 'Genypterus_blacodes',\n",
       "       'Sebastes_oculatus', 'Prionotus_nudigula',\n",
       "       'Congiopodus_peruvianus', 'Acanthistius_brasilianus',\n",
       "       'Brama_brama', 'Iluocoetes_fimbriatus', 'Cottoperca_gobio',\n",
       "       'Parona_signata', 'Nemadactylus_bergi', 'Dissostichus_eleginoides',\n",
       "       'Patagonotothen_ramsayi', 'Pseudopercis_semifasciata',\n",
       "       'Seriolella_punctata', 'Stromateus_brasiliensis',\n",
       "       'Cottunculus_granulosus', 'Paralichthys_patagonicus',\n",
       "       'Mancopsetta_maculata', 'Squalus_acanthias',\n",
       "       'Schroederichthys_bivius', 'Nemipterus_japonicus',\n",
       "       'Thaleichthys_pacificus', 'Mallotus_villosus',\n",
       "       'Ammodytes_hexapterus', 'Trichodon_trichodon', 'Lumpenus',\n",
       "       'Osmerus_mordax', 'Theragra_chalcogramma', 'Zaprora_silenus',\n",
       "       'Hypomesus_pretiosus', 'Pleurogrammus_monopterygius',\n",
       "       'Aphanopus_carbo', 'Pampus_argenteus', 'Stolephorus_tri',\n",
       "       'Johnius_belangerii', 'Scomberomorus_guttatus',\n",
       "       'Platycephalus_indicus', 'Chelon_parsia',\n",
       "       'Eleutheronema_tetradactylum', 'Sillaginopsis_panijus',\n",
       "       'Glossogobius_giuris', 'Hyporhamphus_limbatus', 'Corica_soborna',\n",
       "       'Xenentodon_cancila', 'Eleotris_fusca', 'Tenualosa_ilisha',\n",
       "       'Alosa_fallax', 'Belone_belone', 'Liza_aurata', 'Caranx_hippos',\n",
       "       'Sciaenops_ocellatus', 'Raja_clavata', 'Centropomus_parallelus',\n",
       "       'Macrodon_ancylodon', 'Micropogonias_furnieri', 'Mugil_liza',\n",
       "       'Gadus_macrocephalus', 'Ophiodon_elongatus', 'Sebastes_flavidus',\n",
       "       'Sebastes_pinniger', 'Sebastes_melanops', 'Microstomus_pacificus',\n",
       "       'Isopsetta_isolepis', 'Parophrys_vetulus', 'Platichthys_stellatus',\n",
       "       'Merluccius_productus', 'Oncorhynchus_tshawytscha',\n",
       "       'Thunnus_alalunga', 'Oncorhynchus_gorbuscha', 'Sardinops_sagax',\n",
       "       'Clupea_pallasii_pallasii', 'Gadus_morhua', 'Coregonus_albula',\n",
       "       'Coregonus', 'Oncorhynchus_mykiss', 'Atherina_boyeri',\n",
       "       'Dissostichus_mawsoni', 'Lepidonotothen_squamifrons',\n",
       "       'Pagothenia_borchgrevinki', 'Pleuragramma_antarctica',\n",
       "       'Trematomus_bernacchii', 'Trematomus_eulepidotus',\n",
       "       'Trematomus_hansoni', 'Trematomus_lepidorhinus',\n",
       "       'Trematomus_pennellii', 'Trematomus_scotti',\n",
       "       'Electrona_antarctica', 'Electrona_carlsbergi',\n",
       "       'Gymnoscopelus_braueri', 'Gymnoscopelus_nicholsi',\n",
       "       'Bathylagus_antarcticus', 'Macruronus_novaezelandiae',\n",
       "       'Lepidorhynchus_denticulatus', 'Pseudophycis_bachus',\n",
       "       'Hemerocoetes', 'Pagellus_erythrinus', 'Polyprion_americanus',\n",
       "       'Mora_moro', 'Dicologlossa_cuneata', 'Anguilla_anguilla',\n",
       "       'Euthynnus_alletteratus', 'Dicenctrarcchus_punctatus',\n",
       "       'Pagellus_bogaraveo', 'Dentex_dentex', 'Galeorhinus_galeus',\n",
       "       'Pagrus_auriga', 'Aetomylaeus_bovinus', 'Pleuronectes_platessa',\n",
       "       'Scophthalmus_maximus', 'Mullus_barbatus_barbatus', 'Sarpa_salpa',\n",
       "       'Diplodus_sargus_sargus', 'Lepidorhombus_whiffiagonis',\n",
       "       'Sprattus_sprattus', 'Ponticola_ratan', 'Trachurus_mediterraneus',\n",
       "       'Alosa_immaculata', 'Coilia_dussumieri', 'Setipinna_taty',\n",
       "       'Protonibea_diacanthus', 'Lates_calcarifer',\n",
       "       'Leptomelanosoma_indicum', 'Scomberomorus_commerson',\n",
       "       'Parastromateus_niger', 'Pampus_chinensis', 'Euthynnus_affinis',\n",
       "       'Lutjanus_malabaricus', 'Epinephelus_sexfasciatus',\n",
       "       'Seriolina_nigrofasciata', 'Rastrelliger_brachysoma',\n",
       "       'Macrourus_berglax', 'Centroscymnus_coelolepis',\n",
       "       'Centroscyllium_fabricii', 'Centrophorus_squamosus',\n",
       "       'Etmopterus_princeps', 'Hydrolagus_affinis', 'Deania_calcea',\n",
       "       'Alepocephalus_bairdii', 'Alepocephalus_agassizii',\n",
       "       'Notothenia_neglecta', 'Gobionotothen_gibberifrons',\n",
       "       'Chaenocephalus_aceratus', 'Champsocephalus_gunnari',\n",
       "       'Albatrossia_pectoralis', 'Atheresthes_stomias',\n",
       "       'Anoplopoma_fimbria', 'Hyperoglyphe_antarctica', 'Odax_pullus',\n",
       "       'Hyporhamphus_ihi', 'Polyprion_oxygeneios', 'Arripis_trutta',\n",
       "       'Mustelus_lenticulatus', 'Etrumeus_teres',\n",
       "       'Chelidonichthys_lucerna', 'Pampus_punctatissimus',\n",
       "       'Thunnus_orientalis', 'Sardinella_maderensis', 'Sardinella_aurita',\n",
       "       'Cephalopholis_taeniops', 'Sciaena_umbra', 'Diplodus_puntazzo',\n",
       "       'Scorpaena_scrofa', 'Scorpaena_porcus', 'Boops_boops',\n",
       "       'Mugil_cephalus', 'Scopthalmus_maeoticus', 'Alectis_alexandrina',\n",
       "       'Chelidonichthys_cuculus', 'Bothus_podas', 'Caranx_crysos',\n",
       "       'Chelon_labrosus', 'Diplodus_annularis', 'Diplodus_vulgaris',\n",
       "       'Echelus_myrus', 'Helicolenus_dactylopterus',\n",
       "       'Lagocepahlus_lagocephalus', 'Lithognathus_mormyrus',\n",
       "       'Liza_carinata', 'Liza_ramada', 'Liza_saliens',\n",
       "       'Lophius_budegassa', 'Mycteroperca_rubra',\n",
       "       'Pagrus_caeruleostictus', 'Pegusa_lascaris', 'Phycis_phycis',\n",
       "       'Saurida_undosquamis', 'Sillago_sihama', 'Sphyraena_chrysotaenia',\n",
       "       'Sphyraena_sphyraena', 'Spicara_maena', 'Trachinotus_ovatus',\n",
       "       'Umbrina_cirrosa', 'Upeneus_moluccensis',\n",
       "       'Clupeonella_cultriventris', 'Limanda_aspera',\n",
       "       'Hippoglossus_hippoglossus', 'Sarda_orientalis',\n",
       "       'Spondyliosoma_cantharus', 'Sarda_sarda', 'Zeus_faber',\n",
       "       'Sparisoma_cretense', 'Trisopterus_minutus',\n",
       "       'Pagellus_centrodontus', 'Oblada_melanura', 'Katsuwonus_pelamis',\n",
       "       'Merlangius_merlangus', 'Siganus_rivulatus', 'Megalapsis_cordyla',\n",
       "       'Rastrelliger_kanagurta', 'Chirocentrus_dorab',\n",
       "       'Selaroides_leptolepis', 'Ethmalosa_fimbriata',\n",
       "       'Tenualosa_macroura', 'Lutjanus_johnii',\n",
       "       'Lutjanus_argentimaculatus', 'Trachinotus_blochii',\n",
       "       'Cynoglossus_arel', 'Dentex_maroccanus', 'Epinephelus_aeneus',\n",
       "       'Serranus_scriba', 'Gasterochisma_melampus', 'Isurus_oxyrinchus',\n",
       "       'Lampris_guttatus', 'Lamna_nasus', 'Oncorhynchus_kisutch',\n",
       "       'Pagrus_pagrus', 'Trachinus_draco', 'Trigla_lyra',\n",
       "       'Brama_japonica', 'Alosa_sapidissima', 'Mycteroperca_acutirostris',\n",
       "       'Opisthonema_oglinum', 'Sardinella_brasiliensis',\n",
       "       'Aluterus_monoceros', 'Scomber_colias', 'Brevoortia_aurea',\n",
       "       'Auxis_thazard', 'Cynoscion_jamaicensis', 'Pomatomus_saltatrix',\n",
       "       'Morone_saxatilis', 'Trachurus_lathami', 'Decapterus_punctatus',\n",
       "       'Ariomma_bondi', 'Lepidopsetta_bilineata', 'Upeneus_parvus',\n",
       "       'Syacium_gunteri', 'Cynoscion_arenarius', 'Anchoa_hepsetus',\n",
       "       'Synodus_foetens', 'Selene_vomer', 'Caulolatilus_intermedius',\n",
       "       'Cynoscion_nothus', 'Elops_saurus', 'Auxis_rochei',\n",
       "       'Dasyatis_sabina', 'Menticirrhus_americanus',\n",
       "       'Rhizoprionodon_terraenovae', 'Carcharhinus_limbatus',\n",
       "       'Reinhardtius_hippoglossoides', 'Melanogrammus_aeglefinus',\n",
       "       'Cyclopterus_lumpus', 'Pollachius_virens', 'Sebastes_mentella',\n",
       "       'Sebastes_norvegicus', 'Anarhichas_lupus', 'Gymnura', 'Plotosus',\n",
       "       'Atherina', 'Sardinella', 'Dentex', 'Salvelinus_fontinalis',\n",
       "       'Sciades_herzbergii', 'Anguilla_rostrata', 'Clupeonella_caspia',\n",
       "       'Pogonias_cromis', 'Huso_huso', 'Anguilla_japonica',\n",
       "       'Salvelinus_alpinus_alpinus', 'Myoxocephalus_scorpius',\n",
       "       'Coregonus_autumnalis', 'Stenodus_leucichthys', 'Epinephelus',\n",
       "       'Eubleekeria_splendens', 'Sardinella_longiceps',\n",
       "       'Stolephorus_commersonnii', 'Stolephorus_waitei',\n",
       "       'Thunnus_albacares', 'Etrumeus_sadina', 'Beringraja_binoculata',\n",
       "       'Raja_rhina', 'Harpadon_nehereus', 'Rexea_solandri',\n",
       "       'Argyrosomus_hololepidotus', 'Alosa_alosa', 'Spicara_smaris',\n",
       "       'Mugil', 'Arius_maculatus', 'Diaphus_watasei',\n",
       "       'Diaphus_suborbitalis', 'Benthosema_pterotum',\n",
       "       'Aldrichetta_forsteri', 'Sillaginodes_punctatus',\n",
       "       'Mustelus_antarcticus', 'Spratelloides_robustus',\n",
       "       'Epinephelus_tauvina', 'Carangoides_orthogrammus',\n",
       "       'Tylosurus_crocodilus', 'Lutjanus_gibbus', 'Seriola_lalandi',\n",
       "       'Parupeneus_trifasciatus', 'Chelinus_undulates', 'Lutjanus_bohar',\n",
       "       'Hyporhamphus_dussumieri'], dtype=object)"
      ]
     },
     "execution_count": 57,
     "metadata": {},
     "output_type": "execute_result"
    }
   ],
   "source": [
    "fdata.Species_from_search.unique()"
   ]
  },
  {
   "cell_type": "code",
   "execution_count": null,
   "metadata": {},
   "outputs": [],
   "source": []
  },
  {
   "cell_type": "code",
   "execution_count": null,
   "metadata": {},
   "outputs": [],
   "source": []
  },
  {
   "cell_type": "code",
   "execution_count": null,
   "metadata": {},
   "outputs": [],
   "source": []
  },
  {
   "cell_type": "code",
   "execution_count": null,
   "metadata": {},
   "outputs": [],
   "source": []
  },
  {
   "cell_type": "code",
   "execution_count": null,
   "metadata": {},
   "outputs": [],
   "source": []
  },
  {
   "cell_type": "code",
   "execution_count": null,
   "metadata": {},
   "outputs": [],
   "source": []
  },
  {
   "cell_type": "code",
   "execution_count": null,
   "metadata": {},
   "outputs": [],
   "source": []
  },
  {
   "cell_type": "code",
   "execution_count": null,
   "metadata": {},
   "outputs": [],
   "source": []
  }
 ],
 "metadata": {
  "kernelspec": {
   "display_name": "Python 3",
   "language": "python",
   "name": "python3"
  },
  "language_info": {
   "codemirror_mode": {
    "name": "ipython",
    "version": 3
   },
   "file_extension": ".py",
   "mimetype": "text/x-python",
   "name": "python",
   "nbconvert_exporter": "python",
   "pygments_lexer": "ipython3",
   "version": "3.8.3"
  }
 },
 "nbformat": 4,
 "nbformat_minor": 4
}
